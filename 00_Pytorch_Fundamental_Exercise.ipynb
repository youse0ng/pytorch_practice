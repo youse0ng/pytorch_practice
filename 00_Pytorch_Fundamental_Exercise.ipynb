{
  "nbformat": 4,
  "nbformat_minor": 0,
  "metadata": {
    "colab": {
      "private_outputs": true,
      "provenance": [],
      "gpuType": "T4",
      "authorship_tag": "ABX9TyNhQBrNWZoabbaGJB9RwrB0",
      "include_colab_link": true
    },
    "kernelspec": {
      "name": "python3",
      "display_name": "Python 3"
    },
    "language_info": {
      "name": "python"
    },
    "accelerator": "GPU",
    "gpuClass": "standard"
  },
  "cells": [
    {
      "cell_type": "markdown",
      "metadata": {
        "id": "view-in-github",
        "colab_type": "text"
      },
      "source": [
        "<a href=\"https://colab.research.google.com/github/youse0ng/pytorch_practice/blob/main/00_Pytorch_Fundamental_Exercise.ipynb\" target=\"_parent\"><img src=\"https://colab.research.google.com/assets/colab-badge.svg\" alt=\"Open In Colab\"/></a>"
      ]
    },
    {
      "cell_type": "markdown",
      "source": [
        "## 2. Create a random tensor with shape(7,7)"
      ],
      "metadata": {
        "id": "R2p_R9lBCbrj"
      }
    },
    {
      "cell_type": "code",
      "source": [
        "from google.colab import drive\n",
        "drive.mount(\"/content/drive\")"
      ],
      "metadata": {
        "id": "2keKWHBFdhxP"
      },
      "execution_count": null,
      "outputs": []
    },
    {
      "cell_type": "code",
      "source": [
        "import torch\n",
        "random_tensor_a= torch.rand(7,7)\n",
        "random_tensor_b= torch.rand(1,7)"
      ],
      "metadata": {
        "id": "qRJw0_WkNCb-"
      },
      "execution_count": null,
      "outputs": []
    },
    {
      "cell_type": "markdown",
      "source": [
        "## 3. Perform a matrix multiplication on the tensor from 2 with another random tensor with shape(1,7)"
      ],
      "metadata": {
        "id": "yBtUdbgDCT1s"
      }
    },
    {
      "cell_type": "code",
      "source": [
        "random_tensor_b=random_tensor_b.T\n",
        "result=torch.matmul(random_tensor_a, random_tensor_b)\n",
        "print(f\"Result of Matmul(random_tensor_a, random_tensor_b)= {result}\")"
      ],
      "metadata": {
        "id": "1WbSlw4uNInF"
      },
      "execution_count": null,
      "outputs": []
    },
    {
      "cell_type": "markdown",
      "source": [
        "## 4. Set the random seed to 0 and do it again"
      ],
      "metadata": {
        "id": "c0wKxfz2DweM"
      }
    },
    {
      "cell_type": "code",
      "source": [
        "torch.manual_seed(0)\n",
        "random_tensor_c=torch.rand(7,7)\n",
        "torch.manual_seed(0)\n",
        "random_tensor_d=torch.rand(1,7)\n",
        "\n",
        "random_tensor_c,random_tensor_d"
      ],
      "metadata": {
        "id": "n3OIWmr_NMMS"
      },
      "execution_count": null,
      "outputs": []
    },
    {
      "cell_type": "code",
      "source": [
        "result=torch.matmul(random_tensor_c,random_tensor_d.T)\n",
        "print(f\"Result is {result}\")"
      ],
      "metadata": {
        "id": "4WO8Nj6_Epzi"
      },
      "execution_count": null,
      "outputs": []
    },
    {
      "cell_type": "markdown",
      "source": [
        "## 5. Speaking of random seeds, we saw how to set it with torch.manual_seed() but is there a GPU equivalent?"
      ],
      "metadata": {
        "id": "VlDop842Ndhm"
      }
    },
    {
      "cell_type": "code",
      "source": [
        "# Speaking of random seeds, we saw how to set it with torch.manual_seed()\n",
        "# but is there a GPU equivalent?\n",
        "torch.cuda.manual_seed(1234)\n",
        "torch.manual_seed(0)\n",
        "random_tensor_c=torch.rand(7,7)\n",
        "torch.manual_seed(0)\n",
        "random_tensor_d=torch.rand(1,7)\n",
        "random_tensor_c, random_tensor_d"
      ],
      "metadata": {
        "id": "28JR8OJGDw4S"
      },
      "execution_count": null,
      "outputs": []
    },
    {
      "cell_type": "markdown",
      "source": [
        "## 6. Speaking of random seeds, we saw how to set it with torch.manual_seed() but is there a GPU equivalent?"
      ],
      "metadata": {
        "id": "IsGyzZDwDwr7"
      }
    },
    {
      "cell_type": "code",
      "source": [
        "device=\"cuda\" if torch.cuda.is_available() else \"cpu\"\n",
        "torch.cuda.manual_seed(1234)\n",
        "random_tensor_e=torch.rand(2,3,device=device)\n",
        "\n",
        "torch.cuda.manual_seed(1234)\n",
        "random_tensor_f=torch.rand(2,3,device=device)\n",
        "\n",
        "random_tensor_e,random_tensor_f"
      ],
      "metadata": {
        "id": "zPqKIFPMN1jt"
      },
      "execution_count": null,
      "outputs": []
    },
    {
      "cell_type": "markdown",
      "source": [
        "##7. Perform a matrix multiplication on the tensors you created in 6"
      ],
      "metadata": {
        "id": "hy3R1MeGMl53"
      }
    },
    {
      "cell_type": "code",
      "source": [
        "Result=torch.matmul(random_tensor_e,random_tensor_f.T)\n",
        "Result"
      ],
      "metadata": {
        "id": "rkwzCMlOOE1t"
      },
      "execution_count": null,
      "outputs": []
    },
    {
      "cell_type": "markdown",
      "source": [
        "##8. Find the maximum and minimum values of the output of 7."
      ],
      "metadata": {
        "id": "gWGAt49qOrvF"
      }
    },
    {
      "cell_type": "code",
      "source": [
        "max_value=torch.max(Result)\n",
        "min_value=torch.min(Result)\n",
        "print(f\"Maximum values of Output: {max_value}, Minimum values of Output: {min_value}\")"
      ],
      "metadata": {
        "id": "ez1-w0RgOVlt"
      },
      "execution_count": null,
      "outputs": []
    },
    {
      "cell_type": "markdown",
      "source": [
        "## 9. Find the maximum and minimum index values of the output of 7"
      ],
      "metadata": {
        "id": "dZDgbI1BP1o2"
      }
    },
    {
      "cell_type": "code",
      "source": [
        "max_index=torch.argmax(Result)\n",
        "min_index=torch.argmin(Result)\n",
        "\n",
        "max_index, min_index"
      ],
      "metadata": {
        "id": "scGKGYYSQq2E"
      },
      "execution_count": null,
      "outputs": []
    },
    {
      "cell_type": "markdown",
      "source": [
        "## 10. Make a random tensor with shape (1, 1, 1, 10) and then create a new tensor with all the 1 dimensions removed to be left with a tensor of shape (10). Set the seed to 7 when you create it and print out the first tensor and it's shape as well as the second tensor and it's shape."
      ],
      "metadata": {
        "id": "aGnKNlsDR7XT"
      }
    },
    {
      "cell_type": "code",
      "source": [
        "Random_tensor=torch.rand(1,1,1,10)\n",
        "Random_tensor_b=Random_tensor.squeeze()\n",
        "print(f\"First Tensor: {Random_tensor}\")\n",
        "print(f\"First Tensor shape: {Random_tensor.shape}\")\n",
        "print(f\"Second Tensor: {Random_tensor_b}\")\n",
        "print(f\"Second Tensor shape: {Random_tensor_b.shape}\")"
      ],
      "metadata": {
        "id": "9_-osKmZR9Gj"
      },
      "execution_count": null,
      "outputs": []
    }
  ]
}