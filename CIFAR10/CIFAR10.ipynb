{
 "cells": [
  {
   "cell_type": "markdown",
   "metadata": {},
   "source": [
    "CIFAR10 데이터셋을 이미지 분류 \n",
    "\n",
    "컴퓨터 비전 분야에서 딥러닝을 통해 \n",
    "\n",
    "가장 처음에 고안된 방안인\n",
    "\n",
    "이미지 분류를 진행해보자!\n",
    "\n",
    "CIFAR 10 데이터셋은 \n",
    "\n",
    "3*32*32 픽셀의 60000개의 컬러이미지(RGB) 데이터셋이다.\n",
    "\n",
    "클래스의 개수는 10개이며 \n",
    "\n",
    "비행기, 자동차, 새, 고양이, 사슴, 개, 개구리, 말, 배, 트럭이 있다.\n",
    "\n",
    "보통 50000개는 훈련, 10000개는 테스트데이터셋으로 구성하는 편이다."
   ]
  },
  {
   "cell_type": "markdown",
   "metadata": {},
   "source": [
    "* `torchvision` - base domain library for Pytorch computer vision\n",
    "* `torchvision.datasets` - get datasets and data loading functions for computuer vision here\n",
    "* `torchvision.models` - get pretrained computer vision models that you can leverage for your own problems\n",
    "* `torchvision.transform` - functions for manipulating your vision data (images) to be suitable foruse with an ML model\n",
    "* `torch.utils.data.Dataset` - Base dataset class for Pytorch.\n",
    "* `torch.utils.data.DataLoader` - Creates a Python iterable over a dataset"
   ]
  },
  {
   "cell_type": "code",
   "execution_count": 1,
   "metadata": {},
   "outputs": [
    {
     "name": "stderr",
     "output_type": "stream",
     "text": [
      "c:\\Users\\hyssk\\anaconda3\\envs\\pytorch_project\\lib\\site-packages\\tqdm\\auto.py:21: TqdmWarning: IProgress not found. Please update jupyter and ipywidgets. See https://ipywidgets.readthedocs.io/en/stable/user_install.html\n",
      "  from .autonotebook import tqdm as notebook_tqdm\n"
     ]
    },
    {
     "name": "stdout",
     "output_type": "stream",
     "text": [
      "cuda\n"
     ]
    }
   ],
   "source": [
    "import torch\n",
    "import torchvision # 컴퓨터 비전에 필요한 패키징\n",
    "\n",
    "from torchvision import datasets # Image 데이터셋이 있는곳\n",
    "from torchvision import transforms # 이미지 전처리(Crop, 어파인 변환 이런게 있는거 같던데)\n",
    "from torch.utils.data import Dataset # 데이터셋 클래스 상속할 때 쓰는 기반클래스\n",
    "from torch.utils.data import DataLoader # dataset을 iterable할 수 있게하는 Dataloader\n",
    "\n",
    "import matplotlib.pyplot as plt\n",
    "# agnostic code\n",
    "device = \"cuda\" if torch.cuda.is_available() else \"cpu\"\n",
    "\n",
    "print(device) # gpu 사용"
   ]
  },
  {
   "cell_type": "code",
   "execution_count": 2,
   "metadata": {},
   "outputs": [
    {
     "name": "stdout",
     "output_type": "stream",
     "text": [
      "Files already downloaded and verified\n",
      "Files already downloaded and verified\n"
     ]
    }
   ],
   "source": [
    "# 1. Getting Data (데이터셋 가져오기)\n",
    "\n",
    "train_dataset=datasets.CIFAR10(root='Data',\n",
    "                               train=True,\n",
    "                               transform=transforms.ToTensor(),\n",
    "                               target_transform=None,\n",
    "                               download=True)\n",
    "test_dataset=datasets.CIFAR10(root='Data',\n",
    "                              train=False,\n",
    "                              transform=transforms.ToTensor(),\n",
    "                              target_transform=None,\n",
    "                              download=True)\n",
    "\n"
   ]
  },
  {
   "cell_type": "code",
   "execution_count": 3,
   "metadata": {},
   "outputs": [
    {
     "name": "stdout",
     "output_type": "stream",
     "text": [
      "Dataset CIFAR10\n",
      "    Number of datapoints: 50000\n",
      "    Root location: Data\n",
      "    Split: Train\n",
      "    StandardTransform\n",
      "Transform: ToTensor()\n",
      "['__add__', '__class__', '__class_getitem__', '__delattr__', '__dict__', '__dir__', '__doc__', '__eq__', '__format__', '__ge__', '__getattribute__', '__getitem__', '__gt__', '__hash__', '__init__', '__init_subclass__', '__le__', '__len__', '__lt__', '__module__', '__ne__', '__new__', '__orig_bases__', '__parameters__', '__reduce__', '__reduce_ex__', '__repr__', '__setattr__', '__sizeof__', '__slots__', '__str__', '__subclasshook__', '__weakref__', '_check_integrity', '_format_transform_repr', '_load_meta', '_repr_indent', 'base_folder', 'class_to_idx', 'classes', 'data', 'download', 'extra_repr', 'filename', 'meta', 'root', 'target_transform', 'targets', 'test_list', 'tgz_md5', 'train', 'train_list', 'transform', 'transforms', 'url']\n",
      "50000\n",
      "{'airplane': 0, 'automobile': 1, 'bird': 2, 'cat': 3, 'deer': 4, 'dog': 5, 'frog': 6, 'horse': 7, 'ship': 8, 'truck': 9}\n",
      "['airplane', 'automobile', 'bird', 'cat', 'deer', 'dog', 'frog', 'horse', 'ship', 'truck']\n",
      "(tensor([[[0.2314, 0.1686, 0.1961,  ..., 0.6196, 0.5961, 0.5804],\n",
      "         [0.0627, 0.0000, 0.0706,  ..., 0.4824, 0.4667, 0.4784],\n",
      "         [0.0980, 0.0627, 0.1922,  ..., 0.4627, 0.4706, 0.4275],\n",
      "         ...,\n",
      "         [0.8157, 0.7882, 0.7765,  ..., 0.6275, 0.2196, 0.2078],\n",
      "         [0.7059, 0.6784, 0.7294,  ..., 0.7216, 0.3804, 0.3255],\n",
      "         [0.6941, 0.6588, 0.7020,  ..., 0.8471, 0.5922, 0.4824]],\n",
      "\n",
      "        [[0.2431, 0.1804, 0.1882,  ..., 0.5176, 0.4902, 0.4863],\n",
      "         [0.0784, 0.0000, 0.0314,  ..., 0.3451, 0.3255, 0.3412],\n",
      "         [0.0941, 0.0275, 0.1059,  ..., 0.3294, 0.3294, 0.2863],\n",
      "         ...,\n",
      "         [0.6667, 0.6000, 0.6314,  ..., 0.5216, 0.1216, 0.1333],\n",
      "         [0.5451, 0.4824, 0.5647,  ..., 0.5804, 0.2431, 0.2078],\n",
      "         [0.5647, 0.5059, 0.5569,  ..., 0.7216, 0.4627, 0.3608]],\n",
      "\n",
      "        [[0.2471, 0.1765, 0.1686,  ..., 0.4235, 0.4000, 0.4039],\n",
      "         [0.0784, 0.0000, 0.0000,  ..., 0.2157, 0.1961, 0.2235],\n",
      "         [0.0824, 0.0000, 0.0314,  ..., 0.1961, 0.1961, 0.1647],\n",
      "         ...,\n",
      "         [0.3765, 0.1333, 0.1020,  ..., 0.2745, 0.0275, 0.0784],\n",
      "         [0.3765, 0.1647, 0.1176,  ..., 0.3686, 0.1333, 0.1333],\n",
      "         [0.4549, 0.3686, 0.3412,  ..., 0.5490, 0.3294, 0.2824]]]), 6)\n"
     ]
    }
   ],
   "source": [
    "# datasets.CIFAR10를 참조한 train_dataset에 대해 확인하기\n",
    "print(train_dataset)\n",
    "print(dir(train_dataset)) # 클래스에 부여된 속성 또는 메소드를 확인할 수 있다. 'class_to_idx', 'classes'\n",
    "print(len(train_dataset))\n",
    "\n",
    "print(train_dataset.class_to_idx) # 딕셔너리 형태\n",
    "print(train_dataset.classes) # 리스트 형태 \n",
    "\n",
    "print(train_dataset.__getitem__(0)) # 인덱스 0번의 값 출력, 튜플 형태 (텐서정보(3*32*32),클래스넘버) 정보 전달\n"
   ]
  },
  {
   "cell_type": "code",
   "execution_count": 4,
   "metadata": {},
   "outputs": [
    {
     "data": {
      "image/png": "[encoded data removed]",
      "text/plain": [
       "<Figure size 640x480 with 1 Axes>"
      ]
     },
     "metadata": {},
     "output_type": "display_data"
    }
   ],
   "source": [
    "# 데이터셋 추출 후 시각화 해보기\n",
    "\n",
    "plt.figure()\n",
    "plt.imshow(train_dataset.__getitem__(0)[0].permute(1,2,0)) # torch의 텐서와 matplotlib의 rgb 순서가 달라서 변환해줘야함.\n",
    "plt.title(train_dataset.classes[train_dataset.__getitem__(0)[1]])\n",
    "plt.axis(False)\n",
    "plt.show()"
   ]
  },
  {
   "cell_type": "code",
   "execution_count": 5,
   "metadata": {},
   "outputs": [
    {
     "data": {
      "image/png": "[encoded data removed]",
      "text/plain": [
       "<Figure size 6000x6000 with 1 Axes>"
      ]
     },
     "metadata": {},
     "output_type": "display_data"
    },
    {
     "data": {
      "image/png": "[encoded data removed]",
      "text/plain": [
       "<Figure size 640x480 with 1 Axes>"
      ]
     },
     "metadata": {},
     "output_type": "display_data"
    },
    {
     "data": {
      "image/png": "[encoded data removed]",
      "text/plain": [
       "<Figure size 640x480 with 1 Axes>"
      ]
     },
     "metadata": {},
     "output_type": "display_data"
    },
    {
     "data": {
      "image/png": "[encoded data removed]",
      "text/plain": [
       "<Figure size 640x480 with 1 Axes>"
      ]
     },
     "metadata": {},
     "output_type": "display_data"
    },
    {
     "data": {
      "image/png": "[encoded data removed]",
      "text/plain": [
       "<Figure size 640x480 with 1 Axes>"
      ]
     },
     "metadata": {},
     "output_type": "display_data"
    },
    {
     "data": {
      "image/png": "[encoded data removed]",
      "text/plain": [
       "<Figure size 640x480 with 1 Axes>"
      ]
     },
     "metadata": {},
     "output_type": "display_data"
    },
    {
     "data": {
      "image/png": "[encoded data removed]",
      "text/plain": [
       "<Figure size 640x480 with 1 Axes>"
      ]
     },
     "metadata": {},
     "output_type": "display_data"
    },
    {
     "data": {
      "image/png": "[encoded data removed]",
      "text/plain": [
       "<Figure size 640x480 with 1 Axes>"
      ]
     },
     "metadata": {},
     "output_type": "display_data"
    },
    {
     "data": {
      "image/png": "[encoded data removed]",
      "text/plain": [
       "<Figure size 640x480 with 1 Axes>"
      ]
     },
     "metadata": {},
     "output_type": "display_data"
    },
    {
     "data": {
      "image/png": "[encoded data removed]",
      "text/plain": [
       "<Figure size 640x480 with 1 Axes>"
      ]
     },
     "metadata": {},
     "output_type": "display_data"
    }
   ],
   "source": [
    "# 랜덤으로 10개 정도 그려보기\n",
    "import random\n",
    "fig = plt.figure(figsize=(60,60))\n",
    "nrows,ncols=1,10\n",
    "\n",
    "for i in range(1,nrows*ncols+1):\n",
    "    random_idx = random.randint(a=0, b=len(train_dataset))\n",
    "    img, idx = train_dataset[random_idx]\n",
    "    fig.add_subplot(nrows,ncols,i)\n",
    "    plt.imshow(img.permute(1,2,0))\n",
    "    plt.axis(False)\n",
    "    plt.title(train_dataset.classes[idx])\n",
    "    plt.show()\n"
   ]
  },
  {
   "cell_type": "markdown",
   "metadata": {},
   "source": [
    "데이터셋 정보를 iterable한 객체로 만들어서 model에 넣어줘야한다.\n",
    "\n",
    "DataLoader를 구현해야함"
   ]
  },
  {
   "cell_type": "code",
   "execution_count": 6,
   "metadata": {},
   "outputs": [
    {
     "name": "stdout",
     "output_type": "stream",
     "text": [
      "<torch.utils.data.dataloader.DataLoader object at 0x000001908DF4C148>\n",
      "1563\n",
      "['_DataLoader__initialized', '_DataLoader__multiprocessing_context', '_IterableDataset_len_called', '__annotations__', '__class__', '__class_getitem__', '__delattr__', '__dict__', '__dir__', '__doc__', '__eq__', '__format__', '__ge__', '__getattribute__', '__gt__', '__hash__', '__init__', '__init_subclass__', '__iter__', '__le__', '__len__', '__lt__', '__module__', '__ne__', '__new__', '__orig_bases__', '__parameters__', '__reduce__', '__reduce_ex__', '__repr__', '__setattr__', '__sizeof__', '__slots__', '__str__', '__subclasshook__', '__weakref__', '_auto_collation', '_dataset_kind', '_get_iterator', '_get_shared_seed', '_index_sampler', '_iterator', 'batch_sampler', 'batch_size', 'check_worker_number_rationality', 'collate_fn', 'dataset', 'drop_last', 'generator', 'multiprocessing_context', 'num_workers', 'persistent_workers', 'pin_memory', 'pin_memory_device', 'prefetch_factor', 'sampler', 'timeout', 'worker_init_fn']\n"
     ]
    },
    {
     "data": {
      "text/plain": [
       "torch.Size([32, 3, 32, 32])"
      ]
     },
     "execution_count": 6,
     "metadata": {},
     "output_type": "execute_result"
    }
   ],
   "source": [
    "from torch.utils.data import DataLoader\n",
    "from os import cpu_count\n",
    "BATCH_SIZE=32\n",
    "train_dataloader = DataLoader(dataset=train_dataset,\n",
    "                              batch_size=BATCH_SIZE,\n",
    "                              shuffle=True\n",
    ")\n",
    "test_dataloader = DataLoader(dataset=test_dataset,\n",
    "                             batch_size=BATCH_SIZE,\n",
    "                             shuffle=False\n",
    "                             )\n",
    "\n",
    "print(train_dataloader)\n",
    "print(len(train_dataloader)) # 1563 (50000//32) shape(32,3,32,32)\n",
    "print(dir(train_dataloader)) \n",
    "\n",
    "train_dataloader_feature,train_dataloader_label=next(iter(train_dataloader))\n",
    "test_dataloader_feature,test_dataloader_label=next(iter(test_dataloader))\n",
    "train_dataloader_feature.shape # shape (32,3,32,32) = (batch_size,channel,height,width)\n"
   ]
  },
  {
   "cell_type": "markdown",
   "metadata": {},
   "source": [
    "train_dataloader_feature와 train_dataloader_label을 알아보자"
   ]
  },
  {
   "cell_type": "code",
   "execution_count": 7,
   "metadata": {},
   "outputs": [
    {
     "name": "stdout",
     "output_type": "stream",
     "text": [
      "tensor([[[[0.4549, 0.4392, 0.4863,  ..., 0.7490, 0.7451, 0.7569],\n",
      "          [0.4745, 0.5412, 0.4784,  ..., 0.7451, 0.7412, 0.7490],\n",
      "          [0.4588, 0.5451, 0.5333,  ..., 0.7451, 0.7412, 0.7529],\n",
      "          ...,\n",
      "          [0.2431, 0.2431, 0.1922,  ..., 0.2549, 0.2431, 0.2471],\n",
      "          [0.2392, 0.2353, 0.2157,  ..., 0.2392, 0.2510, 0.2549],\n",
      "          [0.2314, 0.2275, 0.2118,  ..., 0.2549, 0.2667, 0.2745]],\n",
      "\n",
      "         [[0.4588, 0.4588, 0.4275,  ..., 0.8471, 0.8431, 0.8549],\n",
      "          [0.4588, 0.5412, 0.4235,  ..., 0.8392, 0.8314, 0.8431],\n",
      "          [0.4314, 0.5333, 0.4824,  ..., 0.8353, 0.8314, 0.8392],\n",
      "          ...,\n",
      "          [0.2549, 0.2706, 0.2235,  ..., 0.3137, 0.2902, 0.2863],\n",
      "          [0.2510, 0.2588, 0.2471,  ..., 0.2941, 0.2980, 0.2941],\n",
      "          [0.2471, 0.2549, 0.2392,  ..., 0.3020, 0.3098, 0.3216]],\n",
      "\n",
      "         [[0.4706, 0.4392, 0.3804,  ..., 0.9882, 0.9804, 0.9922],\n",
      "          [0.4667, 0.5255, 0.3725,  ..., 0.9765, 0.9686, 0.9804],\n",
      "          [0.4353, 0.5098, 0.4235,  ..., 0.9608, 0.9569, 0.9686],\n",
      "          ...,\n",
      "          [0.2706, 0.3098, 0.2627,  ..., 0.3294, 0.3059, 0.2902],\n",
      "          [0.2706, 0.2980, 0.2784,  ..., 0.3098, 0.3098, 0.3020],\n",
      "          [0.2706, 0.2902, 0.2667,  ..., 0.3176, 0.3255, 0.3373]]],\n",
      "\n",
      "\n",
      "        [[[0.5373, 0.5294, 0.5255,  ..., 0.5412, 0.5451, 0.5412],\n",
      "          [0.5333, 0.5255, 0.5176,  ..., 0.5294, 0.5373, 0.5294],\n",
      "          [0.5373, 0.5294, 0.5216,  ..., 0.5294, 0.5333, 0.5294],\n",
      "          ...,\n",
      "          [0.5333, 0.5294, 0.5333,  ..., 0.5294, 0.5294, 0.5255],\n",
      "          [0.5255, 0.5216, 0.5255,  ..., 0.5216, 0.5255, 0.5255],\n",
      "          [0.5294, 0.5255, 0.5255,  ..., 0.5216, 0.5216, 0.5216]],\n",
      "\n",
      "         [[0.5216, 0.5137, 0.5098,  ..., 0.5137, 0.5176, 0.5137],\n",
      "          [0.5176, 0.5098, 0.5020,  ..., 0.5020, 0.5098, 0.5020],\n",
      "          [0.5216, 0.5137, 0.5059,  ..., 0.5020, 0.5059, 0.5020],\n",
      "          ...,\n",
      "          [0.5098, 0.5059, 0.5098,  ..., 0.5098, 0.5098, 0.5059],\n",
      "          [0.5020, 0.4980, 0.5020,  ..., 0.5020, 0.5059, 0.5059],\n",
      "          [0.5059, 0.5020, 0.5020,  ..., 0.5020, 0.5020, 0.5020]],\n",
      "\n",
      "         [[0.4824, 0.4745, 0.4706,  ..., 0.4824, 0.4863, 0.4824],\n",
      "          [0.4745, 0.4667, 0.4588,  ..., 0.4706, 0.4784, 0.4706],\n",
      "          [0.4706, 0.4667, 0.4588,  ..., 0.4706, 0.4745, 0.4706],\n",
      "          ...,\n",
      "          [0.4627, 0.4588, 0.4627,  ..., 0.4353, 0.4353, 0.4314],\n",
      "          [0.4549, 0.4510, 0.4549,  ..., 0.4275, 0.4314, 0.4314],\n",
      "          [0.4549, 0.4549, 0.4549,  ..., 0.4275, 0.4275, 0.4275]]],\n",
      "\n",
      "\n",
      "        [[[0.4706, 0.4471, 0.4627,  ..., 0.5686, 0.5647, 0.5529],\n",
      "          [0.4824, 0.4627, 0.4902,  ..., 0.6039, 0.5922, 0.5843],\n",
      "          [0.5059, 0.4745, 0.4902,  ..., 0.6353, 0.6078, 0.5882],\n",
      "          ...,\n",
      "          [0.5843, 0.5843, 0.6392,  ..., 0.7569, 0.7412, 0.7451],\n",
      "          [0.6078, 0.6078, 0.6431,  ..., 0.7647, 0.7686, 0.7686],\n",
      "          [0.6471, 0.6627, 0.6667,  ..., 0.7451, 0.7373, 0.7529]],\n",
      "\n",
      "         [[0.4745, 0.4824, 0.5020,  ..., 0.5843, 0.5804, 0.5686],\n",
      "          [0.4784, 0.4902, 0.5255,  ..., 0.6078, 0.5922, 0.5843],\n",
      "          [0.4941, 0.4902, 0.5137,  ..., 0.6392, 0.6118, 0.5922],\n",
      "          ...,\n",
      "          [0.5373, 0.5451, 0.5922,  ..., 0.7059, 0.6784, 0.6863],\n",
      "          [0.5529, 0.5569, 0.5882,  ..., 0.6980, 0.6941, 0.6980],\n",
      "          [0.5843, 0.6000, 0.6039,  ..., 0.6745, 0.6706, 0.6863]],\n",
      "\n",
      "         [[0.4706, 0.4706, 0.4980,  ..., 0.5843, 0.5843, 0.5686],\n",
      "          [0.4784, 0.4941, 0.5333,  ..., 0.6275, 0.6157, 0.6039],\n",
      "          [0.4824, 0.5020, 0.5255,  ..., 0.6196, 0.5922, 0.5686],\n",
      "          ...,\n",
      "          [0.4039, 0.3961, 0.4627,  ..., 0.6627, 0.6275, 0.6392],\n",
      "          [0.4235, 0.4196, 0.4627,  ..., 0.6431, 0.6392, 0.6471],\n",
      "          [0.4706, 0.4745, 0.4902,  ..., 0.6196, 0.6157, 0.6392]]],\n",
      "\n",
      "\n",
      "        ...,\n",
      "\n",
      "\n",
      "        [[[0.4314, 0.8745, 0.9529,  ..., 0.0275, 0.0000, 0.0000],\n",
      "          [0.4000, 0.8353, 0.9569,  ..., 0.3843, 0.3137, 0.1216],\n",
      "          [0.3882, 0.8000, 0.9725,  ..., 0.8667, 0.7765, 0.3490],\n",
      "          ...,\n",
      "          [0.2275, 0.2275, 0.2000,  ..., 0.0314, 0.0353, 0.0235],\n",
      "          [0.2706, 0.2118, 0.1922,  ..., 0.1882, 0.2039, 0.1373],\n",
      "          [0.3176, 0.2039, 0.1961,  ..., 0.0588, 0.0627, 0.0510]],\n",
      "\n",
      "         [[0.3529, 0.7725, 0.8431,  ..., 0.0078, 0.0000, 0.0000],\n",
      "          [0.3255, 0.7333, 0.8510,  ..., 0.3529, 0.2902, 0.1059],\n",
      "          [0.3059, 0.7020, 0.8667,  ..., 0.8196, 0.7373, 0.3176],\n",
      "          ...,\n",
      "          [0.2471, 0.2745, 0.2706,  ..., 0.0314, 0.0392, 0.0314],\n",
      "          [0.2824, 0.2510, 0.2549,  ..., 0.1725, 0.1843, 0.1255],\n",
      "          [0.3137, 0.2275, 0.2471,  ..., 0.0196, 0.0196, 0.0118]],\n",
      "\n",
      "         [[0.3294, 0.7255, 0.7882,  ..., 0.0118, 0.0000, 0.0000],\n",
      "          [0.3020, 0.6902, 0.7961,  ..., 0.3608, 0.2941, 0.1098],\n",
      "          [0.2824, 0.6549, 0.8118,  ..., 0.8353, 0.7490, 0.3255],\n",
      "          ...,\n",
      "          [0.3412, 0.3922, 0.4039,  ..., 0.0392, 0.0275, 0.0196],\n",
      "          [0.3686, 0.3608, 0.3843,  ..., 0.1686, 0.1725, 0.1176],\n",
      "          [0.3922, 0.3294, 0.3647,  ..., 0.0196, 0.0196, 0.0157]]],\n",
      "\n",
      "\n",
      "        [[[0.0706, 0.0667, 0.0627,  ..., 0.2157, 0.2078, 0.2392],\n",
      "          [0.0627, 0.0627, 0.0588,  ..., 0.2196, 0.2039, 0.2196],\n",
      "          [0.0706, 0.0941, 0.0902,  ..., 0.2196, 0.1804, 0.1843],\n",
      "          ...,\n",
      "          [0.2157, 0.2392, 0.2863,  ..., 0.9098, 0.9216, 0.8353],\n",
      "          [0.2431, 0.2706, 0.2745,  ..., 0.5882, 0.6863, 0.7216],\n",
      "          [0.3137, 0.3451, 0.3176,  ..., 0.3294, 0.3804, 0.4196]],\n",
      "\n",
      "         [[0.1059, 0.1020, 0.0941,  ..., 0.2627, 0.2588, 0.2902],\n",
      "          [0.0902, 0.0902, 0.0784,  ..., 0.2667, 0.2510, 0.2706],\n",
      "          [0.0902, 0.1137, 0.1098,  ..., 0.2667, 0.2275, 0.2314],\n",
      "          ...,\n",
      "          [0.2588, 0.2784, 0.3294,  ..., 0.9333, 0.9412, 0.8784],\n",
      "          [0.2784, 0.3137, 0.3176,  ..., 0.6392, 0.7333, 0.7686],\n",
      "          [0.3412, 0.3804, 0.3569,  ..., 0.3882, 0.4392, 0.4784]],\n",
      "\n",
      "         [[0.0863, 0.0824, 0.0784,  ..., 0.2471, 0.2314, 0.2549],\n",
      "          [0.0745, 0.0706, 0.0706,  ..., 0.2510, 0.2275, 0.2353],\n",
      "          [0.0745, 0.0980, 0.0980,  ..., 0.2471, 0.2118, 0.2235],\n",
      "          ...,\n",
      "          [0.2314, 0.2627, 0.3137,  ..., 0.9373, 0.9412, 0.8353],\n",
      "          [0.2510, 0.2667, 0.2784,  ..., 0.6392, 0.7333, 0.7490],\n",
      "          [0.3059, 0.3176, 0.3020,  ..., 0.3843, 0.4392, 0.4667]]],\n",
      "\n",
      "\n",
      "        [[[0.5765, 0.5686, 0.5529,  ..., 0.6314, 0.6510, 0.6706],\n",
      "          [0.5725, 0.5608, 0.5490,  ..., 0.6431, 0.6627, 0.6784],\n",
      "          [0.5765, 0.5647, 0.5529,  ..., 0.6392, 0.6471, 0.6667],\n",
      "          ...,\n",
      "          [0.0980, 0.1059, 0.1059,  ..., 0.1020, 0.1020, 0.1020],\n",
      "          [0.1020, 0.1059, 0.0980,  ..., 0.0941, 0.0941, 0.0980],\n",
      "          [0.0980, 0.1020, 0.0902,  ..., 0.0902, 0.0863, 0.0902]],\n",
      "\n",
      "         [[0.8275, 0.8235, 0.8157,  ..., 0.8627, 0.8784, 0.8941],\n",
      "          [0.8314, 0.8275, 0.8196,  ..., 0.8863, 0.8980, 0.9059],\n",
      "          [0.8314, 0.8275, 0.8235,  ..., 0.8824, 0.8902, 0.8980],\n",
      "          ...,\n",
      "          [0.3686, 0.3686, 0.3647,  ..., 0.3216, 0.3294, 0.3294],\n",
      "          [0.3647, 0.3608, 0.3490,  ..., 0.3098, 0.3137, 0.3176],\n",
      "          [0.3490, 0.3451, 0.3294,  ..., 0.2863, 0.2902, 0.2941]],\n",
      "\n",
      "         [[0.9843, 0.9765, 0.9686,  ..., 0.9725, 0.9843, 0.9882],\n",
      "          [0.9922, 0.9882, 0.9804,  ..., 0.9843, 0.9922, 0.9961],\n",
      "          [0.9843, 0.9765, 0.9686,  ..., 0.9765, 0.9765, 0.9804],\n",
      "          ...,\n",
      "          [0.8235, 0.8157, 0.8078,  ..., 0.7608, 0.7647, 0.7608],\n",
      "          [0.8235, 0.8118, 0.7961,  ..., 0.7451, 0.7451, 0.7490],\n",
      "          [0.7961, 0.7843, 0.7686,  ..., 0.7059, 0.7098, 0.7098]]]])\n",
      "torch.Size([32, 3, 32, 32])\n",
      "32\n"
     ]
    }
   ],
   "source": [
    "print(train_dataloader_feature)\n",
    "print(train_dataloader_feature.shape)\n",
    "print(len(train_dataloader_feature))"
   ]
  },
  {
   "cell_type": "markdown",
   "metadata": {},
   "source": [
    "CIFAR10 데이터셋을 학습시킬 Model 만들어야한다.\n",
    "\n",
    "TinyVGG (이미지 추출기)를 사용해보자\n",
    "\n",
    "source - https://poloclub.github.io/cnn-explainer/"
   ]
  },
  {
   "cell_type": "code",
   "execution_count": 8,
   "metadata": {},
   "outputs": [
    {
     "name": "stdout",
     "output_type": "stream",
     "text": [
      "CIFAR10Model(\n",
      "  (conv1_block): Sequential(\n",
      "    (0): Conv2d(3, 10, kernel_size=(3, 3), stride=(1, 1), padding=(1, 1))\n",
      "    (1): ReLU()\n",
      "    (2): Conv2d(10, 10, kernel_size=(3, 3), stride=(1, 1), padding=(1, 1))\n",
      "    (3): ReLU()\n",
      "    (4): MaxPool2d(kernel_size=2, stride=2, padding=0, dilation=1, ceil_mode=False)\n",
      "  )\n",
      "  (conv2_block): Sequential(\n",
      "    (0): Conv2d(10, 10, kernel_size=(3, 3), stride=(1, 1), padding=(1, 1))\n",
      "    (1): ReLU()\n",
      "    (2): Conv2d(10, 10, kernel_size=(3, 3), stride=(1, 1), padding=(1, 1))\n",
      "    (3): ReLU()\n",
      "    (4): MaxPool2d(kernel_size=2, stride=2, padding=0, dilation=1, ceil_mode=False)\n",
      "  )\n",
      "  (classifier): Sequential(\n",
      "    (0): Flatten(start_dim=1, end_dim=-1)\n",
      "    (1): Linear(in_features=640, out_features=10, bias=True)\n",
      "  )\n",
      ")\n"
     ]
    }
   ],
   "source": [
    "from torch import nn\n",
    "\n",
    "class CIFAR10Model(nn.Module):\n",
    "    def __init__(self,input_shape:int,hidden_units:int,output_shape:int):\n",
    "        super().__init__()\n",
    "        self.conv1_block = nn.Sequential(\n",
    "            nn.Conv2d(in_channels=input_shape,\n",
    "                      out_channels=hidden_units,\n",
    "                      kernel_size=3,\n",
    "                      stride=1,\n",
    "                      padding=1),\n",
    "            nn.ReLU(),\n",
    "            nn.Conv2d(in_channels=hidden_units,\n",
    "                      out_channels=hidden_units,\n",
    "                      kernel_size=3,\n",
    "                      stride=1,\n",
    "                      padding=1),\n",
    "            nn.ReLU(),\n",
    "            nn.MaxPool2d(kernel_size=2)\n",
    "        )\n",
    "        self.conv2_block = nn.Sequential(\n",
    "            nn.Conv2d(in_channels=hidden_units,\n",
    "                      out_channels=hidden_units,\n",
    "                      kernel_size=3,\n",
    "                      stride=1,\n",
    "                      padding=1),\n",
    "            nn.ReLU(),\n",
    "            nn.Conv2d(in_channels=hidden_units,\n",
    "                      out_channels=hidden_units,\n",
    "                      kernel_size=3,\n",
    "                      stride=1,\n",
    "                      padding=1),\n",
    "            nn.ReLU(),\n",
    "            nn.MaxPool2d(kernel_size=2)\n",
    "        )\n",
    "        self.classifier=nn.Sequential(\n",
    "        nn.Flatten(),\n",
    "        nn.Linear(in_features=hidden_units*8*8,\n",
    "                  out_features=output_shape)\n",
    "    )\n",
    "    def forward(self,x):\n",
    "        x = self.conv1_block(x)\n",
    "        #print(x.shape)\n",
    "        x = self.conv2_block(x)\n",
    "        #print(x.shape)\n",
    "        x = self.classifier(x)\n",
    "        #print(x.shape)\n",
    "        return x\n",
    "\n",
    "model0=CIFAR10Model(input_shape=3,hidden_units=10,output_shape=len(train_dataset.classes)).to(device)\n",
    "print(model0)"
   ]
  },
  {
   "cell_type": "code",
   "execution_count": 9,
   "metadata": {},
   "outputs": [
    {
     "name": "stdout",
     "output_type": "stream",
     "text": [
      "----------------------------------------------------------------\n",
      "        Layer (type)               Output Shape         Param #\n",
      "================================================================\n",
      "            Conv2d-1           [32, 10, 32, 32]             280\n",
      "              ReLU-2           [32, 10, 32, 32]               0\n",
      "            Conv2d-3           [32, 10, 32, 32]             910\n",
      "              ReLU-4           [32, 10, 32, 32]               0\n",
      "         MaxPool2d-5           [32, 10, 16, 16]               0\n",
      "            Conv2d-6           [32, 10, 16, 16]             910\n",
      "              ReLU-7           [32, 10, 16, 16]               0\n",
      "            Conv2d-8           [32, 10, 16, 16]             910\n",
      "              ReLU-9           [32, 10, 16, 16]               0\n",
      "        MaxPool2d-10             [32, 10, 8, 8]               0\n",
      "          Flatten-11                  [32, 640]               0\n",
      "           Linear-12                   [32, 10]           6,410\n",
      "================================================================\n",
      "Total params: 9,420\n",
      "Trainable params: 9,420\n",
      "Non-trainable params: 0\n",
      "----------------------------------------------------------------\n",
      "Input size (MB): 0.38\n",
      "Forward/backward pass size (MB): 13.44\n",
      "Params size (MB): 0.04\n",
      "Estimated Total Size (MB): 13.85\n",
      "----------------------------------------------------------------\n"
     ]
    }
   ],
   "source": [
    "from torchsummary import summary\n",
    "summary(model0,input_size=(3,32,32),batch_size=32,device='cuda')"
   ]
  },
  {
   "cell_type": "markdown",
   "metadata": {},
   "source": [
    "모델 생성 뒤엔 Train, Test Loop를 만들어야한다.\n",
    "\n",
    "1. Loop through epochs\n",
    "2. Loop through training batches, perform training steps, calculate the train loss *per batch*.\n",
    "3. Loop through testing batches, perform testing steps, calculate the test loss *per batch*.\n",
    "4. print out what's happening.\n",
    "5. Time it all (for fun).\n",
    "\n",
    "optimizer와 Loss function도 지정!"
   ]
  },
  {
   "cell_type": "code",
   "execution_count": 10,
   "metadata": {},
   "outputs": [],
   "source": [
    "import torch.optim\n",
    "from torch.nn import CrossEntropyLoss\n",
    "\n",
    "loss_fn = CrossEntropyLoss()\n",
    "optimizer= torch.optim.Adam(params=model0.parameters(),lr=0.1)"
   ]
  },
  {
   "cell_type": "code",
   "execution_count": 12,
   "metadata": {},
   "outputs": [
    {
     "name": "stderr",
     "output_type": "stream",
     "text": [
      "  0%|          | 0/10 [00:00<?, ?it/s]"
     ]
    },
    {
     "name": "stdout",
     "output_type": "stream",
     "text": [
      "---Epochs: 0\n",
      "Looked at 0 / 50000 samples\n"
     ]
    }
   ],
   "source": [
    "from tqdm.auto import tqdm\n",
    "EPOCHS=10\n",
    "for epoch in tqdm(range(10)):\n",
    "    print(f\"---Epochs: {epoch}\")\n",
    "    train_loss = 0.0 # epoch마다 train_loss를 더함\n",
    "    for batch,(X,y) in enumerate(train_dataloader):\n",
    "        model0.train()\n",
    "        X,y = X.to(device),y.to(device)\n",
    "        # Do the forward pass\n",
    "        y_pred = model0(X)\n",
    "        # Calculate loss\n",
    "        loss = loss_fn(y_pred,y)\n",
    "        train_loss += loss\n",
    "        # optimizer zero grad\n",
    "        optimizer.zero_grad()\n",
    "        # loss backward 모델의 파라미터 기울기를 계산한다.\n",
    "        loss.backward() \n",
    "        # Optimizer step 모델 가중치 갱신\n",
    "        optimizer.step()\n",
    "        if batch % 400==0:\n",
    "            print(f\"Looked at {batch * len(X)} / {len(train_dataloader.dataset)} samples\") # batch : 1874 len(X):32\n",
    "            \n",
    "    train_loss /=len(train_dataloader)\n",
    "    print(f\"train_loss={train_loss}\")\n",
    "    ### Testing\n",
    "    test_loss,test_acc=0,0\n",
    "    model0.eval()\n",
    "    with torch.inference_mode():\n",
    "        for X_test,y_test in test_dataloader: \n",
    "            X_test,y_test=X_test.to(device),y_test.to(device)\n",
    "            test_pred=model0(X_test)\n",
    "            # 2. Calculate loss (accumulatively)\n",
    "            test_loss += loss_fn(test_pred,y_test)\n",
    "            # Calculate the test loss average per batch\n",
    "        test_loss /= len(test_dataloader)\n",
    "            # Calculate the test acc average per batch\n",
    "        test_acc/=len(test_dataloader)\n",
    "        # Print out what's happening\n",
    "        print(f\"\\n Train loss:{train_loss:.4f} | Test_loss: {test_loss:.4f}, Test acc: {test_acc:.4f}\")"
   ]
  }
 ],
 "metadata": {
  "kernelspec": {
   "display_name": "pytorch_project",
   "language": "python",
   "name": "python3"
  },
  "language_info": {
   "codemirror_mode": {
    "name": "ipython",
    "version": 3
   },
   "file_extension": ".py",
   "mimetype": "text/x-python",
   "name": "python",
   "nbconvert_exporter": "python",
   "pygments_lexer": "ipython3",
   "version": "3.7.16"
  }
 },
 "nbformat": 4,
 "nbformat_minor": 2
}
