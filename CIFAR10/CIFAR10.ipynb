{
 "cells": [
  {
   "cell_type": "markdown",
   "metadata": {},
   "source": [
    "CIFAR10 데이터셋을 이미지 분류 \n",
    "\n",
    "컴퓨터 비전 분야에서 딥러닝을 통해 \n",
    "\n",
    "가장 처음에 고안된 방안인\n",
    "\n",
    "이미지 분류를 진행해보자!\n",
    "\n",
    "CIFAR 10 데이터셋은 \n",
    "\n",
    "3*32*32 픽셀의 60000개의 컬러이미지(RGB) 데이터셋이다.\n",
    "\n",
    "클래스의 개수는 10개이며 \n",
    "\n",
    "비행기, 자동차, 새, 고양이, 사슴, 개, 개구리, 말, 배, 트럭이 있다.\n",
    "\n",
    "보통 50000개는 훈련, 10000개는 테스트데이터셋으로 구성하는 편이다."
   ]
  },
  {
   "cell_type": "markdown",
   "metadata": {},
   "source": [
    "* `torchvision` - base domain library for Pytorch computer vision\n",
    "* `torchvision.datasets` - get datasets and data loading functions for computuer vision here\n",
    "* `torchvision.models` - get pretrained computer vision models that you can leverage for your own problems\n",
    "* `torchvision.transform` - functions for manipulating your vision data (images) to be suitable foruse with an ML model\n",
    "* `torch.utils.data.Dataset` - Base dataset class for Pytorch.\n",
    "* `torch.utils.data.DataLoader` - Creates a Python iterable over a dataset"
   ]
  },
  {
   "cell_type": "code",
   "execution_count": 1,
   "metadata": {},
   "outputs": [
    {
     "name": "stderr",
     "output_type": "stream",
     "text": [
      "c:\\Users\\hyssk\\anaconda3\\envs\\pytorch_project\\lib\\site-packages\\tqdm\\auto.py:21: TqdmWarning: IProgress not found. Please update jupyter and ipywidgets. See https://ipywidgets.readthedocs.io/en/stable/user_install.html\n",
      "  from .autonotebook import tqdm as notebook_tqdm\n"
     ]
    },
    {
     "name": "stdout",
     "output_type": "stream",
     "text": [
      "cuda\n"
     ]
    }
   ],
   "source": [
    "import torch\n",
    "import torchvision # 컴퓨터 비전에 필요한 패키징\n",
    "\n",
    "from torchvision import datasets # Image 데이터셋이 있는곳\n",
    "from torchvision import transforms # 이미지 전처리(Crop, 어파인 변환 이런게 있는거 같던데)\n",
    "from torch.utils.data import Dataset # 데이터셋 클래스 상속할 때 쓰는 기반클래스\n",
    "from torch.utils.data import DataLoader # dataset을 iterable할 수 있게하는 Dataloader\n",
    "\n",
    "import matplotlib.pyplot as plt\n",
    "# agnostic code\n",
    "device = \"cuda\" if torch.cuda.is_available() else \"cpu\"\n",
    "\n",
    "print(device) # gpu 사용"
   ]
  },
  {
   "cell_type": "code",
   "execution_count": 2,
   "metadata": {},
   "outputs": [
    {
     "name": "stdout",
     "output_type": "stream",
     "text": [
      "Files already downloaded and verified\n",
      "Files already downloaded and verified\n"
     ]
    }
   ],
   "source": [
    "# 1. Getting Data (데이터셋 가져오기)\n",
    "\n",
    "train_dataset=datasets.CIFAR10(root='Data',\n",
    "                               train=True,\n",
    "                               transform=transforms.ToTensor(),\n",
    "                               target_transform=None,\n",
    "                               download=True)\n",
    "test_dataset=datasets.CIFAR10(root='Data',\n",
    "                              train=False,\n",
    "                              transform=transforms.ToTensor(),\n",
    "                              target_transform=None,\n",
    "                              download=True)\n",
    "\n"
   ]
  },
  {
   "cell_type": "code",
   "execution_count": 3,
   "metadata": {},
   "outputs": [
    {
     "name": "stdout",
     "output_type": "stream",
     "text": [
      "Dataset CIFAR10\n",
      "    Number of datapoints: 50000\n",
      "    Root location: Data\n",
      "    Split: Train\n",
      "    StandardTransform\n",
      "Transform: ToTensor()\n",
      "['__add__', '__class__', '__class_getitem__', '__delattr__', '__dict__', '__dir__', '__doc__', '__eq__', '__format__', '__ge__', '__getattribute__', '__getitem__', '__gt__', '__hash__', '__init__', '__init_subclass__', '__le__', '__len__', '__lt__', '__module__', '__ne__', '__new__', '__orig_bases__', '__parameters__', '__reduce__', '__reduce_ex__', '__repr__', '__setattr__', '__sizeof__', '__slots__', '__str__', '__subclasshook__', '__weakref__', '_check_integrity', '_format_transform_repr', '_load_meta', '_repr_indent', 'base_folder', 'class_to_idx', 'classes', 'data', 'download', 'extra_repr', 'filename', 'meta', 'root', 'target_transform', 'targets', 'test_list', 'tgz_md5', 'train', 'train_list', 'transform', 'transforms', 'url']\n",
      "50000\n",
      "{'airplane': 0, 'automobile': 1, 'bird': 2, 'cat': 3, 'deer': 4, 'dog': 5, 'frog': 6, 'horse': 7, 'ship': 8, 'truck': 9}\n",
      "['airplane', 'automobile', 'bird', 'cat', 'deer', 'dog', 'frog', 'horse', 'ship', 'truck']\n",
      "(tensor([[[0.2314, 0.1686, 0.1961,  ..., 0.6196, 0.5961, 0.5804],\n",
      "         [0.0627, 0.0000, 0.0706,  ..., 0.4824, 0.4667, 0.4784],\n",
      "         [0.0980, 0.0627, 0.1922,  ..., 0.4627, 0.4706, 0.4275],\n",
      "         ...,\n",
      "         [0.8157, 0.7882, 0.7765,  ..., 0.6275, 0.2196, 0.2078],\n",
      "         [0.7059, 0.6784, 0.7294,  ..., 0.7216, 0.3804, 0.3255],\n",
      "         [0.6941, 0.6588, 0.7020,  ..., 0.8471, 0.5922, 0.4824]],\n",
      "\n",
      "        [[0.2431, 0.1804, 0.1882,  ..., 0.5176, 0.4902, 0.4863],\n",
      "         [0.0784, 0.0000, 0.0314,  ..., 0.3451, 0.3255, 0.3412],\n",
      "         [0.0941, 0.0275, 0.1059,  ..., 0.3294, 0.3294, 0.2863],\n",
      "         ...,\n",
      "         [0.6667, 0.6000, 0.6314,  ..., 0.5216, 0.1216, 0.1333],\n",
      "         [0.5451, 0.4824, 0.5647,  ..., 0.5804, 0.2431, 0.2078],\n",
      "         [0.5647, 0.5059, 0.5569,  ..., 0.7216, 0.4627, 0.3608]],\n",
      "\n",
      "        [[0.2471, 0.1765, 0.1686,  ..., 0.4235, 0.4000, 0.4039],\n",
      "         [0.0784, 0.0000, 0.0000,  ..., 0.2157, 0.1961, 0.2235],\n",
      "         [0.0824, 0.0000, 0.0314,  ..., 0.1961, 0.1961, 0.1647],\n",
      "         ...,\n",
      "         [0.3765, 0.1333, 0.1020,  ..., 0.2745, 0.0275, 0.0784],\n",
      "         [0.3765, 0.1647, 0.1176,  ..., 0.3686, 0.1333, 0.1333],\n",
      "         [0.4549, 0.3686, 0.3412,  ..., 0.5490, 0.3294, 0.2824]]]), 6)\n"
     ]
    }
   ],
   "source": [
    "# datasets.CIFAR10를 참조한 train_dataset에 대해 확인하기\n",
    "print(train_dataset)\n",
    "print(dir(train_dataset)) # 클래스에 부여된 속성 또는 메소드를 확인할 수 있다. 'class_to_idx', 'classes'\n",
    "print(len(train_dataset))\n",
    "\n",
    "print(train_dataset.class_to_idx) # 딕셔너리 형태\n",
    "print(train_dataset.classes) # 리스트 형태 \n",
    "\n",
    "print(train_dataset.__getitem__(0)) # 인덱스 0번의 값 출력, 튜플 형태 (텐서정보(3*32*32),클래스넘버) 정보 전달\n"
   ]
  },
  {
   "cell_type": "code",
   "execution_count": 4,
   "metadata": {},
   "outputs": [
    {
     "data": {
      "image/png": "[encoded data removed]",
      "text/plain": [
       "<Figure size 640x480 with 1 Axes>"
      ]
     },
     "metadata": {},
     "output_type": "display_data"
    }
   ],
   "source": [
    "# 데이터셋 추출 후 시각화 해보기\n",
    "\n",
    "plt.figure()\n",
    "plt.imshow(train_dataset.__getitem__(0)[0].permute(1,2,0)) # torch의 텐서와 matplotlib의 rgb 순서가 달라서 변환해줘야함.\n",
    "plt.title(train_dataset.classes[train_dataset.__getitem__(0)[1]])\n",
    "plt.axis(False)\n",
    "plt.show()"
   ]
  },
  {
   "cell_type": "code",
   "execution_count": 5,
   "metadata": {},
   "outputs": [
    {
     "data": {
      "image/png": "[encoded data removed]",
      "text/plain": [
       "<Figure size 6000x6000 with 1 Axes>"
      ]
     },
     "metadata": {},
     "output_type": "display_data"
    },
    {
     "data": {
      "image/png": "[encoded data removed]",
      "text/plain": [
       "<Figure size 640x480 with 1 Axes>"
      ]
     },
     "metadata": {},
     "output_type": "display_data"
    },
    {
     "data": {
      "image/png": "[encoded data removed]",
      "text/plain": [
       "<Figure size 640x480 with 1 Axes>"
      ]
     },
     "metadata": {},
     "output_type": "display_data"
    },
    {
     "data": {
      "image/png": "[encoded data removed]",
      "text/plain": [
       "<Figure size 640x480 with 1 Axes>"
      ]
     },
     "metadata": {},
     "output_type": "display_data"
    },
    {
     "data": {
      "image/png": "[encoded data removed]",
      "text/plain": [
       "<Figure size 640x480 with 1 Axes>"
      ]
     },
     "metadata": {},
     "output_type": "display_data"
    },
    {
     "data": {
      "image/png": "[encoded data removed]",
      "text/plain": [
       "<Figure size 640x480 with 1 Axes>"
      ]
     },
     "metadata": {},
     "output_type": "display_data"
    },
    {
     "data": {
      "image/png": "[encoded data removed]",
      "text/plain": [
       "<Figure size 640x480 with 1 Axes>"
      ]
     },
     "metadata": {},
     "output_type": "display_data"
    },
    {
     "data": {
      "image/png": "[encoded data removed]",
      "text/plain": [
       "<Figure size 640x480 with 1 Axes>"
      ]
     },
     "metadata": {},
     "output_type": "display_data"
    },
    {
     "data": {
      "image/png": "[encoded data removed]",
      "text/plain": [
       "<Figure size 640x480 with 1 Axes>"
      ]
     },
     "metadata": {},
     "output_type": "display_data"
    },
    {
     "data": {
      "image/png": "[encoded data removed]",
      "text/plain": [
       "<Figure size 640x480 with 1 Axes>"
      ]
     },
     "metadata": {},
     "output_type": "display_data"
    }
   ],
   "source": [
    "# 랜덤으로 10개 정도 그려보기\n",
    "import random\n",
    "fig = plt.figure(figsize=(60,60))\n",
    "nrows,ncols=1,10\n",
    "\n",
    "for i in range(1,nrows*ncols+1):\n",
    "    random_idx = random.randint(a=0, b=len(train_dataset))\n",
    "    img, idx = train_dataset[random_idx]\n",
    "    fig.add_subplot(nrows,ncols,i)\n",
    "    plt.imshow(img.permute(1,2,0))\n",
    "    plt.axis(False)\n",
    "    plt.title(train_dataset.classes[idx])\n",
    "    plt.show()\n"
   ]
  },
  {
   "cell_type": "markdown",
   "metadata": {},
   "source": [
    "데이터셋 정보를 iterable한 객체로 만들어서 model에 넣어줘야한다.\n",
    "\n",
    "DataLoader를 구현해야함"
   ]
  },
  {
   "cell_type": "code",
   "execution_count": 6,
   "metadata": {},
   "outputs": [
    {
     "name": "stdout",
     "output_type": "stream",
     "text": [
      "<torch.utils.data.dataloader.DataLoader object at 0x0000015E6B383188>\n",
      "1563\n",
      "['_DataLoader__initialized', '_DataLoader__multiprocessing_context', '_IterableDataset_len_called', '__annotations__', '__class__', '__class_getitem__', '__delattr__', '__dict__', '__dir__', '__doc__', '__eq__', '__format__', '__ge__', '__getattribute__', '__gt__', '__hash__', '__init__', '__init_subclass__', '__iter__', '__le__', '__len__', '__lt__', '__module__', '__ne__', '__new__', '__orig_bases__', '__parameters__', '__reduce__', '__reduce_ex__', '__repr__', '__setattr__', '__sizeof__', '__slots__', '__str__', '__subclasshook__', '__weakref__', '_auto_collation', '_dataset_kind', '_get_iterator', '_get_shared_seed', '_index_sampler', '_iterator', 'batch_sampler', 'batch_size', 'check_worker_number_rationality', 'collate_fn', 'dataset', 'drop_last', 'generator', 'multiprocessing_context', 'num_workers', 'persistent_workers', 'pin_memory', 'pin_memory_device', 'prefetch_factor', 'sampler', 'timeout', 'worker_init_fn']\n"
     ]
    },
    {
     "data": {
      "text/plain": [
       "torch.Size([32, 3, 32, 32])"
      ]
     },
     "execution_count": 6,
     "metadata": {},
     "output_type": "execute_result"
    }
   ],
   "source": [
    "from torch.utils.data import DataLoader\n",
    "from os import cpu_count\n",
    "BATCH_SIZE=32\n",
    "train_dataloader = DataLoader(dataset=train_dataset,\n",
    "                              batch_size=BATCH_SIZE,\n",
    "                              shuffle=True\n",
    ")\n",
    "test_dataloader = DataLoader(dataset=test_dataset,\n",
    "                             batch_size=BATCH_SIZE,\n",
    "                             shuffle=False\n",
    "                             )\n",
    "\n",
    "print(train_dataloader)\n",
    "print(len(train_dataloader)) # 1563 (50000//32) shape(32,3,32,32)\n",
    "print(dir(train_dataloader)) \n",
    "\n",
    "train_dataloader_feature,train_dataloader_label=next(iter(train_dataloader))\n",
    "test_dataloader_feature,test_dataloader_label=next(iter(test_dataloader))\n",
    "train_dataloader_feature.shape # shape (32,3,32,32) = (batch_size,channel,height,width)\n"
   ]
  },
  {
   "cell_type": "markdown",
   "metadata": {},
   "source": [
    "train_dataloader_feature와 train_dataloader_label을 알아보자"
   ]
  },
  {
   "cell_type": "code",
   "execution_count": 7,
   "metadata": {},
   "outputs": [
    {
     "name": "stdout",
     "output_type": "stream",
     "text": [
      "tensor([[[[1.0000, 0.9882, 0.9725,  ..., 0.1294, 0.1098, 0.0980],\n",
      "          [0.9961, 0.9804, 0.9843,  ..., 0.1373, 0.1137, 0.1020],\n",
      "          [1.0000, 0.9804, 0.9882,  ..., 0.1294, 0.1098, 0.0941],\n",
      "          ...,\n",
      "          [0.0314, 0.0118, 0.0000,  ..., 0.0157, 0.0078, 0.0039],\n",
      "          [0.0314, 0.0078, 0.0000,  ..., 0.0078, 0.0078, 0.0235],\n",
      "          [0.0353, 0.0118, 0.0039,  ..., 0.0431, 0.0627, 0.0667]],\n",
      "\n",
      "         [[1.0000, 0.9804, 0.9529,  ..., 0.1333, 0.1137, 0.1020],\n",
      "          [0.9922, 0.9686, 0.9765,  ..., 0.1412, 0.1176, 0.1059],\n",
      "          [0.9961, 0.9725, 0.9882,  ..., 0.1333, 0.1137, 0.0980],\n",
      "          ...,\n",
      "          [0.0353, 0.0118, 0.0000,  ..., 0.0118, 0.0078, 0.0039],\n",
      "          [0.0353, 0.0118, 0.0000,  ..., 0.0039, 0.0000, 0.0157],\n",
      "          [0.0392, 0.0157, 0.0039,  ..., 0.0314, 0.0471, 0.0510]],\n",
      "\n",
      "         [[1.0000, 0.9725, 0.9216,  ..., 0.1137, 0.0941, 0.0824],\n",
      "          [0.9922, 0.9529, 0.9412,  ..., 0.1216, 0.0980, 0.0863],\n",
      "          [0.9725, 0.9451, 0.9529,  ..., 0.1137, 0.0941, 0.0784],\n",
      "          ...,\n",
      "          [0.0078, 0.0039, 0.0000,  ..., 0.0275, 0.0235, 0.0196],\n",
      "          [0.0078, 0.0000, 0.0000,  ..., 0.0118, 0.0078, 0.0235],\n",
      "          [0.0118, 0.0039, 0.0039,  ..., 0.0353, 0.0471, 0.0549]]],\n",
      "\n",
      "\n",
      "        [[[0.8431, 0.8431, 0.8235,  ..., 0.8588, 0.8471, 0.8314],\n",
      "          [0.8588, 0.8667, 0.8471,  ..., 0.8627, 0.8431, 0.8471],\n",
      "          [0.8824, 0.8824, 0.8706,  ..., 0.8549, 0.8471, 0.8510],\n",
      "          ...,\n",
      "          [0.4078, 0.4118, 0.4157,  ..., 0.9686, 0.9373, 0.5608],\n",
      "          [0.3490, 0.3686, 0.3882,  ..., 0.6902, 0.5843, 0.4824],\n",
      "          [0.3490, 0.3333, 0.3686,  ..., 0.2941, 0.6235, 0.6118]],\n",
      "\n",
      "         [[0.8627, 0.8784, 0.8706,  ..., 0.8706, 0.8549, 0.8392],\n",
      "          [0.8784, 0.8980, 0.8863,  ..., 0.8824, 0.8627, 0.8588],\n",
      "          [0.9020, 0.9059, 0.8980,  ..., 0.8745, 0.8627, 0.8588],\n",
      "          ...,\n",
      "          [0.3216, 0.3255, 0.3333,  ..., 0.9294, 0.8941, 0.5059],\n",
      "          [0.2706, 0.2863, 0.3137,  ..., 0.6314, 0.5176, 0.4039],\n",
      "          [0.2706, 0.2588, 0.2980,  ..., 0.2275, 0.5294, 0.5098]],\n",
      "\n",
      "         [[0.8431, 0.8745, 0.8745,  ..., 0.8431, 0.8431, 0.8392],\n",
      "          [0.8588, 0.8863, 0.8863,  ..., 0.8471, 0.8392, 0.8431],\n",
      "          [0.8824, 0.8902, 0.8902,  ..., 0.8235, 0.8235, 0.8235],\n",
      "          ...,\n",
      "          [0.2980, 0.3020, 0.2745,  ..., 0.8706, 0.8000, 0.3882],\n",
      "          [0.2588, 0.2745, 0.2706,  ..., 0.5725, 0.4157, 0.2706],\n",
      "          [0.2627, 0.2510, 0.2549,  ..., 0.1765, 0.4235, 0.3725]]],\n",
      "\n",
      "\n",
      "        [[[0.7137, 0.7137, 0.7176,  ..., 0.7059, 0.7059, 0.7059],\n",
      "          [0.7137, 0.7137, 0.7176,  ..., 0.7059, 0.7059, 0.7059],\n",
      "          [0.7137, 0.7137, 0.7176,  ..., 0.7059, 0.7059, 0.7059],\n",
      "          ...,\n",
      "          [0.5294, 0.5255, 0.5922,  ..., 0.7725, 0.7765, 0.7804],\n",
      "          [0.5608, 0.6353, 0.6353,  ..., 0.7804, 0.7725, 0.7765],\n",
      "          [0.6353, 0.6392, 0.6784,  ..., 0.7922, 0.7765, 0.7765]],\n",
      "\n",
      "         [[0.7020, 0.7020, 0.7098,  ..., 0.7137, 0.7137, 0.7137],\n",
      "          [0.7020, 0.7020, 0.7098,  ..., 0.7137, 0.7137, 0.7137],\n",
      "          [0.7020, 0.7020, 0.7098,  ..., 0.7137, 0.7137, 0.7137],\n",
      "          ...,\n",
      "          [0.5176, 0.5137, 0.5804,  ..., 0.7412, 0.7451, 0.7490],\n",
      "          [0.5490, 0.6235, 0.6235,  ..., 0.7490, 0.7412, 0.7451],\n",
      "          [0.6235, 0.6275, 0.6667,  ..., 0.7608, 0.7451, 0.7451]],\n",
      "\n",
      "         [[0.6667, 0.6667, 0.6745,  ..., 0.6706, 0.6706, 0.6706],\n",
      "          [0.6667, 0.6667, 0.6745,  ..., 0.6706, 0.6706, 0.6706],\n",
      "          [0.6667, 0.6667, 0.6745,  ..., 0.6706, 0.6706, 0.6706],\n",
      "          ...,\n",
      "          [0.4980, 0.4941, 0.5608,  ..., 0.6980, 0.7020, 0.7059],\n",
      "          [0.5294, 0.6039, 0.6039,  ..., 0.7059, 0.6980, 0.7020],\n",
      "          [0.6039, 0.6078, 0.6471,  ..., 0.7176, 0.7020, 0.7020]]],\n",
      "\n",
      "\n",
      "        ...,\n",
      "\n",
      "\n",
      "        [[[0.4431, 0.4549, 0.4627,  ..., 0.0549, 0.0745, 0.0941],\n",
      "          [0.4627, 0.4706, 0.4745,  ..., 0.0627, 0.0667, 0.0980],\n",
      "          [0.4667, 0.4706, 0.4745,  ..., 0.0706, 0.1216, 0.1451],\n",
      "          ...,\n",
      "          [0.3255, 0.3608, 0.3569,  ..., 0.3451, 0.3451, 0.3294],\n",
      "          [0.2902, 0.3098, 0.3098,  ..., 0.3647, 0.3843, 0.3686],\n",
      "          [0.2667, 0.2627, 0.2863,  ..., 0.3804, 0.4000, 0.3804]],\n",
      "\n",
      "         [[0.4157, 0.4275, 0.4353,  ..., 0.0431, 0.0667, 0.0824],\n",
      "          [0.4353, 0.4431, 0.4471,  ..., 0.0471, 0.0588, 0.0863],\n",
      "          [0.4392, 0.4431, 0.4471,  ..., 0.0588, 0.1098, 0.1373],\n",
      "          ...,\n",
      "          [0.3333, 0.3804, 0.3843,  ..., 0.3529, 0.3529, 0.3333],\n",
      "          [0.2941, 0.3255, 0.3412,  ..., 0.3725, 0.3922, 0.3647],\n",
      "          [0.2745, 0.2824, 0.3176,  ..., 0.3922, 0.4118, 0.3765]],\n",
      "\n",
      "         [[0.3451, 0.3569, 0.3647,  ..., 0.0314, 0.0275, 0.0235],\n",
      "          [0.3647, 0.3725, 0.3725,  ..., 0.0392, 0.0196, 0.0353],\n",
      "          [0.3686, 0.3725, 0.3765,  ..., 0.0471, 0.0706, 0.0863],\n",
      "          ...,\n",
      "          [0.3608, 0.4039, 0.4078,  ..., 0.4039, 0.4039, 0.3804],\n",
      "          [0.3255, 0.3529, 0.3647,  ..., 0.4196, 0.4431, 0.4039],\n",
      "          [0.3020, 0.3059, 0.3373,  ..., 0.4314, 0.4510, 0.3961]]],\n",
      "\n",
      "\n",
      "        [[[0.0863, 0.0980, 0.1059,  ..., 0.0941, 0.0902, 0.0863],\n",
      "          [0.0980, 0.1059, 0.1137,  ..., 0.1059, 0.1020, 0.0941],\n",
      "          [0.1059, 0.1137, 0.1176,  ..., 0.1137, 0.1098, 0.1020],\n",
      "          ...,\n",
      "          [0.1882, 0.1922, 0.1961,  ..., 0.2235, 0.2157, 0.2118],\n",
      "          [0.1765, 0.1765, 0.1882,  ..., 0.2078, 0.2039, 0.1961],\n",
      "          [0.1686, 0.1765, 0.1804,  ..., 0.1843, 0.1882, 0.1765]],\n",
      "\n",
      "         [[0.2941, 0.3020, 0.3098,  ..., 0.3137, 0.3098, 0.3059],\n",
      "          [0.3137, 0.3176, 0.3255,  ..., 0.3333, 0.3255, 0.3176],\n",
      "          [0.3294, 0.3333, 0.3412,  ..., 0.3412, 0.3373, 0.3294],\n",
      "          ...,\n",
      "          [0.3333, 0.3333, 0.3412,  ..., 0.3686, 0.3647, 0.3608],\n",
      "          [0.3176, 0.3176, 0.3255,  ..., 0.3569, 0.3529, 0.3412],\n",
      "          [0.3059, 0.3098, 0.3137,  ..., 0.3294, 0.3294, 0.3137]],\n",
      "\n",
      "         [[0.6000, 0.6039, 0.6118,  ..., 0.6039, 0.5961, 0.5961],\n",
      "          [0.6275, 0.6275, 0.6353,  ..., 0.6314, 0.6235, 0.6157],\n",
      "          [0.6510, 0.6471, 0.6549,  ..., 0.6471, 0.6392, 0.6353],\n",
      "          ...,\n",
      "          [0.4627, 0.4627, 0.4667,  ..., 0.4431, 0.4431, 0.4510],\n",
      "          [0.4431, 0.4392, 0.4471,  ..., 0.4353, 0.4353, 0.4353],\n",
      "          [0.4196, 0.4157, 0.4157,  ..., 0.4000, 0.4078, 0.4000]]],\n",
      "\n",
      "\n",
      "        [[[0.6157, 0.6078, 0.5804,  ..., 0.1569, 0.1451, 0.1373],\n",
      "          [0.5412, 0.5843, 0.5412,  ..., 0.2235, 0.1882, 0.1608],\n",
      "          [0.5020, 0.4941, 0.5373,  ..., 0.3176, 0.3059, 0.2863],\n",
      "          ...,\n",
      "          [0.9176, 0.9333, 0.9255,  ..., 0.9647, 0.9647, 0.9451],\n",
      "          [0.8902, 0.9176, 0.9255,  ..., 0.9569, 0.9529, 0.9294],\n",
      "          [0.9294, 0.9529, 0.9451,  ..., 0.9569, 0.9686, 0.9490]],\n",
      "\n",
      "         [[0.5882, 0.5843, 0.5647,  ..., 0.1882, 0.1804, 0.1725],\n",
      "          [0.5176, 0.5647, 0.5255,  ..., 0.2118, 0.1843, 0.1686],\n",
      "          [0.4745, 0.4706, 0.5255,  ..., 0.2784, 0.2745, 0.2667],\n",
      "          ...,\n",
      "          [0.9176, 0.9333, 0.9255,  ..., 0.9647, 0.9647, 0.9451],\n",
      "          [0.8902, 0.9176, 0.9255,  ..., 0.9569, 0.9529, 0.9294],\n",
      "          [0.9294, 0.9529, 0.9451,  ..., 0.9569, 0.9686, 0.9490]],\n",
      "\n",
      "         [[0.5294, 0.5294, 0.5176,  ..., 0.1373, 0.1255, 0.1216],\n",
      "          [0.4549, 0.5098, 0.4784,  ..., 0.1765, 0.1451, 0.1255],\n",
      "          [0.4157, 0.4157, 0.4745,  ..., 0.2549, 0.2431, 0.2353],\n",
      "          ...,\n",
      "          [0.9255, 0.9412, 0.9333,  ..., 0.9647, 0.9647, 0.9451],\n",
      "          [0.8980, 0.9255, 0.9333,  ..., 0.9569, 0.9529, 0.9294],\n",
      "          [0.9373, 0.9608, 0.9529,  ..., 0.9569, 0.9686, 0.9490]]]])\n",
      "torch.Size([32, 3, 32, 32])\n",
      "32\n"
     ]
    }
   ],
   "source": [
    "print(train_dataloader_feature)\n",
    "print(train_dataloader_feature.shape)\n",
    "print(len(train_dataloader_feature))"
   ]
  },
  {
   "cell_type": "markdown",
   "metadata": {},
   "source": [
    "CIFAR10 데이터셋을 학습시킬 Model 만들어야한다.\n",
    "\n",
    "TinyVGG (이미지 추출기)를 사용해보자\n",
    "\n",
    "source - https://poloclub.github.io/cnn-explainer/"
   ]
  },
  {
   "cell_type": "code",
   "execution_count": 46,
   "metadata": {},
   "outputs": [
    {
     "name": "stdout",
     "output_type": "stream",
     "text": [
      "CIFAR10Model(\n",
      "  (conv1_block): Sequential(\n",
      "    (0): Conv2d(3, 16, kernel_size=(3, 3), stride=(1, 1), padding=(1, 1))\n",
      "    (1): ReLU()\n",
      "    (2): Conv2d(16, 16, kernel_size=(3, 3), stride=(1, 1), padding=(1, 1))\n",
      "    (3): ReLU()\n",
      "    (4): MaxPool2d(kernel_size=3, stride=3, padding=0, dilation=1, ceil_mode=False)\n",
      "  )\n",
      "  (classifier): Sequential(\n",
      "    (0): Flatten(start_dim=1, end_dim=-1)\n",
      "    (1): Linear(in_features=1600, out_features=10, bias=True)\n",
      "  )\n",
      ")\n"
     ]
    }
   ],
   "source": [
    "from torch import nn\n",
    "\n",
    "class CIFAR10Model(nn.Module):\n",
    "    def __init__(self,input_shape:int,hidden_units:int,output_shape:int):\n",
    "        super().__init__()\n",
    "        self.conv1_block = nn.Sequential(\n",
    "            nn.Conv2d(in_channels=input_shape,\n",
    "                      out_channels=hidden_units,\n",
    "                      kernel_size=3,\n",
    "                      stride=1,\n",
    "                      padding=1),\n",
    "            nn.ReLU(),\n",
    "            nn.Conv2d(in_channels=hidden_units,\n",
    "                      out_channels=hidden_units,\n",
    "                      kernel_size=3,\n",
    "                      stride=1,\n",
    "                      padding=1),\n",
    "            nn.ReLU(),\n",
    "            nn.MaxPool2d(3)\n",
    "        )\n",
    "        self.classifier=nn.Sequential(\n",
    "        nn.Flatten(),\n",
    "        nn.Linear(in_features=hidden_units*10*10,\n",
    "                  out_features=output_shape)\n",
    "    )\n",
    "    def forward(self,x):\n",
    "        x = self.conv1_block(x)\n",
    "        x = self.classifier(x)\n",
    "        return x\n",
    "\n",
    "model0=CIFAR10Model(input_shape=3,hidden_units=16,output_shape=len(train_dataset.classes)).to(device)\n",
    "print(model0)"
   ]
  },
  {
   "cell_type": "code",
   "execution_count": 47,
   "metadata": {},
   "outputs": [
    {
     "name": "stdout",
     "output_type": "stream",
     "text": [
      "----------------------------------------------------------------\n",
      "        Layer (type)               Output Shape         Param #\n",
      "================================================================\n",
      "            Conv2d-1           [32, 16, 32, 32]             448\n",
      "              ReLU-2           [32, 16, 32, 32]               0\n",
      "            Conv2d-3           [32, 16, 32, 32]           2,320\n",
      "              ReLU-4           [32, 16, 32, 32]               0\n",
      "         MaxPool2d-5           [32, 16, 10, 10]               0\n",
      "           Flatten-6                 [32, 1600]               0\n",
      "            Linear-7                   [32, 10]          16,010\n",
      "================================================================\n",
      "Total params: 18,778\n",
      "Trainable params: 18,778\n",
      "Non-trainable params: 0\n",
      "----------------------------------------------------------------\n",
      "Input size (MB): 0.38\n",
      "Forward/backward pass size (MB): 16.78\n",
      "Params size (MB): 0.07\n",
      "Estimated Total Size (MB): 17.23\n",
      "----------------------------------------------------------------\n",
      "sample.shape torch.Size([32, 10])\n"
     ]
    }
   ],
   "source": [
    "from torchsummary import summary\n",
    "summary(model0,input_size=(3,32,32),batch_size=32,device='cuda')\n",
    "\n",
    "sample=model0(train_dataloader_feature.to(device))\n",
    "print(f'sample.shape {sample.shape}')"
   ]
  },
  {
   "cell_type": "markdown",
   "metadata": {},
   "source": [
    "모델 생성 뒤엔 Train, Test Loop를 만들어야한다.\n",
    "\n",
    "1. Loop through epochs\n",
    "2. Loop through training batches, perform training steps, calculate the train loss *per batch*.\n",
    "3. Loop through testing batches, perform testing steps, calculate the test loss *per batch*.\n",
    "4. print out what's happening.\n",
    "5. Time it all (for fun).\n",
    "\n",
    "optimizer와 Loss function도 지정!"
   ]
  },
  {
   "cell_type": "code",
   "execution_count": 10,
   "metadata": {},
   "outputs": [],
   "source": [
    "import torch.optim\n",
    "from torch.nn import CrossEntropyLoss\n",
    "\n",
    "loss_fn = CrossEntropyLoss()\n",
    "optimizer= torch.optim.Adam(params=model0.parameters(),lr=0.001)"
   ]
  },
  {
   "cell_type": "code",
   "execution_count": 11,
   "metadata": {},
   "outputs": [],
   "source": [
    "def accuracy_fn(y_true,y_pred):\n",
    "  correct=torch.eq(y_true,y_pred).sum().item()\n",
    "  acc=(correct/len(y_pred))*100\n",
    "  return acc"
   ]
  },
  {
   "cell_type": "code",
   "execution_count": 12,
   "metadata": {},
   "outputs": [
    {
     "name": "stderr",
     "output_type": "stream",
     "text": [
      "  0%|          | 0/50 [00:00<?, ?it/s]"
     ]
    },
    {
     "name": "stdout",
     "output_type": "stream",
     "text": [
      "---Epochs: 0---\n"
     ]
    },
    {
     "name": "stderr",
     "output_type": "stream",
     "text": [
      "  2%|▏         | 1/50 [00:09<08:00,  9.80s/it]"
     ]
    },
    {
     "name": "stdout",
     "output_type": "stream",
     "text": [
      "\n",
      " Train loss:1.5177| Train acc:46.0813 | Test_loss: 1.3110, Test acc: 52.7556\n",
      "---Epochs: 1---\n"
     ]
    },
    {
     "name": "stderr",
     "output_type": "stream",
     "text": [
      "  4%|▍         | 2/50 [00:19<07:34,  9.47s/it]"
     ]
    },
    {
     "name": "stdout",
     "output_type": "stream",
     "text": [
      "\n",
      " Train loss:1.2408| Train acc:56.5879 | Test_loss: 1.1989, Test acc: 57.6977\n",
      "---Epochs: 2---\n"
     ]
    },
    {
     "name": "stderr",
     "output_type": "stream",
     "text": [
      "  6%|▌         | 3/50 [00:28<07:20,  9.36s/it]"
     ]
    },
    {
     "name": "stdout",
     "output_type": "stream",
     "text": [
      "\n",
      " Train loss:1.1517| Train acc:60.1028 | Test_loss: 1.1466, Test acc: 60.3634\n",
      "---Epochs: 3---\n"
     ]
    },
    {
     "name": "stderr",
     "output_type": "stream",
     "text": [
      "  8%|▊         | 4/50 [00:37<07:07,  9.30s/it]"
     ]
    },
    {
     "name": "stdout",
     "output_type": "stream",
     "text": [
      "\n",
      " Train loss:1.0969| Train acc:62.2721 | Test_loss: 1.1172, Test acc: 61.2520\n",
      "---Epochs: 4---\n"
     ]
    },
    {
     "name": "stderr",
     "output_type": "stream",
     "text": [
      " 10%|█         | 5/50 [00:46<06:57,  9.27s/it]"
     ]
    },
    {
     "name": "stdout",
     "output_type": "stream",
     "text": [
      "\n",
      " Train loss:1.0594| Train acc:63.6196 | Test_loss: 1.0987, Test acc: 61.5016\n",
      "---Epochs: 5---\n"
     ]
    },
    {
     "name": "stderr",
     "output_type": "stream",
     "text": [
      " 12%|█▏        | 6/50 [00:55<06:46,  9.25s/it]"
     ]
    },
    {
     "name": "stdout",
     "output_type": "stream",
     "text": [
      "\n",
      " Train loss:1.0319| Train acc:64.5493 | Test_loss: 1.0798, Test acc: 62.4601\n",
      "---Epochs: 6---\n"
     ]
    },
    {
     "name": "stderr",
     "output_type": "stream",
     "text": [
      " 14%|█▍        | 7/50 [01:05<06:38,  9.27s/it]"
     ]
    },
    {
     "name": "stdout",
     "output_type": "stream",
     "text": [
      "\n",
      " Train loss:1.0060| Train acc:65.3171 | Test_loss: 1.0582, Test acc: 63.2588\n",
      "---Epochs: 7---\n"
     ]
    },
    {
     "name": "stderr",
     "output_type": "stream",
     "text": [
      " 16%|█▌        | 8/50 [01:14<06:28,  9.24s/it]"
     ]
    },
    {
     "name": "stdout",
     "output_type": "stream",
     "text": [
      "\n",
      " Train loss:0.9849| Train acc:66.2268 | Test_loss: 1.0651, Test acc: 63.1190\n",
      "---Epochs: 8---\n"
     ]
    },
    {
     "name": "stderr",
     "output_type": "stream",
     "text": [
      " 18%|█▊        | 9/50 [01:23<06:20,  9.28s/it]"
     ]
    },
    {
     "name": "stdout",
     "output_type": "stream",
     "text": [
      "\n",
      " Train loss:0.9639| Train acc:66.8346 | Test_loss: 1.0423, Test acc: 63.5982\n",
      "---Epochs: 9---\n"
     ]
    },
    {
     "name": "stderr",
     "output_type": "stream",
     "text": [
      " 20%|██        | 10/50 [01:33<06:10,  9.27s/it]"
     ]
    },
    {
     "name": "stdout",
     "output_type": "stream",
     "text": [
      "\n",
      " Train loss:0.9473| Train acc:67.4084 | Test_loss: 1.0275, Test acc: 64.5767\n",
      "---Epochs: 10---\n"
     ]
    },
    {
     "name": "stderr",
     "output_type": "stream",
     "text": [
      " 22%|██▏       | 11/50 [01:42<06:01,  9.26s/it]"
     ]
    },
    {
     "name": "stdout",
     "output_type": "stream",
     "text": [
      "\n",
      " Train loss:0.9352| Train acc:67.7683 | Test_loss: 1.0208, Test acc: 65.1458\n",
      "---Epochs: 11---\n"
     ]
    },
    {
     "name": "stderr",
     "output_type": "stream",
     "text": [
      " 24%|██▍       | 12/50 [01:51<05:51,  9.26s/it]"
     ]
    },
    {
     "name": "stdout",
     "output_type": "stream",
     "text": [
      "\n",
      " Train loss:0.9206| Train acc:68.3741 | Test_loss: 1.0209, Test acc: 64.8962\n",
      "---Epochs: 12---\n"
     ]
    },
    {
     "name": "stderr",
     "output_type": "stream",
     "text": [
      " 26%|██▌       | 13/50 [02:00<05:41,  9.24s/it]"
     ]
    },
    {
     "name": "stdout",
     "output_type": "stream",
     "text": [
      "\n",
      " Train loss:0.9116| Train acc:68.7400 | Test_loss: 1.0252, Test acc: 64.7364\n",
      "---Epochs: 13---\n"
     ]
    },
    {
     "name": "stderr",
     "output_type": "stream",
     "text": [
      " 28%|██▊       | 14/50 [02:10<05:33,  9.26s/it]"
     ]
    },
    {
     "name": "stdout",
     "output_type": "stream",
     "text": [
      "\n",
      " Train loss:0.9007| Train acc:69.0159 | Test_loss: 1.0140, Test acc: 64.7764\n",
      "---Epochs: 14---\n"
     ]
    },
    {
     "name": "stderr",
     "output_type": "stream",
     "text": [
      " 30%|███       | 15/50 [02:19<05:23,  9.24s/it]"
     ]
    },
    {
     "name": "stdout",
     "output_type": "stream",
     "text": [
      "\n",
      " Train loss:0.8909| Train acc:69.0859 | Test_loss: 1.0161, Test acc: 64.8962\n",
      "---Epochs: 15---\n"
     ]
    },
    {
     "name": "stderr",
     "output_type": "stream",
     "text": [
      " 32%|███▏      | 16/50 [02:28<05:13,  9.22s/it]"
     ]
    },
    {
     "name": "stdout",
     "output_type": "stream",
     "text": [
      "\n",
      " Train loss:0.8855| Train acc:69.4518 | Test_loss: 1.0089, Test acc: 65.1458\n",
      "---Epochs: 16---\n"
     ]
    },
    {
     "name": "stderr",
     "output_type": "stream",
     "text": [
      " 34%|███▍      | 17/50 [02:37<05:04,  9.24s/it]"
     ]
    },
    {
     "name": "stdout",
     "output_type": "stream",
     "text": [
      "\n",
      " Train loss:0.8765| Train acc:69.6317 | Test_loss: 1.0097, Test acc: 65.1558\n",
      "---Epochs: 17---\n"
     ]
    },
    {
     "name": "stderr",
     "output_type": "stream",
     "text": [
      " 36%|███▌      | 18/50 [02:46<04:55,  9.23s/it]"
     ]
    },
    {
     "name": "stdout",
     "output_type": "stream",
     "text": [
      "\n",
      " Train loss:0.8731| Train acc:69.6997 | Test_loss: 0.9996, Test acc: 65.6450\n",
      "---Epochs: 18---\n"
     ]
    },
    {
     "name": "stderr",
     "output_type": "stream",
     "text": [
      " 38%|███▊      | 19/50 [02:56<04:45,  9.22s/it]"
     ]
    },
    {
     "name": "stdout",
     "output_type": "stream",
     "text": [
      "\n",
      " Train loss:0.8651| Train acc:70.0796 | Test_loss: 1.0016, Test acc: 65.6849\n",
      "---Epochs: 19---\n"
     ]
    },
    {
     "name": "stderr",
     "output_type": "stream",
     "text": [
      " 40%|████      | 20/50 [03:05<04:35,  9.19s/it]"
     ]
    },
    {
     "name": "stdout",
     "output_type": "stream",
     "text": [
      "\n",
      " Train loss:0.8577| Train acc:70.3575 | Test_loss: 1.0093, Test acc: 65.4253\n",
      "---Epochs: 20---\n"
     ]
    },
    {
     "name": "stderr",
     "output_type": "stream",
     "text": [
      " 42%|████▏     | 21/50 [03:14<04:27,  9.21s/it]"
     ]
    },
    {
     "name": "stdout",
     "output_type": "stream",
     "text": [
      "\n",
      " Train loss:0.8549| Train acc:70.4195 | Test_loss: 1.0045, Test acc: 65.6150\n",
      "---Epochs: 21---\n"
     ]
    },
    {
     "name": "stderr",
     "output_type": "stream",
     "text": [
      " 44%|████▍     | 22/50 [03:23<04:17,  9.20s/it]"
     ]
    },
    {
     "name": "stdout",
     "output_type": "stream",
     "text": [
      "\n",
      " Train loss:0.8504| Train acc:70.4275 | Test_loss: 0.9937, Test acc: 66.0843\n",
      "---Epochs: 22---\n"
     ]
    },
    {
     "name": "stderr",
     "output_type": "stream",
     "text": [
      " 46%|████▌     | 23/50 [03:32<04:08,  9.20s/it]"
     ]
    },
    {
     "name": "stdout",
     "output_type": "stream",
     "text": [
      "\n",
      " Train loss:0.8438| Train acc:70.6774 | Test_loss: 1.0079, Test acc: 65.8147\n",
      "---Epochs: 23---\n"
     ]
    },
    {
     "name": "stderr",
     "output_type": "stream",
     "text": [
      " 48%|████▊     | 24/50 [03:42<03:59,  9.20s/it]"
     ]
    },
    {
     "name": "stdout",
     "output_type": "stream",
     "text": [
      "\n",
      " Train loss:0.8411| Train acc:70.7474 | Test_loss: 0.9910, Test acc: 65.9145\n",
      "---Epochs: 24---\n"
     ]
    },
    {
     "name": "stderr",
     "output_type": "stream",
     "text": [
      " 50%|█████     | 25/50 [03:51<03:49,  9.19s/it]"
     ]
    },
    {
     "name": "stdout",
     "output_type": "stream",
     "text": [
      "\n",
      " Train loss:0.8384| Train acc:70.8493 | Test_loss: 1.0199, Test acc: 65.2855\n",
      "---Epochs: 25---\n"
     ]
    },
    {
     "name": "stderr",
     "output_type": "stream",
     "text": [
      " 52%|█████▏    | 26/50 [04:00<03:40,  9.19s/it]"
     ]
    },
    {
     "name": "stdout",
     "output_type": "stream",
     "text": [
      "\n",
      " Train loss:0.8295| Train acc:71.2292 | Test_loss: 0.9978, Test acc: 65.9944\n",
      "---Epochs: 26---\n"
     ]
    },
    {
     "name": "stderr",
     "output_type": "stream",
     "text": [
      " 54%|█████▍    | 27/50 [04:10<03:35,  9.35s/it]"
     ]
    },
    {
     "name": "stdout",
     "output_type": "stream",
     "text": [
      "\n",
      " Train loss:0.8304| Train acc:71.2152 | Test_loss: 1.0008, Test acc: 66.1242\n",
      "---Epochs: 27---\n"
     ]
    },
    {
     "name": "stderr",
     "output_type": "stream",
     "text": [
      " 56%|█████▌    | 28/50 [04:19<03:25,  9.33s/it]"
     ]
    },
    {
     "name": "stdout",
     "output_type": "stream",
     "text": [
      "\n",
      " Train loss:0.8237| Train acc:71.4971 | Test_loss: 1.0225, Test acc: 65.0260\n",
      "---Epochs: 28---\n"
     ]
    },
    {
     "name": "stderr",
     "output_type": "stream",
     "text": [
      " 58%|█████▊    | 29/50 [04:28<03:15,  9.31s/it]"
     ]
    },
    {
     "name": "stdout",
     "output_type": "stream",
     "text": [
      "\n",
      " Train loss:0.8206| Train acc:71.4551 | Test_loss: 1.0189, Test acc: 65.5351\n",
      "---Epochs: 29---\n"
     ]
    },
    {
     "name": "stderr",
     "output_type": "stream",
     "text": [
      " 60%|██████    | 30/50 [04:37<03:05,  9.27s/it]"
     ]
    },
    {
     "name": "stdout",
     "output_type": "stream",
     "text": [
      "\n",
      " Train loss:0.8209| Train acc:71.6651 | Test_loss: 0.9980, Test acc: 66.1941\n",
      "---Epochs: 30---\n"
     ]
    },
    {
     "name": "stderr",
     "output_type": "stream",
     "text": [
      " 62%|██████▏   | 31/50 [04:47<02:55,  9.26s/it]"
     ]
    },
    {
     "name": "stdout",
     "output_type": "stream",
     "text": [
      "\n",
      " Train loss:0.8140| Train acc:71.5951 | Test_loss: 1.0130, Test acc: 65.5052\n",
      "---Epochs: 31---\n"
     ]
    },
    {
     "name": "stderr",
     "output_type": "stream",
     "text": [
      " 64%|██████▍   | 32/50 [04:56<02:46,  9.24s/it]"
     ]
    },
    {
     "name": "stdout",
     "output_type": "stream",
     "text": [
      "\n",
      " Train loss:0.8129| Train acc:71.7650 | Test_loss: 1.0154, Test acc: 65.8846\n",
      "---Epochs: 32---\n"
     ]
    },
    {
     "name": "stderr",
     "output_type": "stream",
     "text": [
      " 66%|██████▌   | 33/50 [05:05<02:38,  9.33s/it]"
     ]
    },
    {
     "name": "stdout",
     "output_type": "stream",
     "text": [
      "\n",
      " Train loss:0.8124| Train acc:71.8010 | Test_loss: 1.0033, Test acc: 66.0643\n",
      "---Epochs: 33---\n"
     ]
    },
    {
     "name": "stderr",
     "output_type": "stream",
     "text": [
      " 68%|██████▊   | 34/50 [05:15<02:30,  9.43s/it]"
     ]
    },
    {
     "name": "stdout",
     "output_type": "stream",
     "text": [
      "\n",
      " Train loss:0.8098| Train acc:71.8590 | Test_loss: 1.0242, Test acc: 64.8662\n",
      "---Epochs: 34---\n"
     ]
    },
    {
     "name": "stderr",
     "output_type": "stream",
     "text": [
      " 70%|███████   | 35/50 [05:25<02:22,  9.50s/it]"
     ]
    },
    {
     "name": "stdout",
     "output_type": "stream",
     "text": [
      "\n",
      " Train loss:0.8057| Train acc:71.9890 | Test_loss: 1.0298, Test acc: 65.3454\n",
      "---Epochs: 35---\n"
     ]
    },
    {
     "name": "stderr",
     "output_type": "stream",
     "text": [
      " 72%|███████▏  | 36/50 [05:34<02:14,  9.60s/it]"
     ]
    },
    {
     "name": "stdout",
     "output_type": "stream",
     "text": [
      "\n",
      " Train loss:0.8036| Train acc:72.1029 | Test_loss: 1.0100, Test acc: 65.7947\n",
      "---Epochs: 36---\n"
     ]
    },
    {
     "name": "stderr",
     "output_type": "stream",
     "text": [
      " 74%|███████▍  | 37/50 [05:47<02:16, 10.49s/it]"
     ]
    },
    {
     "name": "stdout",
     "output_type": "stream",
     "text": [
      "\n",
      " Train loss:0.7996| Train acc:72.4188 | Test_loss: 1.0222, Test acc: 64.9760\n",
      "---Epochs: 37---\n"
     ]
    },
    {
     "name": "stderr",
     "output_type": "stream",
     "text": [
      " 76%|███████▌  | 38/50 [05:57<02:05, 10.43s/it]"
     ]
    },
    {
     "name": "stdout",
     "output_type": "stream",
     "text": [
      "\n",
      " Train loss:0.7985| Train acc:72.2489 | Test_loss: 1.0149, Test acc: 65.5351\n",
      "---Epochs: 38---\n"
     ]
    },
    {
     "name": "stderr",
     "output_type": "stream",
     "text": [
      " 78%|███████▊  | 39/50 [06:08<01:54, 10.39s/it]"
     ]
    },
    {
     "name": "stdout",
     "output_type": "stream",
     "text": [
      "\n",
      " Train loss:0.7933| Train acc:72.3309 | Test_loss: 1.0098, Test acc: 65.9245\n",
      "---Epochs: 39---\n"
     ]
    },
    {
     "name": "stderr",
     "output_type": "stream",
     "text": [
      " 80%|████████  | 40/50 [06:19<01:45, 10.57s/it]"
     ]
    },
    {
     "name": "stdout",
     "output_type": "stream",
     "text": [
      "\n",
      " Train loss:0.7952| Train acc:72.5508 | Test_loss: 1.0276, Test acc: 65.3255\n",
      "---Epochs: 40---\n"
     ]
    },
    {
     "name": "stderr",
     "output_type": "stream",
     "text": [
      " 82%|████████▏ | 41/50 [06:29<01:33, 10.43s/it]"
     ]
    },
    {
     "name": "stdout",
     "output_type": "stream",
     "text": [
      "\n",
      " Train loss:0.7937| Train acc:72.5188 | Test_loss: 1.0315, Test acc: 65.1857\n",
      "---Epochs: 41---\n"
     ]
    },
    {
     "name": "stderr",
     "output_type": "stream",
     "text": [
      " 84%|████████▍ | 42/50 [06:39<01:23, 10.42s/it]"
     ]
    },
    {
     "name": "stdout",
     "output_type": "stream",
     "text": [
      "\n",
      " Train loss:0.7905| Train acc:72.7007 | Test_loss: 1.0074, Test acc: 65.7847\n",
      "---Epochs: 42---\n"
     ]
    },
    {
     "name": "stderr",
     "output_type": "stream",
     "text": [
      " 86%|████████▌ | 43/50 [06:49<01:12, 10.33s/it]"
     ]
    },
    {
     "name": "stdout",
     "output_type": "stream",
     "text": [
      "\n",
      " Train loss:0.7899| Train acc:72.6468 | Test_loss: 1.0222, Test acc: 64.9161\n",
      "---Epochs: 43---\n"
     ]
    },
    {
     "name": "stderr",
     "output_type": "stream",
     "text": [
      " 88%|████████▊ | 44/50 [06:59<01:01, 10.27s/it]"
     ]
    },
    {
     "name": "stdout",
     "output_type": "stream",
     "text": [
      "\n",
      " Train loss:0.7867| Train acc:72.7027 | Test_loss: 1.0239, Test acc: 65.8646\n",
      "---Epochs: 44---\n"
     ]
    },
    {
     "name": "stderr",
     "output_type": "stream",
     "text": [
      " 90%|█████████ | 45/50 [07:12<00:54, 10.87s/it]"
     ]
    },
    {
     "name": "stdout",
     "output_type": "stream",
     "text": [
      "\n",
      " Train loss:0.7857| Train acc:72.6647 | Test_loss: 1.0007, Test acc: 66.0942\n",
      "---Epochs: 45---\n"
     ]
    },
    {
     "name": "stderr",
     "output_type": "stream",
     "text": [
      " 92%|█████████▏| 46/50 [07:22<00:42, 10.67s/it]"
     ]
    },
    {
     "name": "stdout",
     "output_type": "stream",
     "text": [
      "\n",
      " Train loss:0.7831| Train acc:72.7747 | Test_loss: 1.0150, Test acc: 66.4337\n",
      "---Epochs: 46---\n"
     ]
    },
    {
     "name": "stderr",
     "output_type": "stream",
     "text": [
      " 94%|█████████▍| 47/50 [07:32<00:31, 10.43s/it]"
     ]
    },
    {
     "name": "stdout",
     "output_type": "stream",
     "text": [
      "\n",
      " Train loss:0.7843| Train acc:72.6807 | Test_loss: 1.0310, Test acc: 65.4054\n",
      "---Epochs: 47---\n"
     ]
    },
    {
     "name": "stderr",
     "output_type": "stream",
     "text": [
      " 96%|█████████▌| 48/50 [07:41<00:20, 10.24s/it]"
     ]
    },
    {
     "name": "stdout",
     "output_type": "stream",
     "text": [
      "\n",
      " Train loss:0.7826| Train acc:72.6128 | Test_loss: 1.0345, Test acc: 65.3155\n",
      "---Epochs: 48---\n"
     ]
    },
    {
     "name": "stderr",
     "output_type": "stream",
     "text": [
      " 98%|█████████▊| 49/50 [07:51<00:10, 10.10s/it]"
     ]
    },
    {
     "name": "stdout",
     "output_type": "stream",
     "text": [
      "\n",
      " Train loss:0.7797| Train acc:72.9307 | Test_loss: 1.0274, Test acc: 65.5851\n",
      "---Epochs: 49---\n"
     ]
    },
    {
     "name": "stderr",
     "output_type": "stream",
     "text": [
      "100%|██████████| 50/50 [08:01<00:00,  9.63s/it]"
     ]
    },
    {
     "name": "stdout",
     "output_type": "stream",
     "text": [
      "\n",
      " Train loss:0.7811| Train acc:72.7627 | Test_loss: 1.0431, Test acc: 64.6166\n"
     ]
    },
    {
     "name": "stderr",
     "output_type": "stream",
     "text": [
      "\n"
     ]
    }
   ],
   "source": [
    "from tqdm.auto import tqdm\n",
    "EPOCHS=50\n",
    "for epoch in tqdm(range(EPOCHS)):\n",
    "    print(f\"---Epochs: {epoch}---\")\n",
    "    train_loss = 0.0 # epoch마다 train_loss를 더함\n",
    "    train_acc = 0.0\n",
    "    for batch,(X,y) in enumerate(train_dataloader):\n",
    "        model0.train()\n",
    "        X,y = X.to(device),y.to(device)\n",
    "        # Do the forward pass\n",
    "        y_pred = model0(X)\n",
    "        # Calculate loss\n",
    "        loss = loss_fn(y_pred,y)\n",
    "        train_loss += loss\n",
    "        train_acc+=accuracy_fn(y_true=y,\n",
    "                        y_pred=y_pred.argmax(dim=1))\n",
    "        # optimizer zero grad\n",
    "        optimizer.zero_grad()\n",
    "        # loss backward 모델의 파라미터 기울기를 계산한다.\n",
    "        loss.backward() \n",
    "        # Optimizer step 모델 가중치 갱신\n",
    "        optimizer.step()\n",
    "\n",
    "    train_acc /=len(train_dataloader)   \n",
    "    train_loss /=len(train_dataloader)\n",
    "    ### Testing\n",
    "    test_loss,test_acc=0,0\n",
    "    model0.eval()\n",
    "    with torch.inference_mode():\n",
    "        for X_test,y_test in test_dataloader: \n",
    "            X_test,y_test=X_test.to(device),y_test.to(device)\n",
    "            test_pred=model0(X_test)\n",
    "            # 2. Calculate loss (accumulatively)\n",
    "            test_loss += loss_fn(test_pred,y_test)\n",
    "            test_acc += accuracy_fn(y_test,test_pred.argmax(dim=1))\n",
    "            # Calculate the test loss average per batch\n",
    "        test_loss /= len(test_dataloader)\n",
    "            # Calculate the test acc average per batch\n",
    "        test_acc/=len(test_dataloader)\n",
    "        # Print out what's happening\n",
    "        print(f\"\\n Train loss:{train_loss:.4f}| Train acc:{train_acc:.4f} | Test_loss: {test_loss:.4f}, Test acc: {test_acc:.4f}\")"
   ]
  },
  {
   "cell_type": "markdown",
   "metadata": {},
   "source": [
    "epoch 33부터 Train_loss 74를 유지한다. 하지만 만약 이것이 서비스로 내놔야하는 모델이라면,\n",
    "\n",
    "매우 낮은 수준의 모델이다. 예측이 저조하다.\n",
    "\n",
    "Test_acc도 65로 35퍼 정도는 틀릴 가능성이 있다.\n",
    "\n",
    "모델 측면에서 성능을 올리는 방법을 찾아보자\n",
    "\n",
    "* Adding layer\n",
    "\n",
    "* Increase the number of hidden inits\n",
    "\n",
    "* change/add activation function\n",
    "\n",
    "* change the optimization function\n",
    "\n",
    "* Change learning rate\n",
    "\n",
    "* fitting for longer"
   ]
  },
  {
   "cell_type": "code",
   "execution_count": 13,
   "metadata": {},
   "outputs": [
    {
     "name": "stdout",
     "output_type": "stream",
     "text": [
      "CIFAR10Model1(\n",
      "  (conv1_block): Sequential(\n",
      "    (0): Conv2d(3, 10, kernel_size=(3, 3), stride=(1, 1), padding=(1, 1))\n",
      "    (1): ReLU()\n",
      "    (2): Conv2d(10, 10, kernel_size=(3, 3), stride=(1, 1), padding=(1, 1))\n",
      "    (3): ReLU()\n",
      "    (4): MaxPool2d(kernel_size=3, stride=3, padding=0, dilation=1, ceil_mode=False)\n",
      "  )\n",
      "  (conv1_block1): Sequential(\n",
      "    (0): Conv2d(10, 10, kernel_size=(3, 3), stride=(1, 1), padding=(1, 1))\n",
      "    (1): ReLU()\n",
      "    (2): Conv2d(10, 10, kernel_size=(3, 3), stride=(1, 1), padding=(1, 1))\n",
      "    (3): ReLU()\n",
      "    (4): MaxPool2d(kernel_size=3, stride=3, padding=0, dilation=1, ceil_mode=False)\n",
      "  )\n",
      "  (classifier): Sequential(\n",
      "    (0): Flatten(start_dim=1, end_dim=-1)\n",
      "    (1): Linear(in_features=90, out_features=10, bias=True)\n",
      "  )\n",
      ")\n"
     ]
    }
   ],
   "source": [
    "from torch import nn\n",
    "'''이전 모델보다 레이어 추가와 '''\n",
    "class CIFAR10Model1(nn.Module):\n",
    "    def __init__(self,input_shape:int,hidden_units:int,output_shape:int):\n",
    "        super().__init__()\n",
    "        self.conv1_block = nn.Sequential(\n",
    "            nn.Conv2d(in_channels=input_shape,\n",
    "                      out_channels=hidden_units,\n",
    "                      kernel_size=3,\n",
    "                      stride=1,\n",
    "                      padding=1),\n",
    "            nn.ReLU(),\n",
    "            nn.Conv2d(in_channels=hidden_units,\n",
    "                      out_channels=hidden_units,\n",
    "                      kernel_size=3,\n",
    "                      stride=1,\n",
    "                      padding=1),\n",
    "            nn.ReLU(),\n",
    "            nn.MaxPool2d(3)\n",
    "        )\n",
    "        self.conv1_block1 = nn.Sequential(\n",
    "            nn.Conv2d(in_channels=hidden_units,\n",
    "                      out_channels=hidden_units,\n",
    "                      kernel_size=3,\n",
    "                      stride=1,\n",
    "                      padding=1),\n",
    "            nn.ReLU(),\n",
    "            nn.Conv2d(in_channels=hidden_units,\n",
    "                      out_channels=hidden_units,\n",
    "                      kernel_size=3,\n",
    "                      stride=1,\n",
    "                      padding=1),\n",
    "            nn.ReLU(),\n",
    "            nn.MaxPool2d(3)\n",
    "        )\n",
    "        self.classifier=nn.Sequential(\n",
    "        nn.Flatten(),\n",
    "        nn.Linear(in_features=hidden_units*3*3,\n",
    "                  out_features=output_shape)\n",
    "    )\n",
    "    def forward(self,x):\n",
    "        x = self.conv1_block(x)\n",
    "        #print(x.shape)\n",
    "        x = self.conv1_block1(x)\n",
    "        #print(x.shape)\n",
    "        x = self.classifier(x)\n",
    "        return x\n",
    "    \n",
    "\n",
    "model1=CIFAR10Model1(input_shape=3,hidden_units=10,output_shape=len(train_dataset.classes)).to(device)\n",
    "print(model1)"
   ]
  },
  {
   "cell_type": "code",
   "execution_count": 14,
   "metadata": {},
   "outputs": [
    {
     "name": "stdout",
     "output_type": "stream",
     "text": [
      "----------------------------------------------------------------\n",
      "        Layer (type)               Output Shape         Param #\n",
      "================================================================\n",
      "            Conv2d-1           [32, 10, 32, 32]             280\n",
      "              ReLU-2           [32, 10, 32, 32]               0\n",
      "            Conv2d-3           [32, 10, 32, 32]             910\n",
      "              ReLU-4           [32, 10, 32, 32]               0\n",
      "         MaxPool2d-5           [32, 10, 10, 10]               0\n",
      "            Conv2d-6           [32, 10, 10, 10]             910\n",
      "              ReLU-7           [32, 10, 10, 10]               0\n",
      "            Conv2d-8           [32, 10, 10, 10]             910\n",
      "              ReLU-9           [32, 10, 10, 10]               0\n",
      "        MaxPool2d-10             [32, 10, 3, 3]               0\n",
      "          Flatten-11                   [32, 90]               0\n",
      "           Linear-12                   [32, 10]             910\n",
      "================================================================\n",
      "Total params: 3,920\n",
      "Trainable params: 3,920\n",
      "Non-trainable params: 0\n",
      "----------------------------------------------------------------\n",
      "Input size (MB): 0.38\n",
      "Forward/backward pass size (MB): 11.27\n",
      "Params size (MB): 0.01\n",
      "Estimated Total Size (MB): 11.66\n",
      "----------------------------------------------------------------\n"
     ]
    }
   ],
   "source": [
    "summary(model1,(3,32,32),32,device=\"cuda\")"
   ]
  },
  {
   "cell_type": "code",
   "execution_count": 16,
   "metadata": {},
   "outputs": [
    {
     "name": "stderr",
     "output_type": "stream",
     "text": [
      "  0%|          | 0/2 [00:00<?, ?it/s]"
     ]
    },
    {
     "name": "stdout",
     "output_type": "stream",
     "text": [
      "---Epochs: 0---\n"
     ]
    },
    {
     "name": "stderr",
     "output_type": "stream",
     "text": [
      " 50%|█████     | 1/2 [00:12<00:12, 12.19s/it]"
     ]
    },
    {
     "name": "stdout",
     "output_type": "stream",
     "text": [
      "\n",
      " Train loss:2.3048| Train acc:10.2927 | Test_loss: 2.3049, Test acc: 10.1837\n",
      "---Epochs: 1---\n"
     ]
    },
    {
     "name": "stderr",
     "output_type": "stream",
     "text": [
      "100%|██████████| 2/2 [00:23<00:00, 11.89s/it]"
     ]
    },
    {
     "name": "stdout",
     "output_type": "stream",
     "text": [
      "\n",
      " Train loss:2.3048| Train acc:10.2927 | Test_loss: 2.3049, Test acc: 10.1837\n"
     ]
    },
    {
     "name": "stderr",
     "output_type": "stream",
     "text": [
      "\n"
     ]
    }
   ],
   "source": [
    "from tqdm.auto import tqdm\n",
    "EPOCHS=2\n",
    "for epoch in tqdm(range(EPOCHS)):\n",
    "    print(f\"---Epochs: {epoch}---\")\n",
    "    train_loss = 0.0 # epoch마다 train_loss를 더함\n",
    "    train_acc = 0.0\n",
    "    for batch,(X,y) in enumerate(train_dataloader):\n",
    "        model1.train()\n",
    "        X,y = X.to(device),y.to(device)\n",
    "        # Do the forward pass\n",
    "        y_pred = model1(X)\n",
    "        # Calculate loss\n",
    "        loss = loss_fn(y_pred,y)\n",
    "        train_loss += loss\n",
    "        train_acc+=accuracy_fn(y_true=y,\n",
    "                        y_pred=y_pred.argmax(dim=1))\n",
    "        # optimizer zero grad\n",
    "        optimizer.zero_grad()\n",
    "        # loss backward 모델의 파라미터 기울기를 계산한다.\n",
    "        loss.backward() \n",
    "        # Optimizer step 모델 가중치 갱신\n",
    "        optimizer.step()\n",
    "\n",
    "    train_acc /=len(train_dataloader)   \n",
    "    train_loss /=len(train_dataloader)\n",
    "    ### Testing\n",
    "    test_loss,test_acc=0,0\n",
    "    model1.eval()\n",
    "    with torch.inference_mode():\n",
    "        for X_test,y_test in test_dataloader: \n",
    "            X_test,y_test=X_test.to(device),y_test.to(device)\n",
    "            test_pred=model1(X_test)\n",
    "            # 2. Calculate loss (accumulatively)\n",
    "            test_loss += loss_fn(test_pred,y_test)\n",
    "            test_acc += accuracy_fn(y_test,test_pred.argmax(dim=1))\n",
    "            # Calculate the test loss average per batch\n",
    "        test_loss /= len(test_dataloader)\n",
    "            # Calculate the test acc average per batch\n",
    "        test_acc/=len(test_dataloader)\n",
    "        # Print out what's happening\n",
    "        print(f\"\\n Train loss:{train_loss:.4f}| Train acc:{train_acc:.4f} | Test_loss: {test_loss:.4f}, Test acc: {test_acc:.4f}\")"
   ]
  },
  {
   "cell_type": "markdown",
   "metadata": {},
   "source": [
    "conv2d block 1개 더 추가하였지만 오히려 더 성능이 낮아짐."
   ]
  },
  {
   "cell_type": "code",
   "execution_count": 26,
   "metadata": {},
   "outputs": [
    {
     "name": "stdout",
     "output_type": "stream",
     "text": [
      "CIFAR10Model1(\n",
      "  (conv1_block): Sequential(\n",
      "    (0): Conv2d(3, 32, kernel_size=(3, 3), stride=(1, 1), padding=(1, 1))\n",
      "    (1): ReLU()\n",
      "    (2): Conv2d(32, 32, kernel_size=(3, 3), stride=(1, 1), padding=(1, 1))\n",
      "    (3): ReLU()\n",
      "    (4): MaxPool2d(kernel_size=3, stride=3, padding=0, dilation=1, ceil_mode=False)\n",
      "  )\n",
      "  (classifier): Sequential(\n",
      "    (0): Flatten(start_dim=1, end_dim=-1)\n",
      "    (1): Linear(in_features=3200, out_features=10, bias=True)\n",
      "  )\n",
      ")\n"
     ]
    }
   ],
   "source": [
    "from torch import nn\n",
    "'''hiddent units 추가'''\n",
    "class CIFAR10Model1(nn.Module):\n",
    "    def __init__(self,input_shape:int,hidden_units:int,output_shape:int):\n",
    "        super().__init__()\n",
    "        self.conv1_block = nn.Sequential(\n",
    "            nn.Conv2d(in_channels=input_shape,\n",
    "                      out_channels=hidden_units,\n",
    "                      kernel_size=3,\n",
    "                      stride=1,\n",
    "                      padding=1),\n",
    "            nn.ReLU(),\n",
    "            nn.Conv2d(in_channels=hidden_units,\n",
    "                      out_channels=hidden_units,\n",
    "                      kernel_size=3,\n",
    "                      stride=1,\n",
    "                      padding=1),\n",
    "            nn.ReLU(),\n",
    "            nn.MaxPool2d(3)\n",
    "        )\n",
    "        self.classifier=nn.Sequential(\n",
    "        nn.Flatten(),\n",
    "        nn.Linear(in_features=hidden_units*10*10,\n",
    "                  out_features=output_shape)\n",
    "    )\n",
    "    def forward(self,x):\n",
    "        x = self.conv1_block(x)\n",
    "        print(x)\n",
    "        x = self.classifier(x)\n",
    "        return x\n",
    "    \n",
    "model2=CIFAR10Model1(input_shape=3,hidden_units=32,output_shape=len(train_dataset.classes)).to(device)\n",
    "print(model2)"
   ]
  },
  {
   "cell_type": "code",
   "execution_count": 27,
   "metadata": {},
   "outputs": [
    {
     "name": "stdout",
     "output_type": "stream",
     "text": [
      "----------------------------------------------------------------\n",
      "        Layer (type)               Output Shape         Param #\n",
      "================================================================\n",
      "            Conv2d-1           [32, 32, 32, 32]             896\n",
      "              ReLU-2           [32, 32, 32, 32]               0\n",
      "            Conv2d-3           [32, 32, 32, 32]           9,248\n",
      "              ReLU-4           [32, 32, 32, 32]               0\n",
      "         MaxPool2d-5           [32, 32, 10, 10]               0\n",
      "           Flatten-6                 [32, 3200]               0\n",
      "            Linear-7                   [32, 10]          32,010\n",
      "================================================================\n",
      "Total params: 42,154\n",
      "Trainable params: 42,154\n",
      "Non-trainable params: 0\n",
      "----------------------------------------------------------------\n",
      "Input size (MB): 0.38\n",
      "Forward/backward pass size (MB): 33.56\n",
      "Params size (MB): 0.16\n",
      "Estimated Total Size (MB): 34.10\n",
      "----------------------------------------------------------------\n"
     ]
    }
   ],
   "source": [
    "summary(model2,(3,32,32),32,device=\"cuda\")"
   ]
  },
  {
   "cell_type": "code",
   "execution_count": 28,
   "metadata": {},
   "outputs": [
    {
     "name": "stderr",
     "output_type": "stream",
     "text": [
      "  0%|          | 0/6 [00:00<?, ?it/s]"
     ]
    },
    {
     "name": "stdout",
     "output_type": "stream",
     "text": [
      "---Epochs: 0---\n"
     ]
    },
    {
     "name": "stderr",
     "output_type": "stream",
     "text": [
      " 17%|█▋        | 1/6 [00:10<00:50, 10.17s/it]"
     ]
    },
    {
     "name": "stdout",
     "output_type": "stream",
     "text": [
      "\n",
      " Train loss:2.3028| Train acc:8.8052 | Test_loss: 2.3026, Test acc: 8.2967\n",
      "---Epochs: 1---\n"
     ]
    },
    {
     "name": "stderr",
     "output_type": "stream",
     "text": [
      " 33%|███▎      | 2/6 [00:20<00:41, 10.31s/it]"
     ]
    },
    {
     "name": "stdout",
     "output_type": "stream",
     "text": [
      "\n",
      " Train loss:2.3028| Train acc:8.8132 | Test_loss: 2.3026, Test acc: 8.2967\n",
      "---Epochs: 2---\n"
     ]
    },
    {
     "name": "stderr",
     "output_type": "stream",
     "text": [
      " 50%|█████     | 3/6 [00:31<00:31, 10.41s/it]"
     ]
    },
    {
     "name": "stdout",
     "output_type": "stream",
     "text": [
      "\n",
      " Train loss:2.3028| Train acc:8.8072 | Test_loss: 2.3026, Test acc: 8.2967\n",
      "---Epochs: 3---\n"
     ]
    },
    {
     "name": "stderr",
     "output_type": "stream",
     "text": [
      " 67%|██████▋   | 4/6 [00:41<00:20, 10.25s/it]"
     ]
    },
    {
     "name": "stdout",
     "output_type": "stream",
     "text": [
      "\n",
      " Train loss:2.3028| Train acc:8.8092 | Test_loss: 2.3026, Test acc: 8.2967\n",
      "---Epochs: 4---\n"
     ]
    },
    {
     "name": "stderr",
     "output_type": "stream",
     "text": [
      " 83%|████████▎ | 5/6 [00:51<00:10, 10.23s/it]"
     ]
    },
    {
     "name": "stdout",
     "output_type": "stream",
     "text": [
      "\n",
      " Train loss:2.3028| Train acc:8.8052 | Test_loss: 2.3026, Test acc: 8.2967\n",
      "---Epochs: 5---\n"
     ]
    },
    {
     "name": "stderr",
     "output_type": "stream",
     "text": [
      "100%|██████████| 6/6 [01:01<00:00, 10.23s/it]"
     ]
    },
    {
     "name": "stdout",
     "output_type": "stream",
     "text": [
      "\n",
      " Train loss:2.3028| Train acc:8.8052 | Test_loss: 2.3026, Test acc: 8.2967\n"
     ]
    },
    {
     "name": "stderr",
     "output_type": "stream",
     "text": [
      "\n"
     ]
    }
   ],
   "source": [
    "from tqdm.auto import tqdm\n",
    "EPOCHS=6\n",
    "for epoch in tqdm(range(EPOCHS)):\n",
    "    print(f\"---Epochs: {epoch}---\")\n",
    "    train_loss = 0.0 # epoch마다 train_loss를 더함\n",
    "    train_acc = 0.0\n",
    "    for batch,(X,y) in enumerate(train_dataloader):\n",
    "        model2.train()\n",
    "        X,y = X.to(device),y.to(device)\n",
    "        # Do the forward pass\n",
    "        y_pred = model2(X)\n",
    "        # Calculate loss\n",
    "        loss = loss_fn(y_pred,y)\n",
    "        train_loss += loss\n",
    "        train_acc+=accuracy_fn(y_true=y,\n",
    "                        y_pred=y_pred.argmax(dim=1))\n",
    "        # optimizer zero grad\n",
    "        optimizer.zero_grad()\n",
    "        # loss backward 모델의 파라미터 기울기를 계산한다.\n",
    "        loss.backward() \n",
    "        # Optimizer step 모델 가중치 갱신\n",
    "        optimizer.step()\n",
    "\n",
    "    train_acc /=len(train_dataloader)   \n",
    "    train_loss /=len(train_dataloader)\n",
    "    ### Testing\n",
    "    test_loss,test_acc=0,0\n",
    "    model1.eval()\n",
    "    with torch.inference_mode():\n",
    "        for X_test,y_test in test_dataloader: \n",
    "            X_test,y_test=X_test.to(device),y_test.to(device)\n",
    "            test_pred=model2(X_test)\n",
    "            # 2. Calculate loss (accumulatively)\n",
    "            test_loss += loss_fn(test_pred,y_test)\n",
    "            test_acc += accuracy_fn(y_test,test_pred.argmax(dim=1))\n",
    "            # Calculate the test loss average per batch\n",
    "        test_loss /= len(test_dataloader)\n",
    "            # Calculate the test acc average per batch\n",
    "        test_acc/=len(test_dataloader)\n",
    "        # Print out what's happening\n",
    "        print(f\"\\n Train loss:{train_loss:.4f}| Train acc:{train_acc:.4f} | Test_loss: {test_loss:.4f}, Test acc: {test_acc:.4f}\")"
   ]
  },
  {
   "cell_type": "code",
   "execution_count": null,
   "metadata": {},
   "outputs": [],
   "source": []
  }
 ],
 "metadata": {
  "kernelspec": {
   "display_name": "pytorch_project",
   "language": "python",
   "name": "python3"
  },
  "language_info": {
   "codemirror_mode": {
    "name": "ipython",
    "version": 3
   },
   "file_extension": ".py",
   "mimetype": "text/x-python",
   "name": "python",
   "nbconvert_exporter": "python",
   "pygments_lexer": "ipython3",
   "version": "3.7.16"
  }
 },
 "nbformat": 4,
 "nbformat_minor": 2
}
