{
 "cells": [
  {
   "cell_type": "markdown",
   "metadata": {},
   "source": [
    "CIFAR10 데이터셋을 이미지 분류 \n",
    "\n",
    "컴퓨터 비전 분야에서 딥러닝을 통해 \n",
    "\n",
    "가장 처음에 고안된 방안인\n",
    "\n",
    "이미지 분류를 진행해보자!\n",
    "\n",
    "CIFAR 10 데이터셋은 \n",
    "\n",
    "3*32*32 픽셀의 60000개의 컬러이미지(RGB) 데이터셋이다.\n",
    "\n",
    "클래스의 개수는 10개이며 \n",
    "\n",
    "비행기, 자동차, 새, 고양이, 사슴, 개, 개구리, 말, 배, 트럭이 있다.\n",
    "\n",
    "보통 50000개는 훈련, 10000개는 테스트데이터셋으로 구성하는 편이다."
   ]
  },
  {
   "cell_type": "code",
   "execution_count": null,
   "metadata": {},
   "outputs": [],
   "source": [
    "import torch"
   ]
  },
  {
   "cell_type": "code",
   "execution_count": null,
   "metadata": {},
   "outputs": [],
   "source": [
    "# 1. Getting Data (데이터셋 가져오기)\n",
    "\n",
    "import "
   ]
  }
 ],
 "metadata": {
  "language_info": {
   "name": "python"
  }
 },
 "nbformat": 4,
 "nbformat_minor": 2
}
