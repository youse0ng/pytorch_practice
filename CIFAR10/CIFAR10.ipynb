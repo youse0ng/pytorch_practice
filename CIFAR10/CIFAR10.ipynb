{
 "cells": [
  {
   "cell_type": "markdown",
   "metadata": {},
   "source": [
    "CIFAR10 데이터셋을 이미지 분류 \n",
    "\n",
    "컴퓨터 비전 분야에서 딥러닝을 통해 \n",
    "\n",
    "가장 처음에 고안된 방안인\n",
    "\n",
    "이미지 분류를 진행해보자!\n",
    "\n",
    "CIFAR 10 데이터셋은 \n",
    "\n",
    "3*32*32 픽셀의 60000개의 컬러이미지(RGB) 데이터셋이다.\n",
    "\n",
    "클래스의 개수는 10개이며 \n",
    "\n",
    "비행기, 자동차, 새, 고양이, 사슴, 개, 개구리, 말, 배, 트럭이 있다.\n",
    "\n",
    "보통 50000개는 훈련, 10000개는 테스트데이터셋으로 구성하는 편이다."
   ]
  },
  {
   "cell_type": "markdown",
   "metadata": {},
   "source": [
    "* `torchvision` - base domain library for Pytorch computer vision\n",
    "* `torchvision.datasets` - get datasets and data loading functions for computuer vision here\n",
    "* `torchvision.models` - get pretrained computer vision models that you can leverage for your own problems\n",
    "* `torchvision.transform` - functions for manipulating your vision data (images) to be suitable foruse with an ML model\n",
    "* `torch.utils.data.Dataset` - Base dataset class for Pytorch.\n",
    "* `torch.utils.data.DataLoader` - Creates a Python iterable over a dataset"
   ]
  },
  {
   "cell_type": "code",
   "execution_count": null,
   "metadata": {},
   "outputs": [],
   "source": [
    "import torch\n",
    "import torchvision # 컴퓨터 비전에 필요한 패키징\n",
    "\n",
    "from torchvision import datasets # Image 데이터셋이 있는곳\n",
    "from torchvision import transforms # 이미지 전처리(Crop, 어파인 변환 이런게 있는거 같던데)\n",
    "from torch.utils.data import Dataset # 데이터셋 클래스 상속할 때 쓰는 기반클래스\n",
    "from torch.utils.data import DataLoader # dataset을 iterable할 수 있게하는 Dataloader\n",
    "\n",
    "import matplotlib.pyplot as plt\n",
    "# agnostic code\n",
    "device = \"cuda\" if torch.cuda.is_available() else \"cpu\"\n",
    "\n",
    "print(device) # gpu 사용"
   ]
  },
  {
   "cell_type": "code",
   "execution_count": null,
   "metadata": {},
   "outputs": [],
   "source": [
    "# 1. Getting Data (데이터셋 가져오기)\n",
    "\n",
    "train_dataset=datasets.CIFAR10(root='Data',\n",
    "                               train=True,\n",
    "                               transform=transforms.ToTensor(),\n",
    "                               target_transform=None,\n",
    "                               download=True)\n",
    "test_dataset=datasets.CIFAR10(root='Data',\n",
    "                              train=False,\n",
    "                              transform=transforms.ToTensor(),\n",
    "                              target_transform=None,\n",
    "                              download=True)\n",
    "\n"
   ]
  },
  {
   "cell_type": "code",
   "execution_count": null,
   "metadata": {},
   "outputs": [],
   "source": [
    "# datasets.CIFAR10를 참조한 train_dataset에 대해 확인하기\n",
    "print(train_dataset)\n",
    "print(dir(train_dataset)) # 클래스에 부여된 속성 또는 메소드를 확인할 수 있다. 'class_to_idx', 'classes'\n",
    "print(len(train_dataset))\n",
    "\n",
    "print(train_dataset.class_to_idx) # 딕셔너리 형태\n",
    "print(train_dataset.classes) # 리스트 형태 \n",
    "\n",
    "print(train_dataset.__getitem__(0)) # 인덱스 0번의 값 출력, 튜플 형태 (텐서정보(3*32*32),클래스넘버) 정보 전달\n"
   ]
  },
  {
   "cell_type": "code",
   "execution_count": null,
   "metadata": {},
   "outputs": [],
   "source": [
    "# 데이터셋 추출 후 시각화 해보기\n",
    "\n",
    "plt.figure()\n",
    "plt.imshow(train_dataset.__getitem__(0)[0].permute(1,2,0)) # torch의 텐서와 matplotlib의 rgb 순서가 달라서 변환해줘야함.\n",
    "plt.title(train_dataset.classes[train_dataset.__getitem__(0)[1]])\n",
    "plt.axis(False)\n",
    "plt.show()"
   ]
  },
  {
   "cell_type": "code",
   "execution_count": null,
   "metadata": {},
   "outputs": [],
   "source": [
    "# 랜덤으로 10개 정도 그려보기\n",
    "import random\n",
    "fig = plt.figure(figsize=(60,60))\n",
    "nrows,ncols=1,10\n",
    "\n",
    "for i in range(1,nrows*ncols+1):\n",
    "    random_idx = random.randint(a=0, b=len(train_dataset))\n",
    "    img, idx = train_dataset[random_idx]\n",
    "    fig.add_subplot(nrows,ncols,i)\n",
    "    plt.imshow(img.permute(1,2,0))\n",
    "    plt.axis(False)\n",
    "    plt.title(train_dataset.classes[idx])\n",
    "    plt.show()\n"
   ]
  },
  {
   "cell_type": "markdown",
   "metadata": {},
   "source": [
    "데이터셋 정보를 iterable한 객체로 만들어서 model에 넣어줘야한다.\n",
    "\n",
    "DataLoader를 구현해야함"
   ]
  },
  {
   "cell_type": "code",
   "execution_count": 31,
   "metadata": {},
   "outputs": [
    {
     "name": "stdout",
     "output_type": "stream",
     "text": [
      "<torch.utils.data.dataloader.DataLoader object at 0x000001A5163525E0>\n",
      "1563\n",
      "['_DataLoader__initialized', '_DataLoader__multiprocessing_context', '_IterableDataset_len_called', '__annotations__', '__class__', '__class_getitem__', '__delattr__', '__dict__', '__dir__', '__doc__', '__eq__', '__format__', '__ge__', '__getattribute__', '__gt__', '__hash__', '__init__', '__init_subclass__', '__iter__', '__le__', '__len__', '__lt__', '__module__', '__ne__', '__new__', '__orig_bases__', '__parameters__', '__reduce__', '__reduce_ex__', '__repr__', '__setattr__', '__sizeof__', '__slots__', '__str__', '__subclasshook__', '__weakref__', '_auto_collation', '_dataset_kind', '_get_iterator', '_index_sampler', '_is_protocol', '_iterator', 'batch_sampler', 'batch_size', 'check_worker_number_rationality', 'collate_fn', 'dataset', 'drop_last', 'generator', 'multiprocessing_context', 'num_workers', 'persistent_workers', 'pin_memory', 'pin_memory_device', 'prefetch_factor', 'sampler', 'timeout', 'worker_init_fn']\n"
     ]
    },
    {
     "data": {
      "text/plain": [
       "torch.Size([32, 3, 32, 32])"
      ]
     },
     "execution_count": 31,
     "metadata": {},
     "output_type": "execute_result"
    }
   ],
   "source": [
    "from torch.utils.data import DataLoader\n",
    "from os import cpu_count\n",
    "BATCH_SIZE=32\n",
    "train_dataloader = DataLoader(dataset=train_dataset,\n",
    "                              batch_size=BATCH_SIZE,\n",
    "                              shuffle=True,\n",
    "                              num_workers=cpu_count()\n",
    ")\n",
    "test_dataloader = DataLoader(dataset=test_dataset,\n",
    "                             batch_size=BATCH_SIZE,\n",
    "                             shuffle=False,\n",
    "                             num_workers=cpu_count(),\n",
    "                             )\n",
    "\n",
    "print(train_dataloader)\n",
    "print(len(train_dataloader)) # 1563 (50000//32) shape(32,3,32,32)\n",
    "print(dir(train_dataloader)) \n",
    "\n",
    "train_dataloader_feature,train_dataloader_label=next(iter(train_dataloader))\n",
    "test_dataloader_feature,test_dataloader_label=next(iter(test_dataloader))\n",
    "train_dataloader_feature.shape # shape (32,3,32,32) = (batch_size,channel,height,width)\n"
   ]
  },
  {
   "cell_type": "markdown",
   "metadata": {},
   "source": [
    "train_dataloader_feature와 train_dataloader_label을 알아보자"
   ]
  },
  {
   "cell_type": "code",
   "execution_count": 35,
   "metadata": {},
   "outputs": [
    {
     "name": "stdout",
     "output_type": "stream",
     "text": [
      "tensor([[[[0.5647, 0.6039, 0.3137,  ..., 0.5608, 0.6588, 0.7137],\n",
      "          [0.5647, 0.4235, 0.2039,  ..., 0.6275, 0.5451, 0.6627],\n",
      "          [0.7137, 0.6235, 0.2235,  ..., 0.6706, 0.6627, 0.5882],\n",
      "          ...,\n",
      "          [0.2824, 0.2706, 0.2941,  ..., 0.4863, 0.4039, 0.4314],\n",
      "          [0.2941, 0.4039, 0.3412,  ..., 0.2902, 0.3451, 0.2431],\n",
      "          [0.5686, 0.4235, 0.5020,  ..., 0.5059, 0.6314, 0.7137]],\n",
      "\n",
      "         [[0.3608, 0.4078, 0.1961,  ..., 0.4392, 0.5569, 0.6118],\n",
      "          [0.3961, 0.2431, 0.0667,  ..., 0.4824, 0.4235, 0.5412],\n",
      "          [0.6039, 0.4902, 0.0980,  ..., 0.5333, 0.5529, 0.4745],\n",
      "          ...,\n",
      "          [0.1294, 0.1176, 0.1412,  ..., 0.3529, 0.2745, 0.3059],\n",
      "          [0.1333, 0.2314, 0.1765,  ..., 0.1412, 0.2078, 0.1255],\n",
      "          [0.4078, 0.2510, 0.3529,  ..., 0.3412, 0.4902, 0.5961]],\n",
      "\n",
      "         [[0.3608, 0.3961, 0.2078,  ..., 0.4196, 0.5373, 0.6000],\n",
      "          [0.4000, 0.2549, 0.0863,  ..., 0.4745, 0.4118, 0.5373],\n",
      "          [0.6039, 0.5098, 0.1216,  ..., 0.5176, 0.5333, 0.4706],\n",
      "          ...,\n",
      "          [0.1882, 0.1765, 0.2000,  ..., 0.4039, 0.3098, 0.3294],\n",
      "          [0.1922, 0.2902, 0.2314,  ..., 0.1843, 0.2392, 0.1490],\n",
      "          [0.4392, 0.2902, 0.3804,  ..., 0.3804, 0.5176, 0.6157]]],\n",
      "\n",
      "\n",
      "        [[[0.3412, 0.3294, 0.3176,  ..., 0.2706, 0.2667, 0.2627],\n",
      "          [0.3333, 0.3216, 0.3020,  ..., 0.2510, 0.2549, 0.2549],\n",
      "          [0.3216, 0.3176, 0.3098,  ..., 0.2471, 0.2510, 0.2471],\n",
      "          ...,\n",
      "          [0.2941, 0.2471, 0.2510,  ..., 0.0863, 0.0863, 0.1412],\n",
      "          [0.2941, 0.2353, 0.2471,  ..., 0.1608, 0.1647, 0.2078],\n",
      "          [0.2784, 0.2039, 0.1765,  ..., 0.1686, 0.1882, 0.2275]],\n",
      "\n",
      "         [[0.5333, 0.5255, 0.5098,  ..., 0.4588, 0.4549, 0.4549],\n",
      "          [0.5608, 0.5490, 0.5294,  ..., 0.4510, 0.4549, 0.4549],\n",
      "          [0.5490, 0.5451, 0.5373,  ..., 0.4549, 0.4588, 0.4588],\n",
      "          ...,\n",
      "          [0.3765, 0.3294, 0.3333,  ..., 0.1216, 0.1451, 0.2431],\n",
      "          [0.4157, 0.3412, 0.3333,  ..., 0.2157, 0.2353, 0.3137],\n",
      "          [0.4157, 0.3216, 0.2745,  ..., 0.2510, 0.2824, 0.3373]],\n",
      "\n",
      "         [[0.6353, 0.6314, 0.6157,  ..., 0.5216, 0.5294, 0.5490],\n",
      "          [0.6706, 0.6588, 0.6392,  ..., 0.5255, 0.5333, 0.5451],\n",
      "          [0.6392, 0.6392, 0.6314,  ..., 0.5373, 0.5451, 0.5490],\n",
      "          ...,\n",
      "          [0.4000, 0.3412, 0.3333,  ..., 0.1255, 0.1412, 0.2275],\n",
      "          [0.4196, 0.3412, 0.3294,  ..., 0.2157, 0.2314, 0.2941],\n",
      "          [0.4118, 0.3176, 0.2667,  ..., 0.2392, 0.2667, 0.3176]]],\n",
      "\n",
      "\n",
      "        [[[0.3608, 0.3490, 0.3490,  ..., 0.4784, 0.4431, 0.2784],\n",
      "          [0.4275, 0.4431, 0.4549,  ..., 0.4000, 0.3608, 0.2196],\n",
      "          [0.5176, 0.4471, 0.4941,  ..., 0.2588, 0.2196, 0.1647],\n",
      "          ...,\n",
      "          [0.4039, 0.4392, 0.4392,  ..., 0.1961, 0.2196, 0.2314],\n",
      "          [0.3961, 0.4510, 0.4471,  ..., 0.2275, 0.2431, 0.2588],\n",
      "          [0.4431, 0.4431, 0.4196,  ..., 0.2627, 0.2588, 0.2588]],\n",
      "\n",
      "         [[0.4353, 0.4235, 0.4275,  ..., 0.6078, 0.5647, 0.3961],\n",
      "          [0.4980, 0.5137, 0.5216,  ..., 0.5216, 0.4706, 0.3216],\n",
      "          [0.5804, 0.5020, 0.5412,  ..., 0.3765, 0.3216, 0.2549],\n",
      "          ...,\n",
      "          [0.4118, 0.4902, 0.5059,  ..., 0.2510, 0.2784, 0.2980],\n",
      "          [0.4078, 0.4863, 0.4980,  ..., 0.2863, 0.3059, 0.3216],\n",
      "          [0.4549, 0.4627, 0.4471,  ..., 0.3294, 0.3216, 0.3216]],\n",
      "\n",
      "         [[0.4784, 0.4863, 0.5098,  ..., 0.7059, 0.6510, 0.4745],\n",
      "          [0.5490, 0.5608, 0.5725,  ..., 0.5804, 0.5333, 0.3843],\n",
      "          [0.6314, 0.5451, 0.5765,  ..., 0.4118, 0.3647, 0.2980],\n",
      "          ...,\n",
      "          [0.4392, 0.5451, 0.5725,  ..., 0.3333, 0.3686, 0.3882],\n",
      "          [0.4314, 0.5294, 0.5490,  ..., 0.3725, 0.3961, 0.4157],\n",
      "          [0.4784, 0.4941, 0.4863,  ..., 0.4157, 0.4118, 0.4118]]],\n",
      "\n",
      "\n",
      "        ...,\n",
      "\n",
      "\n",
      "        [[[0.3686, 0.3961, 0.3725,  ..., 0.5686, 0.5686, 0.4745],\n",
      "          [0.3490, 0.3804, 0.3961,  ..., 0.5725, 0.5725, 0.4784],\n",
      "          [0.3373, 0.3686, 0.4196,  ..., 0.5725, 0.5765, 0.4824],\n",
      "          ...,\n",
      "          [0.8039, 0.8157, 0.7882,  ..., 0.5686, 0.5843, 0.4902],\n",
      "          [0.7882, 0.8039, 0.7765,  ..., 0.6039, 0.6196, 0.5255],\n",
      "          [0.7451, 0.7373, 0.6863,  ..., 0.6353, 0.6392, 0.5294]],\n",
      "\n",
      "         [[0.3373, 0.3569, 0.3333,  ..., 0.5412, 0.5490, 0.4588],\n",
      "          [0.3294, 0.3490, 0.3569,  ..., 0.5373, 0.5451, 0.4588],\n",
      "          [0.3294, 0.3451, 0.3843,  ..., 0.5333, 0.5412, 0.4549],\n",
      "          ...,\n",
      "          [0.8039, 0.8157, 0.7882,  ..., 0.5843, 0.5961, 0.5020],\n",
      "          [0.7882, 0.8039, 0.7765,  ..., 0.6196, 0.6353, 0.5412],\n",
      "          [0.7451, 0.7373, 0.6863,  ..., 0.6431, 0.6510, 0.5373]],\n",
      "\n",
      "         [[0.2275, 0.2392, 0.2118,  ..., 0.4157, 0.4235, 0.3529],\n",
      "          [0.2157, 0.2314, 0.2353,  ..., 0.4157, 0.4196, 0.3529],\n",
      "          [0.2118, 0.2235, 0.2627,  ..., 0.4157, 0.4196, 0.3529],\n",
      "          ...,\n",
      "          [0.8000, 0.8118, 0.7843,  ..., 0.5843, 0.6157, 0.5294],\n",
      "          [0.7882, 0.8039, 0.7765,  ..., 0.6627, 0.6941, 0.6000],\n",
      "          [0.7412, 0.7333, 0.6784,  ..., 0.7137, 0.7216, 0.6078]]],\n",
      "\n",
      "\n",
      "        [[[0.3216, 0.3059, 0.2941,  ..., 0.2824, 0.3137, 0.4235],\n",
      "          [0.3412, 0.3255, 0.3176,  ..., 0.2706, 0.3216, 0.4510],\n",
      "          [0.3176, 0.2980, 0.3255,  ..., 0.2588, 0.3020, 0.4471],\n",
      "          ...,\n",
      "          [0.0941, 0.1216, 0.2353,  ..., 0.4196, 0.3686, 0.3176],\n",
      "          [0.0902, 0.1725, 0.2157,  ..., 0.4000, 0.3451, 0.2784],\n",
      "          [0.1333, 0.1725, 0.2039,  ..., 0.3608, 0.3255, 0.2431]],\n",
      "\n",
      "         [[0.2588, 0.2431, 0.2314,  ..., 0.2000, 0.2510, 0.3529],\n",
      "          [0.2902, 0.2745, 0.2667,  ..., 0.1922, 0.2627, 0.3882],\n",
      "          [0.2824, 0.2627, 0.2902,  ..., 0.1922, 0.2510, 0.3882],\n",
      "          ...,\n",
      "          [0.1059, 0.1176, 0.2157,  ..., 0.3412, 0.2745, 0.2314],\n",
      "          [0.0863, 0.1569, 0.1804,  ..., 0.3176, 0.2510, 0.1961],\n",
      "          [0.1098, 0.1294, 0.1490,  ..., 0.2745, 0.2314, 0.1647]],\n",
      "\n",
      "         [[0.2314, 0.2157, 0.2039,  ..., 0.1451, 0.1843, 0.2784],\n",
      "          [0.2667, 0.2549, 0.2471,  ..., 0.1294, 0.1804, 0.2941],\n",
      "          [0.2706, 0.2510, 0.2745,  ..., 0.1216, 0.1647, 0.2941],\n",
      "          ...,\n",
      "          [0.0706, 0.0863, 0.1804,  ..., 0.2627, 0.2000, 0.1725],\n",
      "          [0.0392, 0.1059, 0.1294,  ..., 0.2353, 0.1765, 0.1373],\n",
      "          [0.0431, 0.0627, 0.0784,  ..., 0.1882, 0.1529, 0.1098]]],\n",
      "\n",
      "\n",
      "        [[[0.2784, 0.2941, 0.4353,  ..., 0.3922, 0.3373, 0.2039],\n",
      "          [0.2000, 0.2549, 0.5020,  ..., 0.3882, 0.3765, 0.2118],\n",
      "          [0.3529, 0.2941, 0.4902,  ..., 0.3333, 0.3216, 0.2588],\n",
      "          ...,\n",
      "          [0.6196, 0.6392, 0.6392,  ..., 0.6275, 0.6000, 0.5098],\n",
      "          [0.5882, 0.5961, 0.6627,  ..., 0.6353, 0.6235, 0.5176],\n",
      "          [0.5725, 0.5843, 0.6510,  ..., 0.5961, 0.6039, 0.5216]],\n",
      "\n",
      "         [[0.2667, 0.2902, 0.4431,  ..., 0.3882, 0.3333, 0.1922],\n",
      "          [0.1882, 0.2510, 0.5020,  ..., 0.3804, 0.3686, 0.2000],\n",
      "          [0.3373, 0.2863, 0.4863,  ..., 0.3294, 0.3176, 0.2471],\n",
      "          ...,\n",
      "          [0.6510, 0.6431, 0.6314,  ..., 0.6235, 0.6000, 0.5098],\n",
      "          [0.6235, 0.6078, 0.6588,  ..., 0.6275, 0.6235, 0.5176],\n",
      "          [0.5804, 0.5725, 0.6235,  ..., 0.5922, 0.5922, 0.5176]],\n",
      "\n",
      "         [[0.2118, 0.1961, 0.2784,  ..., 0.2784, 0.2275, 0.1333],\n",
      "          [0.1020, 0.1412, 0.3529,  ..., 0.2667, 0.2588, 0.1373],\n",
      "          [0.2275, 0.1529, 0.3294,  ..., 0.2118, 0.2039, 0.1843],\n",
      "          ...,\n",
      "          [0.4784, 0.4745, 0.4745,  ..., 0.4314, 0.4314, 0.3725],\n",
      "          [0.4667, 0.4510, 0.5020,  ..., 0.4235, 0.4431, 0.3765],\n",
      "          [0.4431, 0.4314, 0.4784,  ..., 0.4000, 0.4275, 0.3804]]]])\n",
      "torch.Size([32, 3, 32, 32])\n",
      "32\n"
     ]
    }
   ],
   "source": [
    "print(train_dataloader_feature)\n",
    "print(train_dataloader_feature.shape)\n",
    "print(len(train_dataloader_feature))"
   ]
  },
  {
   "cell_type": "markdown",
   "metadata": {},
   "source": [
    "CIFAR10 데이터셋을 학습시킬 Model 만들어야한다.\n",
    "\n",
    "TinyVGG (이미지 추출기)를 사용해보자\n",
    "\n",
    "source - https://poloclub.github.io/cnn-explainer/"
   ]
  },
  {
   "cell_type": "code",
   "execution_count": null,
   "metadata": {},
   "outputs": [],
   "source": []
  }
 ],
 "metadata": {
  "kernelspec": {
   "display_name": "pytorch_project",
   "language": "python",
   "name": "python3"
  },
  "language_info": {
   "codemirror_mode": {
    "name": "ipython",
    "version": 3
   },
   "file_extension": ".py",
   "mimetype": "text/x-python",
   "name": "python",
   "nbconvert_exporter": "python",
   "pygments_lexer": "ipython3",
   "version": "3.8.18"
  }
 },
 "nbformat": 4,
 "nbformat_minor": 2
}
