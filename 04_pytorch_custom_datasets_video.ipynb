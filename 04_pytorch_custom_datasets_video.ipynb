{
  "nbformat": 4,
  "nbformat_minor": 0,
  "metadata": {
    "colab": {
      "private_outputs": true,
      "provenance": [],
      "authorship_tag": "ABX9TyNlihY+vHbTah+HdN/3NgDX",
      "include_colab_link": true
    },
    "kernelspec": {
      "name": "python3",
      "display_name": "Python 3"
    },
    "language_info": {
      "name": "python"
    }
  },
  "cells": [
    {
      "cell_type": "markdown",
      "metadata": {
        "id": "view-in-github",
        "colab_type": "text"
      },
      "source": [
        "<a href=\"https://colab.research.google.com/github/youse0ng/pytorch_practice/blob/main/04_pytorch_custom_datasets_video.ipynb\" target=\"_parent\"><img src=\"https://colab.research.google.com/assets/colab-badge.svg\" alt=\"Open In Colab\"/></a>"
      ]
    },
    {
      "cell_type": "markdown",
      "source": [
        "\n",
        "# 04. Pytorch Custom Datasets Video Notebook\n",
        "\n",
        "We've used some datasets with Pytorch before.\n",
        "\n",
        "But how do you get your own data into Pytorch?\n",
        "\n",
        "One of the ways to do so is via : custom datasets.\n",
        "\n",
        "## Domain libraries\n",
        "Depedning on what you're working on, vision, text, audio, recommendation, you'll want to look into each of Pytorch domain libraries for existing data loading functions and customizable data loading functions\n",
        "\n",
        "**Resources:**\n",
        "* Book Version of the course materials for 04:  https://www.learnpytorch.io/04_pytorch_custom_datasets/"
      ],
      "metadata": {
        "id": "M1ht9vR-kdYm"
      }
    },
    {
      "cell_type": "markdown",
      "source": [
        "## 0. Importing Pytorch and setting up device-agnostic code."
      ],
      "metadata": {
        "id": "IdXVA1bXG_HF"
      }
    },
    {
      "cell_type": "code",
      "source": [
        "import torch\n",
        "from torch import nn\n",
        "\n",
        "# Note: Pytorch 1.10.0 + is required for this course\n",
        "torch.__version__"
      ],
      "metadata": {
        "id": "1bhte-AcHxGw"
      },
      "execution_count": null,
      "outputs": []
    },
    {
      "cell_type": "code",
      "source": [
        "# Setup device - agnostic code\n",
        "device=\"cuda\" if torch.cuda.is_available() else \"cpu\"\n",
        "device"
      ],
      "metadata": {
        "id": "pAAWM8taH8P_"
      },
      "execution_count": null,
      "outputs": []
    },
    {
      "cell_type": "markdown",
      "source": [
        "## 1. GET Data\n",
        "\n",
        "Our dataset is a subset of the Food101 datasets\n",
        "\n",
        "Food101 starts 101 different classes of food and 1000 images per class (750 train images + 250 testing images)\n",
        "\n",
        "Our dataset starts with 3 classes of food and only 10 % of the images. (~75 training images, 25 testing images)\n",
        "\n",
        "When starting out ML projects, it's important to try things on a small scale and then increase the scale when necessary.\n",
        "\n",
        "The whole point is to speed up how fast you can experiment\n"
      ],
      "metadata": {
        "id": "6oaUuwbMIGWw"
      }
    },
    {
      "cell_type": "code",
      "source": [
        "import requests # URL을 다운로드하기 위해 github에서 무언가를 요청할 수 있도록 요청을 가져오는 라이브러리\n",
        "import zipfile # 지금 데이터 저장 형식이 zip이니까 zip관련된 파이썬 라이브러리를 import\n",
        "from pathlib import Path # 파일 경로나 디렉토리 경로를 다룰때 쓰는 라이브러\n",
        "\n",
        "# Setup path to a data folder (데이터 폴더로 가는 경로 설정)\n",
        "data_path=Path(\"data/\")\n",
        "image_path=data_path/\"Pizza_steak_sushi\"\n",
        "\n",
        "# If the image folder doesn't exist, download it and prepare it...\n",
        "\n",
        "if image_path.is_dir():\n",
        "  print(f\"{image_path} directory already exists... skipping download\")\n",
        "else:\n",
        "  print(f\"{image_path} does not exist, creating one...\")\n",
        "  image_path.mkdir(parents=True, exist_ok=True)\n",
        "\n",
        "# Download Pizza, steak and sushi data\n",
        "with open(data_path / \"Pizza_steak_sushi.zip\",\"wb\") as f:\n",
        "  # https://github.com/mrdbourke/pytorch-deep-learning/blob/main/data/pizza_steak_sushi.zip 이거 대신 아래 URL 사용해야함\n",
        "  request =requests.get(\"https://github.com/mrdbourke/pytorch-deep-learning/raw/main/data/pizza_steak_sushi.zip\")\n",
        "  print(\"Downloading pizza, steak, sushi data...\")\n",
        "  f.write(request.content)\n",
        "\n",
        "# Unzip pizza, steak and sushi data zip\n",
        "\n",
        "with zipfile.ZipFile(data_path / \"Pizza_steak_sushi.zip\",\"r\") as zip_ref:\n",
        "  print(\"Unzipping pizaa, steak and sushi data...\")\n",
        "  zip_ref.extractall(image_path)"
      ],
      "metadata": {
        "id": "fEYsVEzaJ-oY"
      },
      "execution_count": null,
      "outputs": []
    },
    {
      "cell_type": "markdown",
      "source": [
        "## 2. Becoming one with the data(data preparation and data exploration)"
      ],
      "metadata": {
        "id": "JXSJoG0qkQY2"
      }
    },
    {
      "cell_type": "code",
      "source": [
        "import os\n",
        "\n",
        "def walk_through_dir(dir_path):\n",
        "  \"\"\"Walk through dir_path returning its contents\"\"\"\n",
        "  for dirpath, dirnames,filenames in os.walk(dir_path):\n",
        "     print(f\"there are {len(dirnames)} directories and {len(filenames)} images in '{dirpath}'.\")\n",
        "\n"
      ],
      "metadata": {
        "id": "ZvcWlAZZ-Tvr"
      },
      "execution_count": null,
      "outputs": []
    },
    {
      "cell_type": "code",
      "source": [
        "walk_through_dir(image_path)"
      ],
      "metadata": {
        "id": "ptXMu1jXAgg_"
      },
      "execution_count": null,
      "outputs": []
    },
    {
      "cell_type": "code",
      "source": [
        "# Setup train and testing paths\n",
        "train_dir=image_path /\"train\"\n",
        "test_dir=image_path /\"test\"\n",
        "\n",
        "train_dir,test_dir"
      ],
      "metadata": {
        "id": "9N9i8NqXY1PY"
      },
      "execution_count": null,
      "outputs": []
    },
    {
      "cell_type": "markdown",
      "source": [
        "### 2.1 Visualizing image\n",
        "\n",
        "Let's write some code :\n",
        "\n",
        "1. get all of the image paths\n",
        "2. Pick a random image path using Python's random.choice()\n",
        "3. Get the image class nameusing `pathlib.Path.parent.stem`\n",
        "4. Since we're working with images, Let's open the image with Python's PIL\n",
        "5. We'll then show the image and print metadata"
      ],
      "metadata": {
        "id": "n2bklwrSC1_k"
      }
    },
    {
      "cell_type": "code",
      "source": [
        "image_path"
      ],
      "metadata": {
        "id": "vQIJPR1COhMq"
      },
      "execution_count": null,
      "outputs": []
    },
    {
      "cell_type": "code",
      "source": [
        "import random\n",
        "from PIL import Image\n",
        "\n",
        "# Set Seed\n",
        "#random.seed(42)\n",
        "\n",
        "# 1. Get all image paths\n",
        "image_path_list=list(image_path.glob(\"*/*/*.jpg\"))\n",
        "# 2. Pick a random image path\n",
        "random_image_path=random.choice(image_path_list)\n",
        "print(random_image_path)\n",
        "print(type(random_image_path))\n",
        "\n",
        "# 3. Get image class from path name(the image class is the name of the directory where the image is stored)\n",
        "image_class=random_image_path.parent.stem\n",
        "print(image_class)\n",
        "\n",
        "# 4. Open image\n",
        "img=Image.open(random_image_path)\n",
        "\n",
        "print(f'img: {img}')\n",
        "# 5. Print metadata\n",
        "print(f\"Random image path: {random_image_path}\")\n",
        "print(f\"Image class : {image_class}\")\n",
        "print(f\"Image height:{img.height}\")\n",
        "print(f\"Image width:{img.width}\")\n",
        "img\n",
        "\n",
        "print(image_path_list)"
      ],
      "metadata": {
        "id": "kA7VGPfTGTOk"
      },
      "execution_count": null,
      "outputs": []
    },
    {
      "cell_type": "code",
      "source": [
        "import glob\n",
        "from pathlib import Path\n",
        "image_path='Data/Training/Raw'\n",
        "image_paths_list=glob.glob(image_path + '/*.jpg')\n",
        "random_path=random.choice(image_paths_list)\n",
        "\n",
        "\n",
        "def numpy2image(image_fn:str):\n",
        "    img=Image.open(image_fn)\n",
        "    img_as_array=np.asarray(img)\n",
        "\n",
        "    plt.figure()\n",
        "    plt.imshow(img_as_array)\n",
        "    plt.title(f\"Image shape: {img_as_array.shape} -> ['height,width,color_channels']\")\n",
        "    plt.axis(False)\n",
        "\n",
        "numpy2image(random_path)"
      ],
      "metadata": {
        "id": "bmfJCZX5LKVv"
      },
      "execution_count": null,
      "outputs": []
    },
    {
      "cell_type": "code",
      "source": [
        "import numpy as np\n",
        "import matplotlib.pyplot as plt\n",
        "\n",
        "# Turn the image into an array\n",
        "img_as_array=np.asarray(img)\n",
        "\n",
        "# Plot the image with matplotlib\n",
        "plt.figure(figsize=(10,7))\n",
        "plt.imshow(img_as_array)\n",
        "plt.title(f\"Image class {image_class} | Image shape: {img_as_array.shape} -> [height, width, color channels]\")\n",
        "plt.axis(False)"
      ],
      "metadata": {
        "id": "3k1_gQL0GTKd"
      },
      "execution_count": null,
      "outputs": []
    },
    {
      "cell_type": "code",
      "source": [
        "img_as_array,img_as_array.shape"
      ],
      "metadata": {
        "id": "HylZVZO-dUm1"
      },
      "execution_count": null,
      "outputs": []
    },
    {
      "cell_type": "markdown",
      "source": [
        "## 3. Transforming Data\n",
        "\n",
        "Before we can use our image data with Pytorch:\n",
        "\n",
        "1. Turn your target data into tensors(in our case, numerical representation of our images).\n",
        "2. Turn it into a `torch.utils.data.Dataset` and subsequently a `torch.utils.data.DataLoader` (세트의 반복 가능과 배치기능 버전으로 만듦)\n",
        ", We'll call these `Dataset` and `DataLoader`."
      ],
      "metadata": {
        "id": "9_yVyBKWhTju"
      }
    },
    {
      "cell_type": "code",
      "source": [
        "import torch\n",
        "from torch.utils.data import DataLoader\n",
        "from torchvision import datasets,transforms"
      ],
      "metadata": {
        "id": "j3FnkeHTjsCI"
      },
      "execution_count": null,
      "outputs": []
    },
    {
      "cell_type": "markdown",
      "source": [
        "### 3.1 Transforming data with `torchvision.transforms`\n",
        "\n",
        "Transforms help you get your images ready to be used with a model/perform data augmentation-\n",
        "https://pytorch.org/vision/stable/transforms.html"
      ],
      "metadata": {
        "id": "7FsPv3fmkxlb"
      }
    },
    {
      "cell_type": "code",
      "source": [
        "# Write a transform for image\n",
        "# 몇 가지 변환을 함께 결합하는 방법 (Compose와 nn.Sequential을 통한 변환 결합 2가지가 있다.)\n",
        "data_transform=transforms.Compose([\n",
        "    # Resize our images to 64 * 64\n",
        "    transforms.Resize(size=(218,218)),\n",
        "    # Flip the images randomly on the horizontal\n",
        "    transforms.RandomHorizontalFlip(p=0.5),\n",
        "    # Turn the image into a torch.Tensor\n",
        "    transforms.ToTensor()\n",
        "])"
      ],
      "metadata": {
        "id": "WA8h7mCMk8BX"
      },
      "execution_count": null,
      "outputs": []
    },
    {
      "cell_type": "code",
      "source": [
        "data_transform(img),data_transform(img).shape,data_transform(img).dtype"
      ],
      "metadata": {
        "id": "DeblWP9oqNTq"
      },
      "execution_count": null,
      "outputs": []
    },
    {
      "cell_type": "code",
      "source": [
        "image_path_list"
      ],
      "metadata": {
        "id": "YjMDMiRmDAby"
      },
      "execution_count": null,
      "outputs": []
    },
    {
      "cell_type": "code",
      "source": [
        "def plot_transformed_images(image_paths:list,transform,n=3,seed=None):\n",
        "  \"\"\"\n",
        "  Selects random images from a path of images and loads/transforms\n",
        "  them then plots the originalvs the transformed vision\n",
        "  \"\"\"\n",
        "  if seed:\n",
        "    random.seed(seed)\n",
        "  random_image_paths=random.sample(image_paths,k=n)\n",
        "  for image_path in random_image_paths:\n",
        "    with Image.open(image_path) as f:\n",
        "      fig,ax=plt.subplots(nrows=1,ncols=2)\n",
        "      ax[0].imshow(f)\n",
        "      ax[0].set_title(f\"Original\\nSIze:{f.size}\")\n",
        "      ax[0].axis(False)\n",
        "\n",
        "      # Transform and plot target image\n",
        "      transformed_image=transform(f).permute(1,2,0) # note we will need to change shape for matplotlib (지금 트랜스폼된건 (칼라채널,height,width))\n",
        "      # 그래서 매트플롯립으로 바꾸어줄때 나타내게 하려면 heigth width 칼라채널로 바꾸어줘야 힌다.\n",
        "\n",
        "      ax[1].imshow(transformed_image)\n",
        "      ax[1].set_title(f\"Transformed\\nShape: {transformed_image.shape}\")\n",
        "      ax[1].axis(\"off\")\n",
        "\n",
        "      fig.suptitle(f\"Class:{image_path.parent.stem}\",fontsize=16)\n",
        "plot_transformed_images(image_paths=image_path_list,\n",
        "                        transform=data_transform,\n",
        "                        n=3,\n",
        "                        seed=None)"
      ],
      "metadata": {
        "id": "1Nechu4T-z9U"
      },
      "execution_count": null,
      "outputs": []
    },
    {
      "cell_type": "markdown",
      "source": [
        "## 4. Option 1:Loading image data using `ImageFolder` ImageFolder 사용으로 사용자지정데이터, 사용자지정이미지를 시제로 로드하는지 보겠다.\n",
        "\n",
        "We can load image classification data using `torchvision.datasets.ImageFolder`\n",
        "-https://pytorch.org/vision/stable/generated/torchvision.datasets.ImageFolder.html#torchvision.datasets.ImageFolder"
      ],
      "metadata": {
        "id": "XWr-o4M-c35q"
      }
    },
    {
      "cell_type": "code",
      "source": [
        "# Use ImageFolder to create dataset(s)\n",
        "from torchvision import datasets\n",
        "train_data=datasets.ImageFolder(root=train_dir,\n",
        "                                transform=data_transform, # a transform for the data\n",
        "                                target_transform=None) # a transform for the label/target\n",
        "test_data=datasets.ImageFolder(root=test_dir,\n",
        "                               transform=data_transform\n",
        "                               )\n",
        "train_data,test_data"
      ],
      "metadata": {
        "id": "fB5AF1TKrPTY"
      },
      "execution_count": null,
      "outputs": []
    },
    {
      "cell_type": "code",
      "source": [
        "# Get class names as List\n",
        "train_data.classes # Attribute 속성\n",
        "class_names=train_data.classes\n",
        "class_names"
      ],
      "metadata": {
        "id": "nT0Y99NfvGcy"
      },
      "execution_count": null,
      "outputs": []
    },
    {
      "cell_type": "code",
      "source": [
        "# Get class names as dict\n",
        "class_dict=train_data.class_to_idx\n",
        "class_dict"
      ],
      "metadata": {
        "id": "yGiiPE7rvntc"
      },
      "execution_count": null,
      "outputs": []
    },
    {
      "cell_type": "code",
      "source": [
        "# Check the lengths of our dataset\n",
        "len(train_data), len(test_data)"
      ],
      "metadata": {
        "id": "vJhbD9SLxGLK"
      },
      "execution_count": null,
      "outputs": []
    },
    {
      "cell_type": "markdown",
      "source": [
        "무언가를 로드하고나면 항상 Check 해보는 습관\n",
        "Len()이됐든,, 사이즈 Size shape 등등"
      ],
      "metadata": {
        "id": "EekeNvckxXfL"
      }
    },
    {
      "cell_type": "code",
      "source": [
        "train_data.samples"
      ],
      "metadata": {
        "id": "FIKwZLa-xdjy"
      },
      "execution_count": null,
      "outputs": []
    },
    {
      "cell_type": "code",
      "source": [
        "# Index on the train_data Dataset to get a single image and label\n",
        "img,label=train_data[0][0],train_data[0][1]\n",
        "label\n",
        "print(f\"Image tensor:\\n {img}\")\n",
        "print(f\"Image shape:\\n{img.shape}\")\n",
        "print(f\"Image Datatype:\\n{img.dtype}\")\n",
        "print(f\"Image label:\\n{label}\")\n",
        "print(f\"Image datatype:\\n{type(label)}\")"
      ],
      "metadata": {
        "id": "YzwcOR-SKElS"
      },
      "execution_count": null,
      "outputs": []
    },
    {
      "cell_type": "code",
      "source": [
        "# Rearrange the order Dimensions\n",
        "img_permute=img.permute(1,2,0)\n",
        "\n",
        "# Let's check the different shape\n",
        "print(f\"Original Shape: {img.shape}\")\n",
        "print(f\"Permuted Shape: {img_permute.shape}\")\n",
        "\n",
        "import matplotlib.pyplot as plt\n",
        "# Plot the image\n",
        "plt.figure(figsize=(10,7))\n",
        "plt.imshow(img_permute)\n",
        "plt.axis(\"off\")\n",
        "plt.title(label=class_names[label])"
      ],
      "metadata": {
        "id": "DsZhfcBJ23BW"
      },
      "execution_count": null,
      "outputs": []
    },
    {
      "cell_type": "markdown",
      "source": [
        "### 4.1 Turn loaded images into `DataLoader`\n",
        "\n",
        "A `DataLoader` is going to help us turn our dataset into Iterables and we can customize the `batch_size` so our model can see `batch_size`\n",
        "images at a time\n",
        "\n",
        "DataLoader는 데이터셋을 iterable(반복가능)(str, range, list, tuple, dict, set)오브젝트(자료형)로 바꾸어주고\n",
        "Batch_size를 정하여 Batch_size만큼 이미지를 볼 수 있다."
      ],
      "metadata": {
        "id": "zwwNLR85czTs"
      }
    },
    {
      "cell_type": "code",
      "source": [
        "import os\n",
        "os.cpu_count()"
      ],
      "metadata": {
        "id": "1sdia2k7gG17"
      },
      "execution_count": null,
      "outputs": []
    },
    {
      "cell_type": "code",
      "source": [
        "# Turn train and Test datasets into DataLoader's\n",
        "from torch.utils.data import DataLoader\n",
        "BATCH_SIZE=1\n",
        "\n",
        "train_dataloader=DataLoader(dataset=train_data,\n",
        "                            batch_size=BATCH_SIZE,\n",
        "                            num_workers=os.cpu_count(), #cpu_core 개수\n",
        "                            shuffle=True,\n",
        "                            )\n",
        "test_dataloader=DataLoader(dataset=test_data,\n",
        "                           batch_size=BATCH_SIZE,\n",
        "                           num_workers=os.cpu_count(),\n",
        "                           shuffle=False)\n",
        "\n",
        "train_dataloader,test_dataloader"
      ],
      "metadata": {
        "id": "ESdmhd_2_WqK"
      },
      "execution_count": null,
      "outputs": []
    },
    {
      "cell_type": "code",
      "source": [
        "len(test_data),len(test_dataloader)"
      ],
      "metadata": {
        "id": "v6yiGtD1gzPC"
      },
      "execution_count": null,
      "outputs": []
    },
    {
      "cell_type": "code",
      "source": [
        "len(train_dataloader),len(train_data)"
      ],
      "metadata": {
        "id": "MBHPthg-_iuK"
      },
      "execution_count": null,
      "outputs": []
    },
    {
      "cell_type": "code",
      "source": [
        "img,label=next(iter(train_dataloader))\n",
        "\n",
        "# Batch size will now be 1, you can change the batch size if you like\n",
        "print(f\"Image shape:{img.shape} ->  [batch_size,color_channel,height,width]\")\n",
        "print(f\"Label shape:{label.shape}\")"
      ],
      "metadata": {
        "id": "qVchG-5rhLCs"
      },
      "execution_count": null,
      "outputs": []
    },
    {
      "cell_type": "markdown",
      "source": [
        "지금 까지는 이미지 데이터 폴더에서 데이터를 가져오는 방법을 연구했다.\n",
        "\n",
        "그리고 우리는 `ImageFolder`를 사용해서 train_data에 텐서 형식으로 넣어주었다.\n",
        "\n",
        "그러고 나선, DataLoader를 사용해서 배치사이즈를 정하고 train_data를 Iterable할 수 있도록 만들어주었다,"
      ],
      "metadata": {
        "id": "2Chu8mj4ib55"
      }
    },
    {
      "cell_type": "markdown",
      "source": [
        "하지만 `ImageFolder` 존재하지 않는다면, 사용자 지정 데이터 로딩을 어떻게 해야할까 ?"
      ],
      "metadata": {
        "id": "68K6LJfcjHTG"
      }
    },
    {
      "cell_type": "markdown",
      "source": [
        "## 5 Option 2: Loading image data with a custom `Dataset`\n",
        "내가 만든 Custom Dataset(로딩기능이있는)를 만들때 장단점\n",
        "\n",
        "기능:\n",
        "1. Want to be able to load images from file\n",
        "2. Want to be able to get class names from the Dataset\n",
        "3. Want to be able to get classes as dictionary from the Dataset\n",
        "\n",
        "Pros(장점):\n",
        "* Can create a `Dataset` out of almost anything (거의 모든것으로부터 데이터셋을 만들수있다.)\n",
        "* Not limited to Pytorch pre-built `Dataset` functions\n",
        "\n",
        "Cons(단점):\n",
        "* Even though you could create `Dataset` out of almost anything, it doesn't mean it will work...\n",
        "* Using a custom `Dataset` often results in us writing more code, which could be prone to errors or performance issues.\n",
        "\n",
        "All Custom datasets in Pytorch, often subclass -\n",
        "https://pytorch.org/docs/stable/data.html#torch.utils.data.Dataset\n",
        "\n",
        "직접 커스텀 데이터셋 (getitem과 len 길이를 반환할 커스텀 데이터셋을 만들때 참고)"
      ],
      "metadata": {
        "id": "otdyHRmXjdVe"
      }
    },
    {
      "cell_type": "code",
      "source": [
        "import os\n",
        "import pathlib\n",
        "import torch\n",
        "\n",
        "from PIL import Image\n",
        "from torch.utils.data import Dataset\n",
        "from torchvision import transforms\n",
        "from typing import Tuple,Dict,List"
      ],
      "metadata": {
        "id": "f9Vu5loFk8Ih"
      },
      "execution_count": null,
      "outputs": []
    },
    {
      "cell_type": "code",
      "source": [
        "# Instance of torchvision.datasets.ImageFolder()\n",
        "train_data.classes, train_data.class_to_idx"
      ],
      "metadata": {
        "id": "cDbwymiPmdTV"
      },
      "execution_count": null,
      "outputs": []
    },
    {
      "cell_type": "markdown",
      "source": [
        "### 5.1 Creating a helper functions to get class names\n",
        "\n",
        "\n",
        "We want a functions to:\n",
        "1. Get the class names using `os.scandir()` to traverse a target directory(ideally the directory is in standard image classification format)\n",
        "지금 방식의 디렉토리 설정이 standard image classification format 형식인것 같다.\n",
        "train, test 폴더 내의 클래스명의 폴더들이 들어있고 그안에 jpg가 들어가있는 형식.\n",
        "\n",
        "2. Raise an error if the class names aren't found (if this happens, there might be something wrong with the directory structure.)\n",
        "클래스이름을 찾지 못하면 에러를 띄워야한다. 디렉토리 구조에 문제가있음을 암시해줘야함.\n",
        "\n",
        "3. Turn the class names into a dict and list and return them"
      ],
      "metadata": {
        "id": "UXuCNX-7ctgy"
      }
    },
    {
      "cell_type": "code",
      "source": [
        "# Setup path for target directory\n",
        "target_directory=train_dir\n",
        "print(f\"Target dir: {target_directory}\")\n",
        "\n",
        "# Get the class names from the target directory using os.scandir\n",
        "class_names_found=sorted([entry.name for entry in list(os.scandir(target_directory))])\n",
        "class_names_found"
      ],
      "metadata": {
        "id": "vAgriJ38x3o6"
      },
      "execution_count": null,
      "outputs": []
    },
    {
      "cell_type": "code",
      "source": [
        "list(os.scandir(target_directory))"
      ],
      "metadata": {
        "id": "yW2Mq4Ys2MqI"
      },
      "execution_count": null,
      "outputs": []
    },
    {
      "cell_type": "code",
      "source": [
        "sorted([entry.name for entry in list(os.scandir(target_directory))])"
      ],
      "metadata": {
        "id": "kLQEW6X70wMB"
      },
      "execution_count": null,
      "outputs": []
    },
    {
      "cell_type": "code",
      "source": [
        "# Instance of torchvision.datasets.ImageFolder()\n",
        "train_data.classes, train_data.class_to_idx"
      ],
      "metadata": {
        "id": "0d_IF1Xt4e1M"
      },
      "execution_count": null,
      "outputs": []
    },
    {
      "cell_type": "code",
      "source": [
        "def find_classes(directory:str) -> Tuple[List[str],Dict[str,int]]:\n",
        "  \"\"\"이 함수는 바로 위에 보이는 코드의 결과값인 (['pizza','steak','sushi'],{'pizza':0,'steak':1,'sushi':2})와 같은 튜플형식을 반환하는 함수이다.\n",
        "  Finds the class folder names in target directory .\"\"\"\n",
        "  # 1. Get the class names by scanning the target directory\n",
        "  classes= sorted(entry.name for entry in os.scandir(directory) if entry.is_dir())\n",
        "\n",
        "  # 2. Raise an error if class names could not be found\n",
        "  if not classes:\n",
        "    raise FileNotFoundError(f\"Couldn't find any classes in {directory}... please check file structure\")\n",
        "\n",
        "  # 3. Create a dictionary of index labels(computers prefer numbers rather than strings as labels)\n",
        "  class_to_idx={class_name:i for i,class_name in enumerate(classes)}\n",
        "  return classes, class_to_idx"
      ],
      "metadata": {
        "id": "mJgqsALK30WR"
      },
      "execution_count": null,
      "outputs": []
    },
    {
      "cell_type": "code",
      "source": [
        "find_classes(target_directory)"
      ],
      "metadata": {
        "id": "SaFcUsSn5bsZ"
      },
      "execution_count": null,
      "outputs": []
    },
    {
      "cell_type": "markdown",
      "source": [
        "### 5.2 Create a custom `Dataset` to replicate `ImageFolder`\n",
        "\n",
        "제일 중요한 것 같다 이번 파트에서\n",
        "\n",
        "To create our own custom dataset, we want to:\n",
        "\n",
        "1. Subclass `torch.utils.data.Dataset`\n",
        "2. Init our subclass with a target directory (the directory we'd like to get data from) as well as a transform if we'd like to transform our data\n",
        "대상 디렉토리로 서브클래스를 초기화한다.(우리가 디렉토리로 부터 데이터를 갖고오고 싶은 디렉토리) 또한 변환도 초기화 해야한다.\n",
        "\n",
        "3. Create several attribute:\n",
        "* Paths - paths of our images\n",
        "* transform - the transform we'd like to use\n",
        "* classes - a list of thje target classes (타겟명)\n",
        "* class_to_idx - a dict of the target classes mapped to integer labels\n",
        "\n",
        "4. Create a function to `load images()`, this fuction will open an image\n",
        "\n",
        "5. Overwrite the `__len()__` method to return the length of our datasets\n",
        "\n",
        "6. Overwrite the `__getitem()__` method to return a given sample when passed an index (인덱스를 전달할때 주어진 인덱스에 맞는 sample data를 반환하는 method)"
      ],
      "metadata": {
        "id": "RYFPGJAIqqHr"
      }
    },
    {
      "cell_type": "code",
      "source": [
        "# Write a custom dataset class\n",
        "from torch.utils.data import Dataset\n",
        "\n",
        "# 1. Subclass torch.utils.data.Dataset\n",
        "class ImageFolderCustom(Dataset):\n",
        "  # 2. Initialize Our custom Dataset\n",
        "  def __init__(self, targ_dir:str, transform=None):\n",
        "    # 3. Create class attributes\n",
        "    # Get all of the image paths\n",
        "    self.paths=list(pathlib.Path(targ_dir).glob(\"*/*.jpg\"))\n",
        "    # Setup transform\n",
        "    self.transform = transform\n",
        "    # Create classes and class_to_idx attributes\n",
        "    self.classes, self.class_to_idx=find_classes(targ_dir)\n",
        "\n",
        "  # 4. Create a function to load images\n",
        "  def load_image(self, index:int) ->Image.Image:\n",
        "    \"Opens an image via a path and returns it.\"\n",
        "    image_path=self.paths[index]\n",
        "    return Image.open(image_path)\n",
        "\n",
        "  # 5. Overwrite the __len()__ method to return the length of our datasets\n",
        "  def __len__(self) -> int:\n",
        "    \"Returns the total number of samples.\"\n",
        "    return len(self.paths)\n",
        "\n",
        "  # 6. Overwrite __getitem()__ method to return a particular sample\n",
        "  def __getitem__(self,index:int) -> Tuple[torch.Tensor,int]:\n",
        "    \"Returns one sample of data, data and label (X,y).\"\n",
        "    img= self.load_image(index)\n",
        "    class_name=self.paths[index].parent.name # Expects path in format:data_folder/class_name/image.jpg\n",
        "    class_idx=self.class_to_idx[class_name]\n",
        "\n",
        "    # Transform if necessary\n",
        "    if self.transform:# 트랜스폼이 존재한다면,\n",
        "      return self.transform(img),class_idx # return Data, label : (X,y)\n",
        "    else:\n",
        "      return img,class_idx # return untransformed image and label"
      ],
      "metadata": {
        "id": "7PmZXASRqqDi"
      },
      "execution_count": null,
      "outputs": []
    },
    {
      "cell_type": "code",
      "source": [
        "# Create a transform\n",
        "from torchvision import transforms\n",
        "train_transforms= transforms.Compose([transforms.Resize(size=(64,64)),\n",
        "                                      transforms.RandomHorizontalFlip(p=0.5),\n",
        "                                      transforms.ToTensor()\n",
        "                                      ])\n",
        "test_transforms= transforms.Compose([transforms.Resize(size=(64,64)),\n",
        "                                     transforms.ToTensor()\n",
        "                                     ])"
      ],
      "metadata": {
        "id": "7vBB26v8Qorh"
      },
      "execution_count": null,
      "outputs": []
    },
    {
      "cell_type": "code",
      "source": [
        "# Test out ImageFOlderCustom\n",
        "train_data_custom=ImageFolderCustom(targ_dir=train_dir,\n",
        "                                    transform=train_transforms)\n",
        "test_data_custom=ImageFolderCustom(targ_dir=test_dir,\n",
        "                                   transform=test_transforms)"
      ],
      "metadata": {
        "id": "wBSn-w-LxBkG"
      },
      "execution_count": null,
      "outputs": []
    },
    {
      "cell_type": "code",
      "source": [
        "len(train_data), len(train_data_custom)"
      ],
      "metadata": {
        "id": "mrUVUyKvyAe7"
      },
      "execution_count": null,
      "outputs": []
    },
    {
      "cell_type": "code",
      "source": [
        "len(test_data), len(test_data_custom)"
      ],
      "metadata": {
        "id": "BbruZa3d7UHR"
      },
      "execution_count": null,
      "outputs": []
    },
    {
      "cell_type": "code",
      "source": [
        "train_data_custom.classes"
      ],
      "metadata": {
        "id": "kjpOAaKwAUwq"
      },
      "execution_count": null,
      "outputs": []
    },
    {
      "cell_type": "code",
      "source": [
        "train_data_custom.class_to_idx"
      ],
      "metadata": {
        "id": "IoyAMnrQAYTW"
      },
      "execution_count": null,
      "outputs": []
    },
    {
      "cell_type": "code",
      "source": [
        "len(train_data_custom.paths)"
      ],
      "metadata": {
        "id": "N8DBAhlXAbJr"
      },
      "execution_count": null,
      "outputs": []
    },
    {
      "cell_type": "code",
      "source": [
        "# Check for equality between original ImageFolder Dataset and ImageFolderCustomDataset\n",
        "# 이미지폴더 데이터셋과 내가만든 사용자지정 커스텀이미지폴더 데이터셋과 얼마나 유사한지 체크\n",
        "\n",
        "print(train_data_custom.classes==train_data.classes)\n",
        "print(test_data_custom.classes==test_data.classes)"
      ],
      "metadata": {
        "id": "4XdZbi_GAqCr"
      },
      "execution_count": null,
      "outputs": []
    },
    {
      "cell_type": "markdown",
      "source": [
        "### 5.3 Create a function to display random images\n",
        "\n",
        "1. Take in a `Dataset` and a number of other parameters\n",
        "such as class names and how many images to visualize\n",
        "2. To prevent the display getting out of hand, let's cap the number of images to see at 10. (10개 까지만 본다)\n",
        "3. Set the random seed for reproductibility\n",
        "4. Get a list of random sample indexes from the target dataset.\n",
        "5. Setup a matplotlib plot.\n",
        "6. Loop through the random sample indexes and plot them with matplotlib.\n",
        "7. Make sure the dimensions of our images line up with Matplotlib(HWC)"
      ],
      "metadata": {
        "id": "Dw86PqZEBLGM"
      }
    },
    {
      "cell_type": "code",
      "source": [
        "# 1. Create a function to take in a dataset.\n",
        "def display_random_images(dataset:torch.utils.data.Dataset,\n",
        "                          classes:List[str]=None,\n",
        "                          n: int=10,\n",
        "                          display_shape:bool=True,\n",
        "                          seed:int=None):\n",
        "  # 2. Adjust display if n is too high\n",
        "  if n>10:\n",
        "    n=10\n",
        "    display_shape=False\n",
        "    print(f\"For display, purposes, n shouldn't be larger than 10, setting to 10 and removing shape display.\")\n",
        "  # 3. Set the seed\n",
        "  if seed:\n",
        "    random.seed(seed)\n",
        "\n",
        "  # 4. Get random sample indexes\n",
        "  random_samples_idx=random.sample(range(len(dataset)),k=n)\n",
        "\n",
        "  # 5. Setup plot\n",
        "  plt.figure(figsize=(20,10))\n",
        "\n",
        "  # 6. Loop through random indexes and plot them with matplotlib\n",
        "  for i,targ_sample in enumerate(random_samples_idx):\n",
        "    targ_image,targ_label=dataset[targ_sample][0],dataset[targ_sample][1]\n",
        "\n",
        "  # 7. Adjust tensor dimensions for plotting\n",
        "    targ_image_adjust=targ_image.permute(1,2,0) #[color_channel,height,width] -> [height,width,color_channels]\n",
        "\n",
        "  # Plot adjusted sample\n",
        "    plt.subplot(1,n,i+1)\n",
        "    plt.imshow(targ_image_adjust)\n",
        "    plt.axis(\"off\")\n",
        "    if classes:\n",
        "      title=f\"Class:{classes[targ_label]}\"\n",
        "      if display_shape:\n",
        "        title=title+f\"\\n shape :{targ_image_adjust.shape}\"\n",
        "    plt.title(title)"
      ],
      "metadata": {
        "id": "KBaMFAr9EFAn"
      },
      "execution_count": null,
      "outputs": []
    },
    {
      "cell_type": "code",
      "source": [
        "# Display random images from the ImageFolder created Dataset\n",
        "display_random_images(train_data,\n",
        "                      n=5,\n",
        "                      classes=class_names,\n",
        "                      seed=None)"
      ],
      "metadata": {
        "id": "NFJvZAQjIpow"
      },
      "execution_count": null,
      "outputs": []
    },
    {
      "cell_type": "code",
      "source": [
        "# Display random images from the ImageFolderCustom Dataset.\n",
        "\n",
        "display_random_images(train_data_custom,\n",
        "                      n=10,\n",
        "                      classes=class_names,\n",
        "                      seed=42)"
      ],
      "metadata": {
        "id": "QgjMiyCgJoJP"
      },
      "execution_count": null,
      "outputs": []
    },
    {
      "cell_type": "code",
      "source": [
        "### 5.4 Turn custom loaded images into `DataLoader`\n",
        "BATCH_SIZE=32\n",
        "from torch.utils.data import DataLoader\n",
        "train_custom_dataloader=DataLoader(dataset=train_data_custom,\n",
        "                                   batch_size=BATCH_SIZE,\n",
        "                                   num_workers=0,\n",
        "                                   shuffle=True)\n",
        "test_custom_dataloader=DataLoader(dataset=test_data_custom,\n",
        "                                  batch_size=BATCH_SIZE,\n",
        "                                  num_workers=os.cpu_count(),\n",
        "                                  shuffle=False)\n",
        "train_custom_dataloader,test_custom_dataloader"
      ],
      "metadata": {
        "id": "LGOR5n5tomAE"
      },
      "execution_count": null,
      "outputs": []
    },
    {
      "cell_type": "code",
      "source": [
        "train_custom_dataloader,test_custom_dataloader\n",
        "next(iter(train_custom_dataloader))"
      ],
      "metadata": {
        "id": "lwqldX9vpKA1"
      },
      "execution_count": null,
      "outputs": []
    },
    {
      "cell_type": "code",
      "source": [
        "# Get image and label from custom dataloader\n",
        "img_custom,label_custom=next(iter(train_custom_dataloader))\n",
        "\n",
        "# Print out the shapes\n",
        "img_custom.shape,label_custom.shape"
      ],
      "metadata": {
        "id": "ebsKarK7ol8v"
      },
      "execution_count": null,
      "outputs": []
    },
    {
      "cell_type": "markdown",
      "source": [
        "Image Transforming and Augmentation:\n",
        "1. Resize\n",
        "2. CenterCrop\n",
        "3. Grayscale\n",
        "4. RandomTransform\n",
        "5. GaussianBlur\n",
        "6. RandomRotation\n",
        "7. RandomAffine\n",
        "8. RandomCrop\n",
        "9. Auto Augment\n",
        "10. Rand Augment\n",
        "\n",
        "http://pytorch.org/vision/main/auto_examples/plot_transforms.html#sphx-glr-auto-examples-plot-transforms-py"
      ],
      "metadata": {
        "id": "AMb42qeCnePC"
      }
    },
    {
      "cell_type": "markdown",
      "source": [
        "## 6. Other forms of Transform (data augmentation)\n",
        "\n",
        "Data augmentation is the process of articially adding diversity to your training data.\n",
        "데이터 오그맨테이션은 훈련 데이터에 인위적으로 다양성을 추가하는 과정이다.\n",
        "\n",
        "In the case of image data, this may mean applying various image transformation to the training images.\n",
        "이미지 데이터의 경우엔, 데이터 오그맨테이션이 다양한 이미지 변환을 훈련이미지에 적용시키는 것을 의미할 지도 모른다.\n",
        "\n",
        "This practice hopefully results in a model that's more generalizable to unseen data.\n",
        "이 방법은 모델이 보지않았던 데이터에 대해 더욱 일반화할 수 있는 모델을 야기한다.\n",
        "\n",
        "Let's take a look at one particular type of data augmentation used to train Pytorch vision models to state of the art levels...\n",
        "- https://pytorch.org/blog/how-to-train-state-of-the-art-models-using-torchvision-latest-primitives/#break-down-of-key-accuracy-improvements\n",
        "\n",
        "Augmentation의 최신 기술 중 하나인:\n",
        "Trivialaugment"
      ],
      "metadata": {
        "id": "nYPlnxrWolEF"
      }
    },
    {
      "cell_type": "markdown",
      "source": [
        "![image.png](data:image/png;base64,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)"
      ],
      "metadata": {
        "id": "ItenUXRNqC8z"
      }
    },
    {
      "cell_type": "code",
      "source": [
        "# Let's look at trivialaugment - http://pytorch.org/vision/main/auto_examples/plot_transforms.html#sphx-glr-auto-examples-plot-transforms-py\n",
        "from torchvision import transforms\n",
        "train_transform=transforms.Compose([\n",
        "    transforms.Resize(size=(224,224)),\n",
        "    transforms.TrivialAugmentWide(num_magnitude_bins=5), # 강도 조절\n",
        "    transforms.ToTensor()\n",
        "])\n",
        "\n",
        "test_transform=transforms.Compose([\n",
        "    transforms.Resize(size=(224,224)),\n",
        "    transforms.ToTensor()\n",
        "])"
      ],
      "metadata": {
        "id": "Z3zwz2e6pvco"
      },
      "execution_count": null,
      "outputs": []
    },
    {
      "cell_type": "code",
      "source": [
        "# Get all image paths\n",
        "image_path_list=list(image_path.glob(\"*/*/*.jpg\"))\n",
        "image_path_list[:10]"
      ],
      "metadata": {
        "id": "f_FJNNEvpvZB"
      },
      "execution_count": null,
      "outputs": []
    },
    {
      "cell_type": "code",
      "source": [
        "# Plot random transformed images\n",
        "plot_transformed_images(\n",
        "    image_paths=image_path_list,\n",
        "    transform=train_transform,\n",
        "    n=3,\n",
        "    seed=None\n",
        ")"
      ],
      "metadata": {
        "id": "eS2Ja1uuwptt"
      },
      "execution_count": null,
      "outputs": []
    },
    {
      "cell_type": "markdown",
      "source": [
        "## 7. Model 0: TinyVGG without data augmentation\n",
        "\n",
        "Let's replicate TinyVGG architecture from the CNN Explainer Website: https://poloclub.github.io/cnn-explainer/\n"
      ],
      "metadata": {
        "id": "TYJSRcvJw7eW"
      }
    },
    {
      "cell_type": "markdown",
      "source": [
        "### 7.1 Creating transforms and loading data for Model 0"
      ],
      "metadata": {
        "id": "zggfkF3ZfSC_"
      }
    },
    {
      "cell_type": "code",
      "source": [
        "# Create simple transform\n",
        "simple_transform=transforms.Compose([\n",
        "    transforms.Resize(size=(64,64)),\n",
        "    transforms.ToTensor()\n",
        "])"
      ],
      "metadata": {
        "id": "erbR1httfX8N"
      },
      "execution_count": null,
      "outputs": []
    },
    {
      "cell_type": "code",
      "source": [
        "# 1. Load and transform data\n",
        "from torchvision import datasets\n",
        "train_data_simple=datasets.ImageFolder(root=train_dir,\n",
        "                                       transform=simple_transform\n",
        "                                       )\n",
        "test_data_simple=datasets.ImageFolder(root=test_dir,\n",
        "                                      transform=simple_transform\n",
        "                                      )\n",
        "\n",
        "# 2. Turn the datasets into DataLoaders\n",
        "import os\n",
        "from torch.utils.data import DataLoader\n",
        "\n",
        "# Setup batch_size and number of workers\n",
        "BATCH_SIZE=32\n",
        "NUMBER_OF_WORKERS=os.cpu_count()\n",
        "\n",
        "# Create Dataloader's\n",
        "train_dataloader_simple=DataLoader(dataset=train_data_simple,\n",
        "                                   batch_size=BATCH_SIZE,\n",
        "                                   shuffle=True,\n",
        "                                   num_workers=NUMBER_OF_WORKERS)\n",
        "test_dataloader_simple=DataLoader(dataset=test_data_simple,\n",
        "                                   batch_size=BATCH_SIZE,\n",
        "                                   shuffle=False,\n",
        "                                   num_workers=NUMBER_OF_WORKERS)\n"
      ],
      "metadata": {
        "id": "uUgdpBStgtkZ"
      },
      "execution_count": null,
      "outputs": []
    },
    {
      "cell_type": "code",
      "source": [
        "train_dataloader_simple"
      ],
      "metadata": {
        "id": "sL11S3BcrfqD"
      },
      "execution_count": null,
      "outputs": []
    },
    {
      "cell_type": "code",
      "source": [
        "NUMBER_OF_WORKERS"
      ],
      "metadata": {
        "id": "4O8vbFb0hJ4T"
      },
      "execution_count": null,
      "outputs": []
    },
    {
      "cell_type": "markdown",
      "source": [
        "### 7.2 Create a TinyVGG Model class"
      ],
      "metadata": {
        "id": "m_B-1-7h_hpl"
      }
    },
    {
      "cell_type": "code",
      "source": [
        "class TinyVGGModel(nn.Module):\n",
        "  def __init__(self,input_shape:int,output_shape:int,hidden_units:int) -> None:\n",
        "    super().__init__()\n",
        "    self.block_1=nn.Sequential(\n",
        "        nn.Conv2d(in_channels=input_shape,\n",
        "                  out_channels=hidden_units,\n",
        "                  kernel_size=(3,3),\n",
        "                  stride=1,\n",
        "                  padding=0),\n",
        "        nn.ReLU(),\n",
        "        nn.Conv2d(in_channels=hidden_units,\n",
        "                  out_channels=hidden_units,\n",
        "                  kernel_size=(3,3),\n",
        "                  stride=1,\n",
        "                  padding=0),\n",
        "        nn.ReLU(),\n",
        "        nn.MaxPool2d(kernel_size=(2,2),\n",
        "                     stride=2)\n",
        "    )\n",
        "    self.block_2=nn.Sequential(\n",
        "        nn.Conv2d(in_channels=hidden_units,\n",
        "                  out_channels=hidden_units,\n",
        "                  kernel_size=(3,3),\n",
        "                  stride=1,\n",
        "                  padding=0),\n",
        "        nn.ReLU(),\n",
        "        nn.Conv2d(in_channels=hidden_units,\n",
        "                  out_channels=hidden_units,\n",
        "                  kernel_size=(3,3),\n",
        "                  stride=1,\n",
        "                  padding=0),\n",
        "        nn.ReLU(),\n",
        "        nn.MaxPool2d(kernel_size=(2,2),\n",
        "                     stride=2)\n",
        "    )\n",
        "    self.classifier=nn.Sequential(\n",
        "        nn.Flatten(),\n",
        "        nn.Linear(in_features=hidden_units * 13 * 13,\n",
        "                  out_features=output_shape)\n",
        "    )\n",
        "  def forward(self,x):\n",
        "    x=self.block_1(x)\n",
        "    #print(x.shape)\n",
        "    x=self.block_2(x)\n",
        "    #print(x.shape)\n",
        "    x=self.classifier(x)\n",
        "    #print(x.shape)\n",
        "    return x\n",
        "    # shape가 어떻게 블록을 통과할때 마다 unit이 어떻게 변경되는지 보기위해 print(x.shape)를 출력한다.\n",
        "    # return (classifier(self.block_2(self.block_2(x)))) benefits from operator fusion (more Speed up computation)\n",
        "    #-https://cdn.danielbmarkham.com/reference/original-articles/nerd-roundup/2022-03-18/MakeDeepLearningGoBrrrUsingFirstPrinciples.html#:~:text=Making%20Deep%20Learning%20Go%20Brrrr%20From%20First%20Principles,to%20None%21%20Install%20PyTorch%201.10.0%20but%20not%201.10.1%21%22"
      ],
      "metadata": {
        "id": "0rpOz_IZlEps"
      },
      "execution_count": null,
      "outputs": []
    },
    {
      "cell_type": "code",
      "source": [
        "torch.manual_seed(42)\n",
        "model_0=TinyVGGModel(input_shape=3,# number of color channels in our image data)\n",
        "                      hidden_units=10,\n",
        "                      output_shape=len(class_names)).to(device)\n",
        "model_0"
      ],
      "metadata": {
        "id": "jCDutnaDEx8Y"
      },
      "execution_count": null,
      "outputs": []
    },
    {
      "cell_type": "markdown",
      "source": [
        "### 7.3 Try a forward pass on a single image (to test model)"
      ],
      "metadata": {
        "id": "bvrTUgizFg-L"
      }
    },
    {
      "cell_type": "code",
      "source": [
        "# Get a single image batch\n",
        "image_batch, label_batch=next(iter(train_dataloader_simple))\n",
        "image_batch.shape,label_batch.shape"
      ],
      "metadata": {
        "id": "euz1FFilFhYr"
      },
      "execution_count": null,
      "outputs": []
    },
    {
      "cell_type": "code",
      "source": [
        "16*16*10"
      ],
      "metadata": {
        "id": "93xYDjzzd9xM"
      },
      "execution_count": null,
      "outputs": []
    },
    {
      "cell_type": "code",
      "source": [
        "# Try a forward pass\n",
        "model_0(image_batch)"
      ],
      "metadata": {
        "id": "oXygl9VFN6rz"
      },
      "execution_count": null,
      "outputs": []
    },
    {
      "cell_type": "markdown",
      "source": [
        "### 7.4 Use `torchinfo` to get an idea of the shpaes going through our model\n",
        "`torchinfo`를 사용해서 모델을 통과하는 모양에 대한 생각을 얻는다."
      ],
      "metadata": {
        "id": "ukHVtlJdjKwU"
      }
    },
    {
      "cell_type": "code",
      "source": [
        "# Install torchinfo, import if it's available\n",
        "try:\n",
        "  import torchinfo\n",
        "except:\n",
        "  !pip install torchinfo\n",
        "  import torchinfo\n",
        "\n",
        "from torchinfo import summary\n",
        "summary(model_0,input_size=[1,3,64,64])"
      ],
      "metadata": {
        "id": "cN3UU-iDxSLo"
      },
      "execution_count": null,
      "outputs": []
    },
    {
      "cell_type": "markdown",
      "source": [
        "### 7.5 Create our train and test loops functions\n",
        "\n",
        "*`train_step()` - takes in a model and dataloader and trains the model on the dataloader.\n",
        "\n",
        "*`test_step()` -takes in a model and dataloader and evaluates the model on the dataloader\n"
      ],
      "metadata": {
        "id": "kvAmgzGO0V8r"
      }
    },
    {
      "cell_type": "code",
      "source": [
        "# Create train_step()\n",
        "def train_step(model: torch.nn.Module,\n",
        "               dataloader:torch.utils.data.DataLoader,\n",
        "               loss_fn:torch.nn.Module,\n",
        "               optimizer:torch.optim.Optimizer):\n",
        "  # Put the model in train mode\n",
        "  model.train()\n",
        "\n",
        "  # Setup train loss and train accuracy values\n",
        "  train_loss,train_acc=0,0\n",
        "\n",
        "  # Loop through data loader data batches\n",
        "  for batch,(X,y) in enumerate(dataloader):\n",
        "    # Send data to the target device\n",
        "    X,y= X.to(device),y.to(device)\n",
        "\n",
        "    # 1. Forward pass\n",
        "    y_pred=model_0(X) # output model logits\n",
        "\n",
        "    # 2. Calculate Loss\n",
        "    loss=loss_fn(y_pred,y)\n",
        "    train_loss+=loss.item()\n",
        "\n",
        "    # 3. Optimizer zero grad\n",
        "    optimizer.zero_grad()\n",
        "\n",
        "    # 4. loss backward\n",
        "    loss.backward()\n",
        "\n",
        "    # 5. optimizer step\n",
        "    optimizer.step()\n",
        "\n",
        "    # Calculate the accuracy metrics\n",
        "    y_pred_class=torch.argmax(torch.softmax(y_pred,dim=1),dim=1)\n",
        "    train_acc+=(y_pred_class==y).sum().item()/len(y_pred)\n",
        "  # Adjusting metrics to get average loss and accuracy per batch\n",
        "  train_loss=train_loss/len(dataloader)\n",
        "  train_acc=train_acc/len(dataloader)\n",
        "  return train_loss,train_acc"
      ],
      "metadata": {
        "id": "C-zZpkQ-1LIK"
      },
      "execution_count": null,
      "outputs": []
    },
    {
      "cell_type": "code",
      "source": [
        "# Create a test step\n",
        "def test_step(model:torch.nn.Module,\n",
        "               dataloader:torch.utils.data.DataLoader,\n",
        "               loss_fn:torch.nn.Module):\n",
        "  # Put model in eval mode\n",
        "  model.eval()\n",
        "\n",
        "  # Setup test loss and test acc values\n",
        "  test_loss,test_acc=0,0\n",
        "  # turn on inference mode\n",
        "  with torch.inference_mode():\n",
        "    #Loop through Dataloader batches\n",
        "    for batch,(X,y) in enumerate(dataloader):\n",
        "      # Send data to the taget device\n",
        "      X,y=X.to(device),y.to(device)\n",
        "\n",
        "      # 1. Forward pass\n",
        "      test_pred_logits=model(X)\n",
        "\n",
        "      # 2. Calculate loss\n",
        "      loss=loss_fn(test_pred_logits,y)\n",
        "      test_loss+=loss.item()\n",
        "\n",
        "      # Calculate the acc\n",
        "      test_pred_labels=test_pred_logits.argmax(dim=1)\n",
        "      test_acc+=((test_pred_labels==y).sum().item()/len(test_pred_labels))\n",
        "\n",
        "  # Adjust metrics to get average loss and accuracy per batch\n",
        "  test_loss=test_loss/len(dataloader)\n",
        "  test_acc=test_acc/len(dataloader)\n",
        "  return test_loss,test_acc"
      ],
      "metadata": {
        "id": "qx7rZ-CA9U8K"
      },
      "execution_count": null,
      "outputs": []
    },
    {
      "cell_type": "code",
      "source": [
        "from torch import nn\n",
        "from torch import optim\n",
        "loss_fn=nn.CrossEntropyLoss()\n",
        "optimizer=optim.SGD(params=model_0.parameters(),lr=0.1)"
      ],
      "metadata": {
        "id": "nLcAH77_QjHq"
      },
      "execution_count": null,
      "outputs": []
    },
    {
      "cell_type": "markdown",
      "source": [
        "### 7.6 Creating a `train()` function to combine `train_step()` and `test_step()`"
      ],
      "metadata": {
        "id": "IGbTc1Z0SK_0"
      }
    },
    {
      "cell_type": "code",
      "source": [
        "# 내가 만든 train 기능\n",
        "#from tqdm import tqdm\n",
        "#epochs=3\n",
        "#for epoch in tqdm(range(epochs)):\n",
        "#  train_step(model=model_0,\n",
        "#            dataloader=train_dataloader_simple,\n",
        "#             loss_fn=loss_fn,\n",
        "#            optimizer=optimizer,\n",
        "#           device=device\n",
        "#          )\n",
        "#  test_step(model=model_0,\n",
        " #           dataloader=test_dataloader_simple,\n",
        "  #          loss_fn=loss_fn,\n",
        "   #         device=device)\n",
        "  #print(f\"test_loss and test_acc {test_step}\")\n",
        "#  print(f\"train_loss and train_acc {train_step}\")"
      ],
      "metadata": {
        "id": "BEEY9fxtPBnz"
      },
      "execution_count": null,
      "outputs": []
    },
    {
      "cell_type": "code",
      "source": [
        "from tqdm.auto import tqdm\n",
        "\n",
        "# 1. Take in various parameters required for training and test steps\n",
        "def train(model: torch.nn.Module,\n",
        "          train_dataloader: torch.utils.data.DataLoader,\n",
        "          test_dataloader: torch.utils.data.DataLoader,\n",
        "          optimizer: torch.optim.Optimizer,\n",
        "          loss_fn: torch.nn.Module = nn.CrossEntropyLoss(),\n",
        "          epochs: int = 5):\n",
        "\n",
        "    # 2. Create empty results dictionary\n",
        "    results = {\"train_loss\": [],\n",
        "        \"train_acc\": [],\n",
        "        \"test_loss\": [],\n",
        "        \"test_acc\": []\n",
        "    }\n",
        "\n",
        "    # 3. Loop through training and testing steps for a number of epochs\n",
        "    for epoch in tqdm(range(epochs)):\n",
        "        train_loss, train_acc = train_step(model=model,\n",
        "                                           dataloader=train_dataloader,\n",
        "                                           loss_fn=loss_fn,\n",
        "                                           optimizer=optimizer)\n",
        "        test_loss, test_acc = test_step(model=model,\n",
        "            dataloader=test_dataloader,\n",
        "            loss_fn=loss_fn)\n",
        "\n",
        "        # 4. Print out what's happening\n",
        "        print(\n",
        "            f\"Epoch: {epoch+1} | \"\n",
        "            f\"train_loss: {train_loss:.4f} | \"\n",
        "            f\"train_acc: {train_acc:.4f} | \"\n",
        "            f\"test_loss: {test_loss:.4f} | \"\n",
        "            f\"test_acc: {test_acc:.4f}\"\n",
        "        )\n",
        "\n",
        "        # 5. Update results dictionary\n",
        "        results[\"train_loss\"].append(train_loss)\n",
        "        results[\"train_acc\"].append(train_acc)\n",
        "        results[\"test_loss\"].append(test_loss)\n",
        "        results[\"test_acc\"].append(test_acc)\n",
        "\n",
        "    # 6. Return the filled results at the end of the epochs\n",
        "    return results"
      ],
      "metadata": {
        "id": "6zEGkGxHLWuN"
      },
      "execution_count": null,
      "outputs": []
    },
    {
      "cell_type": "markdown",
      "source": [
        "### 7.7 Train and evaluate model 0"
      ],
      "metadata": {
        "id": "Q_9TW3HcAtho"
      }
    },
    {
      "cell_type": "code",
      "source": [
        "# Set random seeds\n",
        "torch.manual_seed(42)\n",
        "torch.cuda.manual_seed(42)\n",
        "\n",
        "# Set number of epochs\n",
        "NUM_EPOCHS=20\n",
        "\n",
        " # Recreate an instance of TinyVGG\n",
        "model_0=TinyVGGModel(input_shape=3, # number of color channels of our target images\n",
        "                       hidden_units=10,\n",
        "                       output_shape=len(train_data.classes)).to(device)\n",
        "# Setup loss function and optimizer\n",
        "loss_fn= nn.CrossEntropyLoss()\n",
        "optimizer=torch.optim.Adam(params=model_0.parameters(),\n",
        "                           lr=0.001)\n",
        "\n",
        "# Start the timer\n",
        "from timeit import default_timer as timer\n",
        "start_time=timer()\n",
        "\n",
        "# Train model_0\n",
        "model_0_results=train(model=model_0,\n",
        "                      train_dataloader=train_dataloader_simple,\n",
        "                      test_dataloader=test_dataloader_simple,\n",
        "                      optimizer=optimizer,\n",
        "                      loss_fn=loss_fn,\n",
        "                      epochs=NUM_EPOCHS)\n",
        "\n",
        "# End the timer and print out how long it took\n",
        "end_time=timer()\n",
        "print(f\"Total training time:{end_time-start_time:.3f} seconds\")"
      ],
      "metadata": {
        "id": "e3ijmhREBILH"
      },
      "execution_count": null,
      "outputs": []
    },
    {
      "cell_type": "code",
      "source": [
        "model_0_results"
      ],
      "metadata": {
        "id": "YAN1W4mTjVNf"
      },
      "execution_count": null,
      "outputs": []
    },
    {
      "cell_type": "markdown",
      "source": [
        "### 7.8 Plot the loss curves of model_0\n",
        "\n",
        "A **loss curve** is a way of tracking your model's progress over time\n",
        "로스 커브는 시간에따라 모델의 진행상황을 추적하는 방법이다.\n",
        "\n",
        "a good guide for different loss curves can be see here:https://developers.google.com/machine-learning/testing-debugging/metrics/interpretic?hl=ko"
      ],
      "metadata": {
        "id": "CzibS3HjnQOS"
      }
    },
    {
      "cell_type": "code",
      "source": [
        "# Get the model_0_results keys\n",
        "model_0_results.keys()"
      ],
      "metadata": {
        "id": "Ffrd8F9XW6lU"
      },
      "execution_count": null,
      "outputs": []
    },
    {
      "cell_type": "code",
      "source": [
        "def plot_loss_curves(results: Dict[str, List[float]]):\n",
        "    \"\"\"Plots training curves of a results dictionary.\n",
        "\n",
        "    Args:\n",
        "        results (dict): dictionary containing list of values, e.g.\n",
        "            {\"train_loss\": [...],\n",
        "             \"train_acc\": [...],\n",
        "             \"test_loss\": [...],\n",
        "             \"test_acc\": [...]}\n",
        "    \"\"\"\n",
        "\n",
        "    # Get the loss values of the results dictionary (training and test)\n",
        "    loss = results['train_loss']\n",
        "    test_loss = results['test_loss']\n",
        "\n",
        "    # Get the accuracy values of the results dictionary (training and test)\n",
        "    accuracy = results['train_acc']\n",
        "    test_accuracy = results['test_acc']\n",
        "\n",
        "    # Figure out how many epochs there were\n",
        "    epochs = range(len(results['train_loss']))\n",
        "\n",
        "    # Setup a plot\n",
        "    plt.figure(figsize=(15, 7))\n",
        "\n",
        "    # Plot loss\n",
        "    plt.subplot(1, 2, 1)\n",
        "    plt.plot(epochs, loss, label='train_loss')\n",
        "    plt.plot(epochs, test_loss, label='test_loss')\n",
        "    plt.title('Loss')\n",
        "    plt.xlabel('Epochs')\n",
        "    plt.legend()\n",
        "\n",
        "    # Plot accuracy\n",
        "    plt.subplot(1, 2, 2)\n",
        "    plt.plot(epochs, accuracy, label='train_accuracy')\n",
        "    plt.plot(epochs, test_accuracy, label='test_accuracy')\n",
        "    plt.title('Accuracy')\n",
        "    plt.xlabel('Epochs')\n",
        "    plt.legend();"
      ],
      "metadata": {
        "id": "PSZX1CbWLl_y"
      },
      "execution_count": null,
      "outputs": []
    },
    {
      "cell_type": "code",
      "source": [
        "model_0_results"
      ],
      "metadata": {
        "id": "AkGuFgOxQCbf"
      },
      "execution_count": null,
      "outputs": []
    },
    {
      "cell_type": "code",
      "source": [
        "plot_loss_curves(model_0_results)"
      ],
      "metadata": {
        "id": "ZAKLEs_FiRf7"
      },
      "execution_count": null,
      "outputs": []
    },
    {
      "cell_type": "markdown",
      "source": [
        "UnderFit한 모습을 보이는 Loss Curves"
      ],
      "metadata": {
        "id": "-6NoSjcnd0O6"
      }
    },
    {
      "cell_type": "markdown",
      "source": [
        "Loss Curves 에 대한 해석\n",
        "\n",
        "https://developers.google.com/machine-learning/testing-debugging/metrics/interpretic?hl=ko"
      ],
      "metadata": {
        "id": "7_XyaG-SiAHI"
      }
    },
    {
      "cell_type": "markdown",
      "source": [
        "## 8. What should an ideal loss curve look like?\n",
        "https://developers.google.com/machine-learning/testing-debugging/metrics/interpretic?hl=ko\n",
        "\n",
        "A loss curve is one of the most helpful ways to troubleshoot a model."
      ],
      "metadata": {
        "id": "bMWr4jIuSy8e"
      }
    },
    {
      "cell_type": "markdown",
      "source": [
        "HOW TO DEAL WITH OVERFITTING - https://www.learnpytorch.io/04_pytorch_custom_datasets/#81-how-to-deal-with-overfitting\n",
        "HOW TO DEAL WITH UNDERFITTING - https://www.learnpytorch.io/04_pytorch_custom_datasets/#82-how-to-deal-with-underfitting"
      ],
      "metadata": {
        "id": "-LqLIXtQS3xx"
      }
    },
    {
      "cell_type": "markdown",
      "source": [
        "## 9. Model 1 : TinyVGG With Data Augmentation\n",
        "\n",
        "Now let's try another modelling experiment this time using the same model as before with some data augmentation"
      ],
      "metadata": {
        "id": "KVCw3xgNgRo0"
      }
    },
    {
      "cell_type": "markdown",
      "source": [
        "### 9.1  Create transform with data Augmentation"
      ],
      "metadata": {
        "id": "HcvnixtngpzB"
      }
    },
    {
      "cell_type": "code",
      "source": [
        "# Create training transform with TrivialAugment\n",
        "from torchvision import transforms\n",
        "train_transform_trivial=transforms.Compose([transforms.Resize(size=(64,64)),\n",
        "                                            transforms.TrivialAugmentWide(num_magnitude_bins=31),\n",
        "                                            transforms.ToTensor()\n",
        "                                            ])\n",
        "\n",
        "test_transform_simple=transforms.Compose([\n",
        "    transforms.Resize(size=(64,64)),\n",
        "    transforms.ToTensor()\n",
        "])"
      ],
      "metadata": {
        "id": "aWqwBBPQgpwC"
      },
      "execution_count": null,
      "outputs": []
    },
    {
      "cell_type": "markdown",
      "source": [
        "### 9.2 Create train and test `Dataset`'s and `DataLoader`'s with data augmentation"
      ],
      "metadata": {
        "id": "zHI5zoEcgpuF"
      }
    },
    {
      "cell_type": "code",
      "source": [
        "# Turn iamge folders into Dataset\n",
        "from torchvision import datasets\n",
        "train_data_augmented=datasets.ImageFolder(root=train_dir,\n",
        "                                          transform=train_transform_trivial,\n",
        "                                          )\n",
        "test_data_simple=datasets.ImageFolder(root=test_dir,\n",
        "                                         transform=test_transform_simple)"
      ],
      "metadata": {
        "id": "twxtMB0kw17T"
      },
      "execution_count": null,
      "outputs": []
    },
    {
      "cell_type": "code",
      "source": [
        "BATCH_SIZE=32\n",
        "import os\n",
        "from torch.utils.data import DataLoader\n",
        "train_dataloader_augmented=DataLoader(dataset=train_data_augmented,\n",
        "                                      batch_size=BATCH_SIZE,\n",
        "                                      shuffle=True,\n",
        "                                      num_workers=os.cpu_count()\n",
        "                                      )\n",
        "test_dataloader_simple=DataLoader(dataset=test_data_simple,\n",
        "                                     batch_size=BATCH_SIZE,\n",
        "                                     shuffle=False,\n",
        "                                     num_workers=os.cpu_count()\n",
        "                                     )"
      ],
      "metadata": {
        "id": "0fsLC5mSx1zW"
      },
      "execution_count": null,
      "outputs": []
    },
    {
      "cell_type": "markdown",
      "source": [
        "### 9.3 Construct and train model 1\n",
        "\n",
        "this time we'll be using the same model architecture except this time we've augmented the training data"
      ],
      "metadata": {
        "id": "Dqt-vfgjEKu9"
      }
    },
    {
      "cell_type": "code",
      "source": [
        "len(train_data_augmented.classes)"
      ],
      "metadata": {
        "id": "FUhAUmR-JQOm"
      },
      "execution_count": null,
      "outputs": []
    },
    {
      "cell_type": "code",
      "source": [
        "# Create model_1 and send it to the target device\n",
        "torch.manual_seed(42)\n",
        "model_1=TinyVGGModel(input_shape=3,\n",
        "                     output_shape=len(train_data_augmented.classes),\n",
        "                     hidden_units=10).to(device)\n",
        "model_1"
      ],
      "metadata": {
        "id": "yWaJ4P44H3pw"
      },
      "execution_count": null,
      "outputs": []
    },
    {
      "cell_type": "code",
      "source": [
        "from torchinfo import summary\n",
        "summary(model=model_1,input_size=(1,3,64,64))"
      ],
      "metadata": {
        "id": "0Uc782o0KJ8i"
      },
      "execution_count": null,
      "outputs": []
    },
    {
      "cell_type": "markdown",
      "source": [
        "Now we've created a model and dataloaders, let's create loss function and opitimizer and call upon our `train()` function to train and evaluate our model.\n"
      ],
      "metadata": {
        "id": "1Kl_AEmuMP8M"
      }
    },
    {
      "cell_type": "code",
      "source": [
        "# Set random seed\n",
        "torch.manual_seed(42)\n",
        "torch.cuda.manual_seed(42)\n",
        "\n",
        "# Set the number of epochs\n",
        "NUM_EPOCHS=5\n",
        "\n",
        "# Setup loss function\n",
        "loss_fn=nn.CrossEntropyLoss()\n",
        "\n",
        "# Setup optimizer\n",
        "optimizer=torch.optim.Adam(params=model_1.parameters(),\n",
        "                           lr=0.001)\n",
        "\n",
        "# Start the timer\n",
        "from timeit import default_timer as timer\n",
        "start_time=timer()\n",
        "\n",
        "# Train model_1\n",
        "model_1_results=train(epochs=NUM_EPOCHS,\n",
        "                      model=model_1,\n",
        "                      train_dataloader=train_dataloader_augmented,\n",
        "                      test_dataloader=test_dataloader_simple,\n",
        "                      optimizer=optimizer)\n",
        "\n",
        "# End the timer and print out how long it took\n",
        "end_time=timer()\n",
        "print(f\"Total training time for model : {end_time-start_time:.3f} seconds\")\n"
      ],
      "metadata": {
        "id": "QNtLF-j3OOIN"
      },
      "execution_count": null,
      "outputs": []
    },
    {
      "cell_type": "code",
      "source": [
        "plot_loss_curves(model_1_results)"
      ],
      "metadata": {
        "id": "WBDedFc_JhZx"
      },
      "execution_count": null,
      "outputs": []
    },
    {
      "cell_type": "markdown",
      "source": [
        "## 10. Compare model results\n",
        "\n",
        "After evaluating our modelling experiments on their own, it's important to compare them to each other.\n",
        "\n",
        "모델실험을 평가할때 툴들\n",
        "\n",
        "There's a few different ways to do this:\n",
        "1. Hard coding (what we're doing)\n",
        "2. PyTorch + TensorBoard - https://pytorch.org/docs/stable/tensorboard.html\n",
        "3. Weights and Biases - https://wandb.ai/site/experiment-tracking  (WandB)\n",
        "4. MLFlow - https://mlflow.org/"
      ],
      "metadata": {
        "id": "dilza9uhhmLI"
      }
    },
    {
      "cell_type": "code",
      "source": [
        "import pandas as pd\n",
        "model_0_df=pd.DataFrame(model_0_results)\n",
        "model_1_df=pd.DataFrame(model_1_results)\n",
        "model_0_df"
      ],
      "metadata": {
        "id": "UAaC4dxIjPJA"
      },
      "execution_count": null,
      "outputs": []
    },
    {
      "cell_type": "code",
      "source": [
        "# Setup plot\n",
        "plt.figure(figsize=(15,10))\n",
        "\n",
        "# Get number of epochs\n",
        "epochs=range(len(model_0_df))\n",
        "epochs\n",
        "\n",
        "# Plot train loss\n",
        "plt.subplot(2,2,1)\n",
        "plt.plot(epochs,model_0_df[\"train_loss\"],label=\"model 0 without Data Augmentation\")\n",
        "plt.plot(epochs, model_1_df[\"train_loss\"],label=\"model 1 with Data Augmentation\")\n",
        "plt.title(\"Train Loss\")\n",
        "plt.xlabel(\"Epochs\")\n",
        "plt.legend()\n",
        "\n",
        "# Plot test loss\n",
        "plt.subplot(2,2,2)\n",
        "plt.plot(epochs,model_0_df[\"test_loss\"],label=\"model 0 without Data Augmentation\")\n",
        "plt.plot(epochs, model_1_df[\"test_loss\"],label=\"model 1 with Data Augmentation\")\n",
        "plt.title(\"Test Loss\")\n",
        "plt.xlabel(\"Epochs\")\n",
        "plt.legend()\n",
        "\n",
        "# Plot Train acc\n",
        "plt.subplot(2,2,3)\n",
        "plt.plot(epochs,model_0_df[\"train_acc\"],label=\"model 0 without Data Augmentation\")\n",
        "plt.plot(epochs, model_1_df[\"train_acc\"],label=\"model 1 with Data Augmentation\")\n",
        "plt.title(\"Train Acc\")\n",
        "plt.xlabel(\"Epochs\")\n",
        "plt.legend()\n",
        "\n",
        "# Plot test acc\n",
        "plt.subplot(2,2,4)\n",
        "plt.plot(epochs,model_0_df[\"test_acc\"],label=\"model 0 without Data Augmentation\")\n",
        "plt.plot(epochs, model_1_df[\"test_acc\"],label=\"model 1 with Data Augmentation\")\n",
        "plt.title(\"Test Acc\")\n",
        "plt.xlabel(\"Epochs\")\n",
        "plt.legend()"
      ],
      "metadata": {
        "id": "UskQjdfRjvXd"
      },
      "execution_count": null,
      "outputs": []
    },
    {
      "cell_type": "markdown",
      "source": [
        "## 11. Making a prediction on a custom image\n",
        "\n",
        "Although we've trained a model on custom data... how do you make a prediction on a sample/image that's not in either training or testing datasets.\n",
        "\n",
        "  "
      ],
      "metadata": {
        "id": "rs0Lhu_qt_cq"
      }
    },
    {
      "cell_type": "code",
      "source": [
        "# Download custom image\n",
        "import requests\n",
        "\n",
        "# Setup custom image path\n",
        "custom_image_path=data_path/\"04-pizza-dat.jpeg\"\n",
        "\n",
        "# Download the image if it doesn't already exist.\n",
        "if not custom_image_path.is_file():\n",
        "  with open(custom_image_path,\"wb\") as f:\n",
        "    # When downloading from GitHub, need to use the \"raw\" file link\n",
        "    request=requests.get(\"https://github.com/mrdbourke/pytorch-deep-learning/raw/main/images/04-pizza-dad.jpeg?raw=true\")\n",
        "    print(f\"Downloading {custom_image_path}...\")\n",
        "    f.write(request.content)\n",
        "else:\n",
        "  print(f\"{custom_image_path} already exists, skipping download...\")\n"
      ],
      "metadata": {
        "id": "dZp9rxsix2uM"
      },
      "execution_count": null,
      "outputs": []
    },
    {
      "cell_type": "markdown",
      "source": [
        "### 11.1 Loading in a custom image with PyTorch\n",
        "\n",
        "We have to make sure our custom image is in the same format as the data our model was trained on.\n",
        "\n",
        "* In tensor from with datatype(torch.float32)\n",
        "* Of shape 64*64*3\n",
        "* On the right device"
      ],
      "metadata": {
        "id": "KMLr8xNXfZu5"
      }
    },
    {
      "cell_type": "code",
      "source": [
        "import torchvision\n",
        "import matplotlib.pyplot as plt\n",
        "# Read in custom image\n",
        "custom_image_uint8=torchvision.io.read_image(str(custom_image_path))\n",
        "custom_image_uint8\n",
        "\n",
        "plt.imshow(custom_image_uint8.permute(1,2,0))\n",
        "plt.axis(False)\n",
        "\n",
        "print(f\"Custom image tensor:\\n {custom_image_uint8}\")\n",
        "print(f\"Custom image shape: {custom_image_uint8.shape}\")\n",
        "print(f\"Custom image datatype: {custom_image_uint8.dtype}\")"
      ],
      "metadata": {
        "id": "zlVtdcDAgONC"
      },
      "execution_count": null,
      "outputs": []
    },
    {
      "cell_type": "markdown",
      "source": [
        "### 11.2 Making a prediction on a custom image with PyTorch Model\n",
        "\n"
      ],
      "metadata": {
        "id": "Bn3-ZRo_3eQN"
      }
    },
    {
      "cell_type": "code",
      "source": [
        "img"
      ],
      "metadata": {
        "id": "K6lpKxowQmsA"
      },
      "execution_count": null,
      "outputs": []
    },
    {
      "cell_type": "code",
      "source": [
        "# Load in the custom image and convert to torch.float32\n",
        "custom_image=torchvision.io.read_image(str(custom_image_path)).type(torch.float32) / 255. # img와는 다르게 datatype이 int이므로 255.으로 나누어\n",
        "custom_image"
      ],
      "metadata": {
        "id": "8u1LqzWxQjth"
      },
      "execution_count": null,
      "outputs": []
    },
    {
      "cell_type": "code",
      "source": [
        "plt.imshow(custom_image.permute(1,2,0))"
      ],
      "metadata": {
        "id": "R1vOAWAGQ4Y8"
      },
      "execution_count": null,
      "outputs": []
    },
    {
      "cell_type": "code",
      "source": [
        "# Try to make a prediction on an image in uint8 format\n",
        "model_1.eval()\n",
        "with torch.inference_mode():\n",
        "  model_1(custom_image.to(device))"
      ],
      "metadata": {
        "id": "fEd1KzDGHlH4"
      },
      "execution_count": null,
      "outputs": []
    },
    {
      "cell_type": "code",
      "source": [
        "# Create transform pipeline to resize image\n",
        "from torchvision import transforms\n",
        "custom_image_transform=transforms.Compose([\n",
        "    transforms.Resize(size=(64,64))\n",
        "])\n",
        "\n",
        "# Transform target image\n",
        "custom_image_transformed=custom_image_transform(custom_image)\n",
        "\n",
        "# Print out the shape\n",
        "print(f\"Original shape: {custom_image.shape}\")\n",
        "print(f\"Transformed shape : {custom_image_transformed.shape}\")\n",
        "\n",
        "plt.imshow(custom_image_transformed.permute(1,2,0))"
      ],
      "metadata": {
        "id": "2--ghct8RFpu"
      },
      "execution_count": null,
      "outputs": []
    },
    {
      "cell_type": "code",
      "source": [
        "# This will error:no batch size\n",
        "model_1.eval()\n",
        "with torch.inference_mode():\n",
        "  custom_image_pred=model_1(custom_image_transformed.to(device))"
      ],
      "metadata": {
        "id": "BchT6N_PT0Q1"
      },
      "execution_count": null,
      "outputs": []
    },
    {
      "cell_type": "code",
      "source": [
        "custom_image_transformed.unsqueeze(dim=0).shape"
      ],
      "metadata": {
        "id": "ntfjfrS8UPVV"
      },
      "execution_count": null,
      "outputs": []
    },
    {
      "cell_type": "code",
      "source": [
        "# This should this work? (added a batch_size)\n",
        "model_1.eval()\n",
        "with torch.inference_mode():\n",
        "  custom_image_pred=model_1(custom_image_transformed.unsqueeze(dim=0).to(device))\n",
        "custom_image_pred"
      ],
      "metadata": {
        "id": "IFwt2U7RUiT_"
      },
      "execution_count": null,
      "outputs": []
    },
    {
      "cell_type": "code",
      "source": [
        "custom_image_pred.shape"
      ],
      "metadata": {
        "id": "1e-caMjSKTvH"
      },
      "execution_count": null,
      "outputs": []
    },
    {
      "cell_type": "markdown",
      "source": [
        "Note, to make a prediction on a custom image we had to:\n",
        "* Load the image and turn it into a tensor\n",
        "* Make sure the image was the same datatype as the model(torch.float32)\n",
        "* Make sure the image was the same shape as the data the model was trained on (3x64x64) with a batch size(1,3,64,64)\n",
        "* Make sure the image was on the same device as our model\n"
      ],
      "metadata": {
        "id": "-uOOLU3DU1nO"
      }
    },
    {
      "cell_type": "code",
      "source": [
        "# Convert logits -> prediction probabilities\n",
        "custom_image_pred_probs=torch.softmax(custom_image_pred,dim=1)\n",
        "custom_image_pred_probs # 별로 좋지않은 성능 그이유는, 각각의 확률이 비슷함.."
      ],
      "metadata": {
        "id": "1oJlm4DDJt79"
      },
      "execution_count": null,
      "outputs": []
    },
    {
      "cell_type": "code",
      "source": [
        "# Convert prediction probabilities -> prediction labels\n",
        "custom_image_pred_label=torch.argmax(custom_image_pred_probs,dim=1)\n",
        "custom_image_pred_label"
      ],
      "metadata": {
        "id": "xDR351peNEce"
      },
      "execution_count": null,
      "outputs": []
    },
    {
      "cell_type": "code",
      "source": [
        "class_names[custom_image_pred_label]"
      ],
      "metadata": {
        "id": "hzUoTPWBNUkM"
      },
      "execution_count": null,
      "outputs": []
    },
    {
      "cell_type": "markdown",
      "source": [
        "### 11.3 Putting custom Image prediction together: building a function\n",
        "\n",
        "ideal outcome:\n",
        "\n",
        "A function where we pass an image path to and have our model predict on that image and plot image prediction."
      ],
      "metadata": {
        "id": "CBpTM8dpNjX-"
      }
    },
    {
      "cell_type": "code",
      "source": [
        "# Function # 내가 만든 function\n",
        "\n",
        "import torchvision\n",
        "import matplotlib.pyplot as plt\n",
        "def plot_custom_image_prediction(target_path:str,\n",
        "                                 model:torch.nn.Module,\n",
        "                                 transform:torchvision.transforms.Compose,\n",
        "                                 class_names=class_names\n",
        "                                 ):\n",
        "  custom_image_format_uint8_to_float32=(torchvision.io.read_image(str(target_path))/255).type(torch.float32)\n",
        "  custom_transformed_image=transform(custom_image_format_uint8_to_float32)\n",
        "  model.eval()\n",
        "  with torch.inference_mode():\n",
        "    custom_image_pred=model(custom_transformed_image.unsqueeze(dim=0))\n",
        "  custom_image_pred_probs=torch.softmax(custom_image_pred,dim=1)\n",
        "  custom_image_pred_label=torch.argmax(custom_image_pred_probs,dim=1)\n",
        "  plt.imshow(custom_transformed_image.permute(1,2,0))\n",
        "  plt.title(label=class_names[custom_image_pred_label])\n",
        "  plt.axis(False)\n",
        "  print(f\"This is custom_image_pred_probs : {custom_image_pred_probs}\")\n",
        "  print(f\"This is custom_image_pred_label : {custom_image_pred_label}\")"
      ],
      "metadata": {
        "id": "4m2ilt80N0ZP"
      },
      "execution_count": null,
      "outputs": []
    },
    {
      "cell_type": "code",
      "source": [
        "plot_custom_image_prediction(target_path=\"/content/data/sushi.jpg\",\n",
        "                             model=model_1,\n",
        "                             transform=custom_image_transform,\n",
        "                             class_names=class_names)"
      ],
      "metadata": {
        "id": "SClZTzlGSDMS"
      },
      "execution_count": null,
      "outputs": []
    },
    {
      "cell_type": "code",
      "source": [
        "def pred_and_plot_image(model:torch.nn.Module,\n",
        "                        image_path:str,\n",
        "                        class_names:List[str]=None,\n",
        "                        transform=None,\n",
        "                        device=device):\n",
        "  \"\"\"Make a prediction on a target image with a trained model and plots the image and prediction.\"\"\"\n",
        "  # Load in the image\n",
        "  target_image=torchvision.io.read_image(str(image_path))"
      ],
      "metadata": {
        "id": "rGY702Irrj1K"
      },
      "execution_count": null,
      "outputs": []
    }
  ]
}